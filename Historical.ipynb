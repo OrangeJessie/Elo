{
 "cells": [
  {
   "cell_type": "code",
   "execution_count": 1,
   "metadata": {
    "ExecuteTime": {
     "end_time": "2019-01-23T02:42:26.869825Z",
     "start_time": "2019-01-23T02:42:13.502766Z"
    }
   },
   "outputs": [],
   "source": [
    "import pandas as pd\n",
    "import numpy as np\n",
    "import seaborn as sns\n",
    "import warnings\n",
    "import matplotlib.pyplot as plt\n",
    "from sklearn.preprocessing import OneHotEncoder\n",
    "from scipy import sparse\n",
    "pd.set_option('max_columns', 200)\n",
    "pd.set_option('max_colwidth', 200)\n",
    "pd.set_option('max_rows', 100)\n",
    "warnings.filterwarnings('ignore')\n",
    "\n",
    "%matplotlib inline"
   ]
  },
  {
   "cell_type": "markdown",
   "metadata": {},
   "source": [
    "historical_transactions是过去3个月每个商户的所以交易用户信息，new_merchant_transactions是2个月内特定用户还没有涉及到的商户信息"
   ]
  },
  {
   "cell_type": "markdown",
   "metadata": {},
   "source": [
    "# 观察数据"
   ]
  },
  {
   "cell_type": "code",
   "execution_count": 2,
   "metadata": {
    "ExecuteTime": {
     "end_time": "2019-01-17T10:21:21.791009Z",
     "start_time": "2019-01-17T10:20:17.440306Z"
    }
   },
   "outputs": [],
   "source": [
    "historical = pd.read_csv('data/historical_transactions.csv')"
   ]
  },
  {
   "cell_type": "code",
   "execution_count": 21,
   "metadata": {
    "ExecuteTime": {
     "end_time": "2019-01-17T11:41:21.248497Z",
     "start_time": "2019-01-17T11:41:21.180680Z"
    }
   },
   "outputs": [
    {
     "name": "stdout",
     "output_type": "stream",
     "text": [
      "<class 'pandas.core.frame.DataFrame'>\n",
      "RangeIndex: 29112361 entries, 0 to 29112360\n",
      "Data columns (total 14 columns):\n",
      "authorized_flag         object\n",
      "card_id                 object\n",
      "city_id                 int64\n",
      "category_1              object\n",
      "installments            int64\n",
      "category_3              object\n",
      "merchant_category_id    int64\n",
      "merchant_id             object\n",
      "month_lag               int64\n",
      "purchase_amount         float64\n",
      "purchase_date           object\n",
      "category_2              float64\n",
      "state_id                int64\n",
      "subsector_id            int64\n",
      "dtypes: float64(2), int64(6), object(6)\n",
      "memory usage: 3.0+ GB\n"
     ]
    }
   ],
   "source": [
    "historical.info()"
   ]
  },
  {
   "cell_type": "code",
   "execution_count": 3,
   "metadata": {
    "ExecuteTime": {
     "end_time": "2019-01-17T10:21:24.129753Z",
     "start_time": "2019-01-17T10:21:23.142394Z"
    }
   },
   "outputs": [
    {
     "data": {
      "text/html": [
       "<div>\n",
       "<style scoped>\n",
       "    .dataframe tbody tr th:only-of-type {\n",
       "        vertical-align: middle;\n",
       "    }\n",
       "\n",
       "    .dataframe tbody tr th {\n",
       "        vertical-align: top;\n",
       "    }\n",
       "\n",
       "    .dataframe thead th {\n",
       "        text-align: right;\n",
       "    }\n",
       "</style>\n",
       "<table border=\"1\" class=\"dataframe\">\n",
       "  <thead>\n",
       "    <tr style=\"text-align: right;\">\n",
       "      <th></th>\n",
       "      <th>authorized_flag</th>\n",
       "      <th>card_id</th>\n",
       "      <th>city_id</th>\n",
       "      <th>category_1</th>\n",
       "      <th>installments</th>\n",
       "      <th>category_3</th>\n",
       "      <th>merchant_category_id</th>\n",
       "      <th>merchant_id</th>\n",
       "      <th>month_lag</th>\n",
       "      <th>purchase_amount</th>\n",
       "      <th>purchase_date</th>\n",
       "      <th>category_2</th>\n",
       "      <th>state_id</th>\n",
       "      <th>subsector_id</th>\n",
       "    </tr>\n",
       "  </thead>\n",
       "  <tbody>\n",
       "    <tr>\n",
       "      <th>0</th>\n",
       "      <td>Y</td>\n",
       "      <td>C_ID_4e6213e9bc</td>\n",
       "      <td>88</td>\n",
       "      <td>N</td>\n",
       "      <td>0</td>\n",
       "      <td>A</td>\n",
       "      <td>80</td>\n",
       "      <td>M_ID_e020e9b302</td>\n",
       "      <td>-8</td>\n",
       "      <td>-0.703331</td>\n",
       "      <td>2017-06-25 15:33:07</td>\n",
       "      <td>1.0</td>\n",
       "      <td>16</td>\n",
       "      <td>37</td>\n",
       "    </tr>\n",
       "    <tr>\n",
       "      <th>1</th>\n",
       "      <td>Y</td>\n",
       "      <td>C_ID_4e6213e9bc</td>\n",
       "      <td>88</td>\n",
       "      <td>N</td>\n",
       "      <td>0</td>\n",
       "      <td>A</td>\n",
       "      <td>367</td>\n",
       "      <td>M_ID_86ec983688</td>\n",
       "      <td>-7</td>\n",
       "      <td>-0.733128</td>\n",
       "      <td>2017-07-15 12:10:45</td>\n",
       "      <td>1.0</td>\n",
       "      <td>16</td>\n",
       "      <td>16</td>\n",
       "    </tr>\n",
       "    <tr>\n",
       "      <th>2</th>\n",
       "      <td>Y</td>\n",
       "      <td>C_ID_4e6213e9bc</td>\n",
       "      <td>88</td>\n",
       "      <td>N</td>\n",
       "      <td>0</td>\n",
       "      <td>A</td>\n",
       "      <td>80</td>\n",
       "      <td>M_ID_979ed661fc</td>\n",
       "      <td>-6</td>\n",
       "      <td>-0.720386</td>\n",
       "      <td>2017-08-09 22:04:29</td>\n",
       "      <td>1.0</td>\n",
       "      <td>16</td>\n",
       "      <td>37</td>\n",
       "    </tr>\n",
       "    <tr>\n",
       "      <th>3</th>\n",
       "      <td>Y</td>\n",
       "      <td>C_ID_4e6213e9bc</td>\n",
       "      <td>88</td>\n",
       "      <td>N</td>\n",
       "      <td>0</td>\n",
       "      <td>A</td>\n",
       "      <td>560</td>\n",
       "      <td>M_ID_e6d5ae8ea6</td>\n",
       "      <td>-5</td>\n",
       "      <td>-0.735352</td>\n",
       "      <td>2017-09-02 10:06:26</td>\n",
       "      <td>1.0</td>\n",
       "      <td>16</td>\n",
       "      <td>34</td>\n",
       "    </tr>\n",
       "    <tr>\n",
       "      <th>4</th>\n",
       "      <td>Y</td>\n",
       "      <td>C_ID_4e6213e9bc</td>\n",
       "      <td>88</td>\n",
       "      <td>N</td>\n",
       "      <td>0</td>\n",
       "      <td>A</td>\n",
       "      <td>80</td>\n",
       "      <td>M_ID_e020e9b302</td>\n",
       "      <td>-11</td>\n",
       "      <td>-0.722865</td>\n",
       "      <td>2017-03-10 01:14:19</td>\n",
       "      <td>1.0</td>\n",
       "      <td>16</td>\n",
       "      <td>37</td>\n",
       "    </tr>\n",
       "  </tbody>\n",
       "</table>\n",
       "</div>"
      ],
      "text/plain": [
       "  authorized_flag          card_id  city_id category_1  installments  \\\n",
       "0               Y  C_ID_4e6213e9bc       88          N             0   \n",
       "1               Y  C_ID_4e6213e9bc       88          N             0   \n",
       "2               Y  C_ID_4e6213e9bc       88          N             0   \n",
       "3               Y  C_ID_4e6213e9bc       88          N             0   \n",
       "4               Y  C_ID_4e6213e9bc       88          N             0   \n",
       "\n",
       "  category_3  merchant_category_id      merchant_id  month_lag  \\\n",
       "0          A                    80  M_ID_e020e9b302         -8   \n",
       "1          A                   367  M_ID_86ec983688         -7   \n",
       "2          A                    80  M_ID_979ed661fc         -6   \n",
       "3          A                   560  M_ID_e6d5ae8ea6         -5   \n",
       "4          A                    80  M_ID_e020e9b302        -11   \n",
       "\n",
       "   purchase_amount        purchase_date  category_2  state_id  subsector_id  \n",
       "0        -0.703331  2017-06-25 15:33:07         1.0        16            37  \n",
       "1        -0.733128  2017-07-15 12:10:45         1.0        16            16  \n",
       "2        -0.720386  2017-08-09 22:04:29         1.0        16            37  \n",
       "3        -0.735352  2017-09-02 10:06:26         1.0        16            34  \n",
       "4        -0.722865  2017-03-10 01:14:19         1.0        16            37  "
      ]
     },
     "execution_count": 3,
     "metadata": {},
     "output_type": "execute_result"
    }
   ],
   "source": [
    "historical.head()"
   ]
  },
  {
   "cell_type": "code",
   "execution_count": 5,
   "metadata": {
    "ExecuteTime": {
     "end_time": "2019-01-15T08:06:33.431585Z",
     "start_time": "2019-01-15T08:05:09.280553Z"
    }
   },
   "outputs": [
    {
     "data": {
      "text/html": [
       "<div>\n",
       "<style scoped>\n",
       "    .dataframe tbody tr th:only-of-type {\n",
       "        vertical-align: middle;\n",
       "    }\n",
       "\n",
       "    .dataframe tbody tr th {\n",
       "        vertical-align: top;\n",
       "    }\n",
       "\n",
       "    .dataframe thead th {\n",
       "        text-align: right;\n",
       "    }\n",
       "</style>\n",
       "<table border=\"1\" class=\"dataframe\">\n",
       "  <thead>\n",
       "    <tr style=\"text-align: right;\">\n",
       "      <th></th>\n",
       "      <th>Feature</th>\n",
       "      <th>Unique values</th>\n",
       "      <th>Missing values</th>\n",
       "      <th>Percentage of biggest category</th>\n",
       "      <th>type</th>\n",
       "    </tr>\n",
       "  </thead>\n",
       "  <tbody>\n",
       "    <tr>\n",
       "      <th>3</th>\n",
       "      <td>category_1</td>\n",
       "      <td>2</td>\n",
       "      <td>0.000000</td>\n",
       "      <td>0.928414</td>\n",
       "      <td>object</td>\n",
       "    </tr>\n",
       "    <tr>\n",
       "      <th>0</th>\n",
       "      <td>authorized_flag</td>\n",
       "      <td>2</td>\n",
       "      <td>0.000000</td>\n",
       "      <td>0.913545</td>\n",
       "      <td>object</td>\n",
       "    </tr>\n",
       "    <tr>\n",
       "      <th>4</th>\n",
       "      <td>installments</td>\n",
       "      <td>15</td>\n",
       "      <td>0.000000</td>\n",
       "      <td>0.529388</td>\n",
       "      <td>int64</td>\n",
       "    </tr>\n",
       "    <tr>\n",
       "      <th>5</th>\n",
       "      <td>category_3</td>\n",
       "      <td>3</td>\n",
       "      <td>0.006120</td>\n",
       "      <td>0.529388</td>\n",
       "      <td>object</td>\n",
       "    </tr>\n",
       "    <tr>\n",
       "      <th>11</th>\n",
       "      <td>category_2</td>\n",
       "      <td>5</td>\n",
       "      <td>0.091125</td>\n",
       "      <td>0.521332</td>\n",
       "      <td>float64</td>\n",
       "    </tr>\n",
       "    <tr>\n",
       "      <th>12</th>\n",
       "      <td>state_id</td>\n",
       "      <td>25</td>\n",
       "      <td>0.000000</td>\n",
       "      <td>0.363038</td>\n",
       "      <td>int64</td>\n",
       "    </tr>\n",
       "    <tr>\n",
       "      <th>13</th>\n",
       "      <td>subsector_id</td>\n",
       "      <td>41</td>\n",
       "      <td>0.000000</td>\n",
       "      <td>0.192157</td>\n",
       "      <td>int64</td>\n",
       "    </tr>\n",
       "    <tr>\n",
       "      <th>6</th>\n",
       "      <td>merchant_category_id</td>\n",
       "      <td>327</td>\n",
       "      <td>0.000000</td>\n",
       "      <td>0.190778</td>\n",
       "      <td>int64</td>\n",
       "    </tr>\n",
       "    <tr>\n",
       "      <th>2</th>\n",
       "      <td>city_id</td>\n",
       "      <td>308</td>\n",
       "      <td>0.000000</td>\n",
       "      <td>0.166096</td>\n",
       "      <td>int64</td>\n",
       "    </tr>\n",
       "    <tr>\n",
       "      <th>8</th>\n",
       "      <td>month_lag</td>\n",
       "      <td>14</td>\n",
       "      <td>0.000000</td>\n",
       "      <td>0.132496</td>\n",
       "      <td>int64</td>\n",
       "    </tr>\n",
       "    <tr>\n",
       "      <th>7</th>\n",
       "      <td>merchant_id</td>\n",
       "      <td>326311</td>\n",
       "      <td>0.004757</td>\n",
       "      <td>0.038303</td>\n",
       "      <td>object</td>\n",
       "    </tr>\n",
       "    <tr>\n",
       "      <th>9</th>\n",
       "      <td>purchase_amount</td>\n",
       "      <td>215014</td>\n",
       "      <td>0.000000</td>\n",
       "      <td>0.023608</td>\n",
       "      <td>float64</td>\n",
       "    </tr>\n",
       "    <tr>\n",
       "      <th>10</th>\n",
       "      <td>purchase_date</td>\n",
       "      <td>16395300</td>\n",
       "      <td>0.000000</td>\n",
       "      <td>0.000899</td>\n",
       "      <td>object</td>\n",
       "    </tr>\n",
       "    <tr>\n",
       "      <th>1</th>\n",
       "      <td>card_id</td>\n",
       "      <td>325540</td>\n",
       "      <td>0.000000</td>\n",
       "      <td>0.000192</td>\n",
       "      <td>object</td>\n",
       "    </tr>\n",
       "  </tbody>\n",
       "</table>\n",
       "</div>"
      ],
      "text/plain": [
       "                 Feature  Unique values  Missing values  \\\n",
       "3             category_1              2        0.000000   \n",
       "0        authorized_flag              2        0.000000   \n",
       "4           installments             15        0.000000   \n",
       "5             category_3              3        0.006120   \n",
       "11            category_2              5        0.091125   \n",
       "12              state_id             25        0.000000   \n",
       "13          subsector_id             41        0.000000   \n",
       "6   merchant_category_id            327        0.000000   \n",
       "2                city_id            308        0.000000   \n",
       "8              month_lag             14        0.000000   \n",
       "7            merchant_id         326311        0.004757   \n",
       "9        purchase_amount         215014        0.000000   \n",
       "10         purchase_date       16395300        0.000000   \n",
       "1                card_id         325540        0.000000   \n",
       "\n",
       "    Percentage of biggest category     type  \n",
       "3                         0.928414   object  \n",
       "0                         0.913545   object  \n",
       "4                         0.529388    int64  \n",
       "5                         0.529388   object  \n",
       "11                        0.521332  float64  \n",
       "12                        0.363038    int64  \n",
       "13                        0.192157    int64  \n",
       "6                         0.190778    int64  \n",
       "2                         0.166096    int64  \n",
       "8                         0.132496    int64  \n",
       "7                         0.038303   object  \n",
       "9                         0.023608  float64  \n",
       "10                        0.000899   object  \n",
       "1                         0.000192   object  "
      ]
     },
     "execution_count": 5,
     "metadata": {},
     "output_type": "execute_result"
    }
   ],
   "source": [
    "states = []\n",
    "for col in historical.columns:\n",
    "    states.append((col, historical[col].nunique(), historical[col].isnull().sum()/historical.shape[0], historical[col].value_counts(normalize=True, dropna=False).values[0], historical[col].dtype))\n",
    "state_df = pd.DataFrame(states, columns=['Feature', 'Unique values', 'Missing values', 'Percentage of biggest category', 'type'])\n",
    "state_df.sort_values('Percentage of biggest category', ascending=False)"
   ]
  },
  {
   "cell_type": "code",
   "execution_count": 66,
   "metadata": {
    "ExecuteTime": {
     "end_time": "2019-01-16T11:22:41.594514Z",
     "start_time": "2019-01-16T11:22:40.962000Z"
    }
   },
   "outputs": [
    {
     "data": {
      "text/plain": [
       " 0     15411747\n",
       " 1     11677522\n",
       " 2       666416\n",
       " 3       538207\n",
       " 4       179525\n",
       "-1       178347\n",
       " 6       132634\n",
       " 10      118827\n",
       " 5       116090\n",
       " 12       55064\n",
       " 8        20474\n",
       " 7        10906\n",
       " 9         5772\n",
       " 11         830\n",
       "Name: installments, dtype: int64"
      ]
     },
     "execution_count": 66,
     "metadata": {},
     "output_type": "execute_result"
    }
   ],
   "source": [
    "historical['installments'].value_counts()"
   ]
  },
  {
   "cell_type": "code",
   "execution_count": 17,
   "metadata": {
    "ExecuteTime": {
     "end_time": "2019-01-17T11:39:39.167984Z",
     "start_time": "2019-01-17T11:39:21.750568Z"
    }
   },
   "outputs": [],
   "source": [
    "# purchase_date = pd.DataFrame(historical['purchase_date'].apply(lambda x: x.split(' ')[0]))\n",
    "purchase_date = pd.DataFrame(purchase_date['purchase_date'].apply(lambda x: x.split('-')[0] + x.split('-')[1]))"
   ]
  },
  {
   "cell_type": "code",
   "execution_count": 27,
   "metadata": {
    "ExecuteTime": {
     "end_time": "2019-01-18T01:31:09.515171Z",
     "start_time": "2019-01-18T01:31:08.510863Z"
    }
   },
   "outputs": [
    {
     "data": {
      "text/plain": [
       "201703    872346\n",
       "201702     78300\n",
       "201701     57232\n",
       "Name: purchase_date, dtype: int64"
      ]
     },
     "execution_count": 27,
     "metadata": {},
     "output_type": "execute_result"
    }
   ],
   "source": [
    "purchase_date['month_lag'] = historical['month_lag']\n",
    "purchase_date['purchase_date'][purchase_date['month_lag'] == -11].value_counts()"
   ]
  },
  {
   "cell_type": "code",
   "execution_count": 28,
   "metadata": {
    "ExecuteTime": {
     "end_time": "2019-01-18T01:31:12.510160Z",
     "start_time": "2019-01-18T01:31:11.877853Z"
    }
   },
   "outputs": [
    {
     "data": {
      "text/plain": [
       "201702    718186\n",
       "201701     73787\n",
       "Name: purchase_date, dtype: int64"
      ]
     },
     "execution_count": 28,
     "metadata": {},
     "output_type": "execute_result"
    }
   ],
   "source": [
    "purchase_date['month_lag'] = historical['month_lag']\n",
    "purchase_date['purchase_date'][purchase_date['month_lag'] == -12].value_counts()"
   ]
  },
  {
   "cell_type": "code",
   "execution_count": 29,
   "metadata": {
    "ExecuteTime": {
     "end_time": "2019-01-18T01:31:15.863191Z",
     "start_time": "2019-01-18T01:31:15.487197Z"
    }
   },
   "outputs": [
    {
     "data": {
      "text/plain": [
       "201701    689097\n",
       "Name: purchase_date, dtype: int64"
      ]
     },
     "execution_count": 29,
     "metadata": {},
     "output_type": "execute_result"
    }
   ],
   "source": [
    "purchase_date['purchase_date'][purchase_date['month_lag'] == -13].value_counts()"
   ]
  },
  {
   "cell_type": "markdown",
   "metadata": {},
   "source": [
    "# 数据处理"
   ]
  },
  {
   "cell_type": "code",
   "execution_count": 2,
   "metadata": {
    "ExecuteTime": {
     "end_time": "2019-01-23T02:44:18.352932Z",
     "start_time": "2019-01-23T02:42:30.179737Z"
    }
   },
   "outputs": [],
   "source": [
    "historical = pd.read_csv('data/historical_transactions.csv')"
   ]
  },
  {
   "cell_type": "markdown",
   "metadata": {},
   "source": [
    "## 时间转换"
   ]
  },
  {
   "cell_type": "code",
   "execution_count": 3,
   "metadata": {
    "ExecuteTime": {
     "end_time": "2019-01-23T02:44:35.745797Z",
     "start_time": "2019-01-23T02:44:35.738815Z"
    }
   },
   "outputs": [],
   "source": [
    "def purchase_day(x):\n",
    "    big, small = x.split(' ')\n",
    "    year, month, day = big.split('-')\n",
    "    all_day = (int(year)*12+int(month)-24143)*30 + int(day)\n",
    "    return all_day\n",
    "\n",
    "def purchase_month(x):\n",
    "    big, small = x.split(' ')\n",
    "    year, month, day = big.split('-')\n",
    "    return month\n",
    "\n",
    "def purchase_second(x):\n",
    "    big, small = x.split(' ')\n",
    "    hour, minite, second = small.split(':')\n",
    "    all_second = int(hour)*24*60 + int(minite)*60 + int(second)\n",
    "    return all_second"
   ]
  },
  {
   "cell_type": "code",
   "execution_count": 4,
   "metadata": {
    "ExecuteTime": {
     "end_time": "2019-01-23T02:48:49.891445Z",
     "start_time": "2019-01-23T02:47:02.088132Z"
    }
   },
   "outputs": [],
   "source": [
    "historical['purchase_day'] = historical['purchase_date'].apply(purchase_day)\n",
    "historical['purchase_second'] = historical['purchase_date'].apply(purchase_second)"
   ]
  },
  {
   "cell_type": "code",
   "execution_count": null,
   "metadata": {
    "ExecuteTime": {
     "start_time": "2019-01-23T02:49:05.148Z"
    }
   },
   "outputs": [],
   "source": [
    "historical['purchase_month'] = historical['purchase_date'].apply(purchase_month)\n",
    "historical = historical.drop('purchase_date', axis=1)"
   ]
  },
  {
   "cell_type": "markdown",
   "metadata": {},
   "source": [
    "## 处理异常值"
   ]
  },
  {
   "cell_type": "code",
   "execution_count": 5,
   "metadata": {
    "ExecuteTime": {
     "end_time": "2019-01-22T08:41:01.771288Z",
     "start_time": "2019-01-22T08:41:00.776952Z"
    }
   },
   "outputs": [],
   "source": [
    "# 处理分期付款的异常值\n",
    "historical['installments'][historical['installments'] == 999] = -1"
   ]
  },
  {
   "cell_type": "markdown",
   "metadata": {},
   "source": [
    "## 同一merchant_id购买记录"
   ]
  },
  {
   "cell_type": "markdown",
   "metadata": {},
   "source": [
    "用户在同一商家购买的次数"
   ]
  },
  {
   "cell_type": "code",
   "execution_count": 6,
   "metadata": {
    "ExecuteTime": {
     "end_time": "2019-01-16T06:47:58.434006Z",
     "start_time": "2019-01-16T06:47:55.661964Z"
    }
   },
   "outputs": [],
   "source": [
    "card_feature = historical[['card_id']]\n",
    "card_feature = card_feature.drop_duplicates().reset_index(drop=True)"
   ]
  },
  {
   "cell_type": "code",
   "execution_count": 7,
   "metadata": {
    "ExecuteTime": {
     "end_time": "2019-01-16T06:47:58.971732Z",
     "start_time": "2019-01-16T06:47:58.456944Z"
    }
   },
   "outputs": [],
   "source": [
    "t = historical[['card_id', 'merchant_id']]\n",
    "t['same_merchant_count'] = 1"
   ]
  },
  {
   "cell_type": "code",
   "execution_count": 8,
   "metadata": {
    "ExecuteTime": {
     "end_time": "2019-01-16T06:48:10.669424Z",
     "start_time": "2019-01-16T06:47:58.998628Z"
    }
   },
   "outputs": [],
   "source": [
    "t1 = t.groupby(['card_id', 'merchant_id']).count()"
   ]
  },
  {
   "cell_type": "markdown",
   "metadata": {},
   "source": [
    "以card_id为结合——用户在同一家商家购买的次数的最大、最小、中位数、平均数"
   ]
  },
  {
   "cell_type": "code",
   "execution_count": 9,
   "metadata": {
    "ExecuteTime": {
     "end_time": "2019-01-16T06:50:30.912302Z",
     "start_time": "2019-01-16T06:48:11.106478Z"
    }
   },
   "outputs": [],
   "source": [
    "t2 = t1.reset_index().groupby('card_id').max()[['same_merchant_count']].reset_index()\n",
    "t2 = t2.rename(columns={'same_merchant_count': 'same_merchant_max'})\n",
    "t3 = t1.reset_index().groupby('card_id').mean()[['same_merchant_count']].reset_index()\n",
    "t3 = t3.rename(columns={'same_merchant_count': 'same_merchant_mean'})\n",
    "t4 = t1.reset_index().groupby('card_id').min()[['same_merchant_count']].reset_index()\n",
    "t4 = t4.rename(columns={'same_merchant_count': 'same_merchant_min'})\n",
    "t5 = t1.reset_index().groupby('card_id').median()[['same_merchant_count']].reset_index()\n",
    "t5 = t5.rename(columns={'same_merchant_count': 'same_merchant_median'})"
   ]
  },
  {
   "cell_type": "code",
   "execution_count": 10,
   "metadata": {
    "ExecuteTime": {
     "end_time": "2019-01-16T06:50:34.666987Z",
     "start_time": "2019-01-16T06:50:30.962169Z"
    }
   },
   "outputs": [],
   "source": [
    "t1['num_merchant'] = 1\n",
    "t6 = t1.reset_index()[['card_id', 'num_merchant']].groupby('card_id').count().reset_index()"
   ]
  },
  {
   "cell_type": "code",
   "execution_count": 11,
   "metadata": {
    "ExecuteTime": {
     "end_time": "2019-01-16T06:50:38.153110Z",
     "start_time": "2019-01-16T06:50:34.760725Z"
    }
   },
   "outputs": [],
   "source": [
    "t['same_card_count'] = 1\n",
    "t7 = t[['card_id', 'same_card_count']].groupby('card_id').count().reset_index()"
   ]
  },
  {
   "cell_type": "code",
   "execution_count": 12,
   "metadata": {
    "ExecuteTime": {
     "end_time": "2019-01-16T06:50:39.654496Z",
     "start_time": "2019-01-16T06:50:38.211922Z"
    }
   },
   "outputs": [],
   "source": [
    "card_feature = pd.merge(card_feature, t2, on='card_id', how='left')\n",
    "card_feature = pd.merge(card_feature, t3, on='card_id', how='left')\n",
    "card_feature = pd.merge(card_feature, t4, on='card_id', how='left')\n",
    "card_feature = pd.merge(card_feature, t5, on='card_id', how='left')\n",
    "card_feature = pd.merge(card_feature, t6, on='card_id', how='left')\n",
    "card_feature = pd.merge(card_feature, t7, on='card_id', how='left')"
   ]
  },
  {
   "cell_type": "code",
   "execution_count": 13,
   "metadata": {
    "ExecuteTime": {
     "end_time": "2019-01-16T06:50:40.147795Z",
     "start_time": "2019-01-16T06:50:39.714308Z"
    }
   },
   "outputs": [],
   "source": [
    "card_feature['merchant_max_rate'] = card_feature['same_merchant_max']/card_feature['same_card_count']\n",
    "card_feature['merchant_mean_rate'] = card_feature['same_merchant_mean']/card_feature['same_card_count']\n",
    "card_feature['merchant_min_rate'] = card_feature['same_merchant_min']/card_feature['same_card_count']\n",
    "card_feature['merchant_median_rate'] = card_feature['same_merchant_median']/card_feature['same_card_count']"
   ]
  },
  {
   "cell_type": "code",
   "execution_count": 14,
   "metadata": {
    "ExecuteTime": {
     "end_time": "2019-01-16T06:50:40.300241Z",
     "start_time": "2019-01-16T06:50:40.207464Z"
    },
    "scrolled": true
   },
   "outputs": [
    {
     "data": {
      "text/html": [
       "<div>\n",
       "<style scoped>\n",
       "    .dataframe tbody tr th:only-of-type {\n",
       "        vertical-align: middle;\n",
       "    }\n",
       "\n",
       "    .dataframe tbody tr th {\n",
       "        vertical-align: top;\n",
       "    }\n",
       "\n",
       "    .dataframe thead th {\n",
       "        text-align: right;\n",
       "    }\n",
       "</style>\n",
       "<table border=\"1\" class=\"dataframe\">\n",
       "  <thead>\n",
       "    <tr style=\"text-align: right;\">\n",
       "      <th></th>\n",
       "      <th>card_id</th>\n",
       "      <th>same_merchant_max</th>\n",
       "      <th>same_merchant_mean</th>\n",
       "      <th>same_merchant_min</th>\n",
       "      <th>same_merchant_median</th>\n",
       "      <th>num_merchant</th>\n",
       "      <th>same_card_count</th>\n",
       "      <th>merchant_max_rate</th>\n",
       "      <th>merchant_mean_rate</th>\n",
       "      <th>merchant_min_rate</th>\n",
       "      <th>merchant_median_rate</th>\n",
       "    </tr>\n",
       "  </thead>\n",
       "  <tbody>\n",
       "    <tr>\n",
       "      <th>0</th>\n",
       "      <td>C_ID_4e6213e9bc</td>\n",
       "      <td>75</td>\n",
       "      <td>7.163636</td>\n",
       "      <td>1</td>\n",
       "      <td>2.0</td>\n",
       "      <td>55</td>\n",
       "      <td>400</td>\n",
       "      <td>0.187500</td>\n",
       "      <td>0.017909</td>\n",
       "      <td>0.002500</td>\n",
       "      <td>0.005000</td>\n",
       "    </tr>\n",
       "    <tr>\n",
       "      <th>1</th>\n",
       "      <td>C_ID_5037ff576e</td>\n",
       "      <td>8</td>\n",
       "      <td>1.475000</td>\n",
       "      <td>1</td>\n",
       "      <td>1.0</td>\n",
       "      <td>80</td>\n",
       "      <td>118</td>\n",
       "      <td>0.067797</td>\n",
       "      <td>0.012500</td>\n",
       "      <td>0.008475</td>\n",
       "      <td>0.008475</td>\n",
       "    </tr>\n",
       "    <tr>\n",
       "      <th>2</th>\n",
       "      <td>C_ID_0e171c1b48</td>\n",
       "      <td>29</td>\n",
       "      <td>3.861111</td>\n",
       "      <td>1</td>\n",
       "      <td>1.0</td>\n",
       "      <td>72</td>\n",
       "      <td>279</td>\n",
       "      <td>0.103943</td>\n",
       "      <td>0.013839</td>\n",
       "      <td>0.003584</td>\n",
       "      <td>0.003584</td>\n",
       "    </tr>\n",
       "    <tr>\n",
       "      <th>3</th>\n",
       "      <td>C_ID_48fb13e70f</td>\n",
       "      <td>8</td>\n",
       "      <td>1.837209</td>\n",
       "      <td>1</td>\n",
       "      <td>1.0</td>\n",
       "      <td>43</td>\n",
       "      <td>80</td>\n",
       "      <td>0.100000</td>\n",
       "      <td>0.022965</td>\n",
       "      <td>0.012500</td>\n",
       "      <td>0.012500</td>\n",
       "    </tr>\n",
       "    <tr>\n",
       "      <th>4</th>\n",
       "      <td>C_ID_fc8e41b9cf</td>\n",
       "      <td>48</td>\n",
       "      <td>2.975309</td>\n",
       "      <td>1</td>\n",
       "      <td>1.0</td>\n",
       "      <td>81</td>\n",
       "      <td>242</td>\n",
       "      <td>0.198347</td>\n",
       "      <td>0.012295</td>\n",
       "      <td>0.004132</td>\n",
       "      <td>0.004132</td>\n",
       "    </tr>\n",
       "  </tbody>\n",
       "</table>\n",
       "</div>"
      ],
      "text/plain": [
       "           card_id  same_merchant_max  same_merchant_mean  same_merchant_min  \\\n",
       "0  C_ID_4e6213e9bc                 75            7.163636                  1   \n",
       "1  C_ID_5037ff576e                  8            1.475000                  1   \n",
       "2  C_ID_0e171c1b48                 29            3.861111                  1   \n",
       "3  C_ID_48fb13e70f                  8            1.837209                  1   \n",
       "4  C_ID_fc8e41b9cf                 48            2.975309                  1   \n",
       "\n",
       "   same_merchant_median  num_merchant  same_card_count  merchant_max_rate  \\\n",
       "0                   2.0            55              400           0.187500   \n",
       "1                   1.0            80              118           0.067797   \n",
       "2                   1.0            72              279           0.103943   \n",
       "3                   1.0            43               80           0.100000   \n",
       "4                   1.0            81              242           0.198347   \n",
       "\n",
       "   merchant_mean_rate  merchant_min_rate  merchant_median_rate  \n",
       "0            0.017909           0.002500              0.005000  \n",
       "1            0.012500           0.008475              0.008475  \n",
       "2            0.013839           0.003584              0.003584  \n",
       "3            0.022965           0.012500              0.012500  \n",
       "4            0.012295           0.004132              0.004132  "
      ]
     },
     "execution_count": 14,
     "metadata": {},
     "output_type": "execute_result"
    }
   ],
   "source": [
    "card_feature.head()"
   ]
  },
  {
   "cell_type": "code",
   "execution_count": 15,
   "metadata": {
    "ExecuteTime": {
     "end_time": "2019-01-16T06:50:44.266375Z",
     "start_time": "2019-01-16T06:50:40.361059Z"
    }
   },
   "outputs": [],
   "source": [
    "card_feature.to_csv('data/card_feature.csv', index=None)"
   ]
  },
  {
   "cell_type": "markdown",
   "metadata": {},
   "source": [
    "## 同一城市购买记录"
   ]
  },
  {
   "cell_type": "code",
   "execution_count": 16,
   "metadata": {
    "ExecuteTime": {
     "end_time": "2019-01-16T08:51:00.506214Z",
     "start_time": "2019-01-16T08:50:59.121707Z"
    }
   },
   "outputs": [],
   "source": [
    "t = historical[['city_id', 'merchant_id', 'card_id']]\n",
    "t['same_city_count'] = 1"
   ]
  },
  {
   "cell_type": "code",
   "execution_count": 17,
   "metadata": {
    "ExecuteTime": {
     "end_time": "2019-01-16T08:51:06.998571Z",
     "start_time": "2019-01-16T08:51:00.571042Z"
    }
   },
   "outputs": [],
   "source": [
    "t1 = t[['card_id', 'city_id', 'same_city_count']].groupby(['card_id', 'city_id']).count()"
   ]
  },
  {
   "cell_type": "code",
   "execution_count": 18,
   "metadata": {
    "ExecuteTime": {
     "end_time": "2019-01-16T08:51:11.538140Z",
     "start_time": "2019-01-16T08:51:07.138197Z"
    }
   },
   "outputs": [],
   "source": [
    "t2 = t1.reset_index().groupby('card_id').max()[['same_city_count']].reset_index()\n",
    "t2 = t2.rename(columns={'same_city_count': 'same_city_max'})\n",
    "t3 = t1.reset_index().groupby('card_id').mean()[['same_city_count']].reset_index()\n",
    "t3 = t3.rename(columns={'same_city_count': 'same_city_mean'})\n",
    "t4 = t1.reset_index().groupby('card_id').min()[['same_city_count']].reset_index()\n",
    "t4 = t4.rename(columns={'same_city_count': 'same_city_min'})\n",
    "t5 = t1.reset_index().groupby('card_id').median()[['same_city_count']].reset_index()\n",
    "t5 = t5.rename(columns={'same_city_count': 'same_city_median'})"
   ]
  },
  {
   "cell_type": "code",
   "execution_count": 19,
   "metadata": {
    "ExecuteTime": {
     "end_time": "2019-01-16T08:51:12.707092Z",
     "start_time": "2019-01-16T08:51:11.607494Z"
    }
   },
   "outputs": [],
   "source": [
    "t1['num_city'] = 1\n",
    "t6 = t1.reset_index()[['card_id', 'num_city']].groupby('card_id').count().reset_index()"
   ]
  },
  {
   "cell_type": "code",
   "execution_count": 20,
   "metadata": {
    "ExecuteTime": {
     "end_time": "2019-01-16T08:51:17.528995Z",
     "start_time": "2019-01-16T08:51:12.783097Z"
    }
   },
   "outputs": [],
   "source": [
    "t['same_card_count'] = 1\n",
    "t7 = t[['card_id', 'same_card_count']].groupby('card_id').count().reset_index()"
   ]
  },
  {
   "cell_type": "code",
   "execution_count": 21,
   "metadata": {
    "ExecuteTime": {
     "end_time": "2019-01-16T08:51:22.210675Z",
     "start_time": "2019-01-16T08:51:17.597355Z"
    }
   },
   "outputs": [],
   "source": [
    "city_feature = historical[['card_id']]\n",
    "city_feature = city_feature.drop_duplicates().reset_index(drop=True)\n",
    "city_feature = pd.merge(city_feature, t2, on='card_id', how='left')\n",
    "city_feature = pd.merge(city_feature, t3, on='card_id', how='left')\n",
    "city_feature = pd.merge(city_feature, t4, on='card_id', how='left')\n",
    "city_feature = pd.merge(city_feature, t5, on='card_id', how='left')\n",
    "city_feature = pd.merge(city_feature, t6, on='card_id', how='left')\n",
    "city_feature = pd.merge(city_feature, t7, on='card_id', how='left')"
   ]
  },
  {
   "cell_type": "code",
   "execution_count": 22,
   "metadata": {
    "ExecuteTime": {
     "end_time": "2019-01-16T08:51:22.392042Z",
     "start_time": "2019-01-16T08:51:22.296772Z"
    }
   },
   "outputs": [],
   "source": [
    "city_feature['city_max_rate'] = city_feature['same_city_max']/city_feature['same_card_count']\n",
    "city_feature['city_mean_rate'] = city_feature['same_city_mean']/city_feature['same_card_count']\n",
    "city_feature['city_min_rate'] = city_feature['same_city_min']/city_feature['same_card_count']\n",
    "city_feature['city_median_rate'] = city_feature['same_city_median']/city_feature['same_card_count']\n",
    "city_feature = city_feature.drop('same_card_count', axis=1)"
   ]
  },
  {
   "cell_type": "markdown",
   "metadata": {},
   "source": [
    "同一家店，不同的城市购买记录"
   ]
  },
  {
   "cell_type": "code",
   "execution_count": 23,
   "metadata": {
    "ExecuteTime": {
     "end_time": "2019-01-16T08:51:43.415212Z",
     "start_time": "2019-01-16T08:51:22.482114Z"
    }
   },
   "outputs": [],
   "source": [
    "t['city_merchant_count'] = 1\n",
    "t1 = t[['card_id', 'city_id','merchant_id', 'city_merchant_count']].groupby(['card_id', 'merchant_id', 'city_id']).count()\n",
    "t1['city_merchant_count'] = 1"
   ]
  },
  {
   "cell_type": "code",
   "execution_count": null,
   "metadata": {
    "ExecuteTime": {
     "start_time": "2019-01-16T08:51:02.836Z"
    }
   },
   "outputs": [],
   "source": [
    "t2 = t1.reset_index()[['card_id', 'merchant_id', 'city_merchant_count']].groupby(['card_id', 'merchant_id']).count()\n",
    "\n",
    "t3 = t2.reset_index().groupby('card_id').max()[['city_merchant_count']].reset_index()\n",
    "t3 = t3.rename(columns={'city_merchant_count': 'city_merchant_max'})\n",
    "t4 = t2.reset_index().groupby('card_id').mean()[['city_merchant_count']].reset_index()\n",
    "t4 = t4.rename(columns={'city_merchant_count': 'city_merchant_mean'})"
   ]
  },
  {
   "cell_type": "code",
   "execution_count": null,
   "metadata": {
    "ExecuteTime": {
     "start_time": "2019-01-16T08:51:03.699Z"
    }
   },
   "outputs": [],
   "source": [
    "def bigger_1(x):\n",
    "    if x > 1:\n",
    "        return 1\n",
    "    else:\n",
    "        return 0"
   ]
  },
  {
   "cell_type": "code",
   "execution_count": null,
   "metadata": {
    "ExecuteTime": {
     "start_time": "2019-01-16T08:51:04.369Z"
    }
   },
   "outputs": [],
   "source": [
    "t5 = pd.DataFrame(t2['city_merchant_count'].apply(bigger_1).groupby('card_id').sum()).reset_index()\n",
    "t5 = t5.rename(columns={'city_merchant_count': 'same_city_num_merchant'})"
   ]
  },
  {
   "cell_type": "code",
   "execution_count": null,
   "metadata": {
    "ExecuteTime": {
     "start_time": "2019-01-16T08:51:05.245Z"
    }
   },
   "outputs": [],
   "source": [
    "city_feature = pd.merge(city_feature, t3, on='card_id', how='left')\n",
    "city_feature = pd.merge(city_feature, t4, on='card_id', how='left')\n",
    "city_feature = pd.merge(city_feature, t5, on='card_id', how='left')"
   ]
  },
  {
   "cell_type": "code",
   "execution_count": null,
   "metadata": {
    "ExecuteTime": {
     "start_time": "2019-01-16T08:51:05.604Z"
    }
   },
   "outputs": [],
   "source": [
    "city_feature.head()"
   ]
  },
  {
   "cell_type": "code",
   "execution_count": null,
   "metadata": {
    "ExecuteTime": {
     "start_time": "2019-01-16T08:51:06.420Z"
    }
   },
   "outputs": [],
   "source": [
    "city_feature.to_csv('data/city_feature.csv', index=None)"
   ]
  },
  {
   "cell_type": "markdown",
   "metadata": {},
   "source": [
    "## 同一merchant_category_id购买记录"
   ]
  },
  {
   "cell_type": "code",
   "execution_count": 182,
   "metadata": {
    "ExecuteTime": {
     "end_time": "2019-01-16T02:25:11.627334Z",
     "start_time": "2019-01-16T02:25:09.477082Z"
    }
   },
   "outputs": [],
   "source": [
    "category_feature = historical[['card_id']]\n",
    "category_feature = category_feature.drop_duplicates().reset_index(drop=True)"
   ]
  },
  {
   "cell_type": "code",
   "execution_count": 183,
   "metadata": {
    "ExecuteTime": {
     "end_time": "2019-01-16T02:25:12.475069Z",
     "start_time": "2019-01-16T02:25:11.774956Z"
    }
   },
   "outputs": [],
   "source": [
    "t = historical[['merchant_id','merchant_category_id', 'card_id']]\n",
    "t['same_category_count'] = 1"
   ]
  },
  {
   "cell_type": "code",
   "execution_count": 184,
   "metadata": {
    "ExecuteTime": {
     "end_time": "2019-01-16T02:25:20.308142Z",
     "start_time": "2019-01-16T02:25:12.575804Z"
    }
   },
   "outputs": [],
   "source": [
    "t1 = t[['card_id', 'merchant_category_id', 'same_category_count']].groupby(['card_id', 'merchant_category_id']).count()"
   ]
  },
  {
   "cell_type": "code",
   "execution_count": 185,
   "metadata": {
    "ExecuteTime": {
     "end_time": "2019-01-16T02:25:27.091041Z",
     "start_time": "2019-01-16T02:25:20.753951Z"
    }
   },
   "outputs": [],
   "source": [
    "t2 = t1.reset_index().groupby('card_id').max()[['same_category_count']].reset_index()\n",
    "t2 = t2.rename(columns={'same_category_count': 'same_category_max'})\n",
    "t3 = t1.reset_index().groupby('card_id').mean()[['same_category_count']].reset_index()\n",
    "t3 = t3.rename(columns={'same_category_count': 'same_category_mean'})\n",
    "t4 = t1.reset_index().groupby('card_id').min()[['same_category_count']].reset_index()\n",
    "t4 = t4.rename(columns={'same_category_count': 'same_category_min'})\n",
    "t5 = t1.reset_index().groupby('card_id').median()[['same_category_count']].reset_index()\n",
    "t5 = t5.rename(columns={'same_category_count': 'same_category_median'})"
   ]
  },
  {
   "cell_type": "code",
   "execution_count": 186,
   "metadata": {
    "ExecuteTime": {
     "end_time": "2019-01-16T02:25:28.834354Z",
     "start_time": "2019-01-16T02:25:27.223657Z"
    }
   },
   "outputs": [],
   "source": [
    "t1['num_category'] = 1\n",
    "t6 = t1.reset_index()[['card_id', 'num_category']].groupby('card_id').count().reset_index()"
   ]
  },
  {
   "cell_type": "code",
   "execution_count": 187,
   "metadata": {
    "ExecuteTime": {
     "end_time": "2019-01-16T02:25:32.530473Z",
     "start_time": "2019-01-16T02:25:28.941067Z"
    }
   },
   "outputs": [],
   "source": [
    "t['same_card_count'] = 1\n",
    "t7 = t[['card_id', 'same_card_count']].groupby('card_id').count().reset_index()"
   ]
  },
  {
   "cell_type": "code",
   "execution_count": 188,
   "metadata": {
    "ExecuteTime": {
     "end_time": "2019-01-16T02:25:34.045549Z",
     "start_time": "2019-01-16T02:25:32.659144Z"
    }
   },
   "outputs": [],
   "source": [
    "category_feature = pd.merge(category_feature, t2, on='card_id', how='left')\n",
    "category_feature = pd.merge(category_feature, t3, on='card_id', how='left')\n",
    "category_feature = pd.merge(category_feature, t4, on='card_id', how='left')\n",
    "category_feature = pd.merge(category_feature, t5, on='card_id', how='left')\n",
    "category_feature = pd.merge(category_feature, t6, on='card_id', how='left')\n",
    "category_feature = pd.merge(category_feature, t7, on='card_id', how='left')"
   ]
  },
  {
   "cell_type": "code",
   "execution_count": 189,
   "metadata": {
    "ExecuteTime": {
     "end_time": "2019-01-16T02:25:34.415437Z",
     "start_time": "2019-01-16T02:25:34.169092Z"
    }
   },
   "outputs": [],
   "source": [
    "category_feature['category_max_rate'] = category_feature['same_category_max']/category_feature['same_card_count']\n",
    "category_feature['category_mean_rate'] = category_feature['same_category_mean']/category_feature['same_card_count']\n",
    "category_feature['category_min_rate'] = category_feature['same_category_min']/category_feature['same_card_count']\n",
    "category_feature['category_median_rate'] = category_feature['same_category_median']/category_feature['same_card_count']\n",
    "category_feature = category_feature.drop('same_card_count', axis=1)"
   ]
  },
  {
   "cell_type": "code",
   "execution_count": 190,
   "metadata": {
    "ExecuteTime": {
     "end_time": "2019-01-16T02:25:49.269730Z",
     "start_time": "2019-01-16T02:25:34.529130Z"
    }
   },
   "outputs": [],
   "source": [
    "t['category_merchant_count'] = 1\n",
    "t1 = t[['card_id', 'merchant_category_id','merchant_id', 'category_merchant_count']].groupby(['card_id','merchant_category_id', 'merchant_id']).count()\n",
    "t1['category_merchant_count'] = 1"
   ]
  },
  {
   "cell_type": "code",
   "execution_count": 191,
   "metadata": {
    "ExecuteTime": {
     "end_time": "2019-01-16T02:25:59.589181Z",
     "start_time": "2019-01-16T02:25:49.930970Z"
    }
   },
   "outputs": [],
   "source": [
    "t2 = t1.reset_index().groupby(['card_id', 'merchant_category_id']).count()[['category_merchant_count']]\n",
    "\n",
    "t3 = t2.reset_index().groupby('card_id').max()[['category_merchant_count']].reset_index()\n",
    "t3 = t3.rename(columns={'category_merchant_count': 'category_merchant_max'})\n",
    "t4 = t2.reset_index().groupby('card_id').mean()[['category_merchant_count']].reset_index()\n",
    "t4 = t4.rename(columns={'category_merchant_count': 'category_merchant_mean'})"
   ]
  },
  {
   "cell_type": "code",
   "execution_count": 192,
   "metadata": {
    "ExecuteTime": {
     "end_time": "2019-01-16T02:26:02.069616Z",
     "start_time": "2019-01-16T02:25:59.912282Z"
    }
   },
   "outputs": [],
   "source": [
    "t5 = pd.DataFrame(t2['category_merchant_count'].apply(bigger_1).groupby('card_id').sum()).reset_index()\n",
    "t5 = t5.rename(columns={'category_merchant_count': 'same_category_num_merchant'})"
   ]
  },
  {
   "cell_type": "code",
   "execution_count": 193,
   "metadata": {
    "ExecuteTime": {
     "end_time": "2019-01-16T02:26:02.960260Z",
     "start_time": "2019-01-16T02:26:02.199180Z"
    }
   },
   "outputs": [],
   "source": [
    "category_feature = pd.merge(category_feature, t3, on='card_id', how='left')\n",
    "category_feature = pd.merge(category_feature, t4, on='card_id', how='left')\n",
    "category_feature = pd.merge(category_feature, t5, on='card_id', how='left')"
   ]
  },
  {
   "cell_type": "code",
   "execution_count": 194,
   "metadata": {
    "ExecuteTime": {
     "end_time": "2019-01-16T02:26:03.101758Z",
     "start_time": "2019-01-16T02:26:03.088799Z"
    }
   },
   "outputs": [
    {
     "data": {
      "text/html": [
       "<div>\n",
       "<style scoped>\n",
       "    .dataframe tbody tr th:only-of-type {\n",
       "        vertical-align: middle;\n",
       "    }\n",
       "\n",
       "    .dataframe tbody tr th {\n",
       "        vertical-align: top;\n",
       "    }\n",
       "\n",
       "    .dataframe thead th {\n",
       "        text-align: right;\n",
       "    }\n",
       "</style>\n",
       "<table border=\"1\" class=\"dataframe\">\n",
       "  <thead>\n",
       "    <tr style=\"text-align: right;\">\n",
       "      <th></th>\n",
       "      <th>card_id</th>\n",
       "      <th>same_category_max</th>\n",
       "      <th>same_category_mean</th>\n",
       "      <th>same_category_min</th>\n",
       "      <th>same_category_median</th>\n",
       "      <th>num_category</th>\n",
       "      <th>category_max_rate</th>\n",
       "      <th>category_mean_rate</th>\n",
       "      <th>category_min_rate</th>\n",
       "      <th>category_median_rate</th>\n",
       "      <th>category_merchant_max</th>\n",
       "      <th>category_merchant_mean</th>\n",
       "      <th>same_category_num_merchant</th>\n",
       "    </tr>\n",
       "  </thead>\n",
       "  <tbody>\n",
       "    <tr>\n",
       "      <th>0</th>\n",
       "      <td>C_ID_4e6213e9bc</td>\n",
       "      <td>130</td>\n",
       "      <td>22.222222</td>\n",
       "      <td>1</td>\n",
       "      <td>8.0</td>\n",
       "      <td>18</td>\n",
       "      <td>0.325000</td>\n",
       "      <td>0.055556</td>\n",
       "      <td>0.002500</td>\n",
       "      <td>0.020000</td>\n",
       "      <td>16</td>\n",
       "      <td>3.222222</td>\n",
       "      <td>8</td>\n",
       "    </tr>\n",
       "    <tr>\n",
       "      <th>1</th>\n",
       "      <td>C_ID_5037ff576e</td>\n",
       "      <td>44</td>\n",
       "      <td>5.619048</td>\n",
       "      <td>1</td>\n",
       "      <td>1.0</td>\n",
       "      <td>21</td>\n",
       "      <td>0.372881</td>\n",
       "      <td>0.047619</td>\n",
       "      <td>0.008475</td>\n",
       "      <td>0.008475</td>\n",
       "      <td>25</td>\n",
       "      <td>3.857143</td>\n",
       "      <td>8</td>\n",
       "    </tr>\n",
       "    <tr>\n",
       "      <th>2</th>\n",
       "      <td>C_ID_0e171c1b48</td>\n",
       "      <td>64</td>\n",
       "      <td>7.750000</td>\n",
       "      <td>1</td>\n",
       "      <td>2.0</td>\n",
       "      <td>36</td>\n",
       "      <td>0.229391</td>\n",
       "      <td>0.027778</td>\n",
       "      <td>0.003584</td>\n",
       "      <td>0.007168</td>\n",
       "      <td>8</td>\n",
       "      <td>2.222222</td>\n",
       "      <td>15</td>\n",
       "    </tr>\n",
       "    <tr>\n",
       "      <th>3</th>\n",
       "      <td>C_ID_48fb13e70f</td>\n",
       "      <td>11</td>\n",
       "      <td>2.857143</td>\n",
       "      <td>1</td>\n",
       "      <td>1.0</td>\n",
       "      <td>28</td>\n",
       "      <td>0.137500</td>\n",
       "      <td>0.035714</td>\n",
       "      <td>0.012500</td>\n",
       "      <td>0.012500</td>\n",
       "      <td>5</td>\n",
       "      <td>1.571429</td>\n",
       "      <td>7</td>\n",
       "    </tr>\n",
       "    <tr>\n",
       "      <th>4</th>\n",
       "      <td>C_ID_fc8e41b9cf</td>\n",
       "      <td>48</td>\n",
       "      <td>6.914286</td>\n",
       "      <td>1</td>\n",
       "      <td>2.0</td>\n",
       "      <td>35</td>\n",
       "      <td>0.198347</td>\n",
       "      <td>0.028571</td>\n",
       "      <td>0.004132</td>\n",
       "      <td>0.008264</td>\n",
       "      <td>10</td>\n",
       "      <td>2.314286</td>\n",
       "      <td>13</td>\n",
       "    </tr>\n",
       "  </tbody>\n",
       "</table>\n",
       "</div>"
      ],
      "text/plain": [
       "           card_id  same_category_max  same_category_mean  same_category_min  \\\n",
       "0  C_ID_4e6213e9bc                130           22.222222                  1   \n",
       "1  C_ID_5037ff576e                 44            5.619048                  1   \n",
       "2  C_ID_0e171c1b48                 64            7.750000                  1   \n",
       "3  C_ID_48fb13e70f                 11            2.857143                  1   \n",
       "4  C_ID_fc8e41b9cf                 48            6.914286                  1   \n",
       "\n",
       "   same_category_median  num_category  category_max_rate  category_mean_rate  \\\n",
       "0                   8.0            18           0.325000            0.055556   \n",
       "1                   1.0            21           0.372881            0.047619   \n",
       "2                   2.0            36           0.229391            0.027778   \n",
       "3                   1.0            28           0.137500            0.035714   \n",
       "4                   2.0            35           0.198347            0.028571   \n",
       "\n",
       "   category_min_rate  category_median_rate  category_merchant_max  \\\n",
       "0           0.002500              0.020000                     16   \n",
       "1           0.008475              0.008475                     25   \n",
       "2           0.003584              0.007168                      8   \n",
       "3           0.012500              0.012500                      5   \n",
       "4           0.004132              0.008264                     10   \n",
       "\n",
       "   category_merchant_mean  same_category_num_merchant  \n",
       "0                3.222222                           8  \n",
       "1                3.857143                           8  \n",
       "2                2.222222                          15  \n",
       "3                1.571429                           7  \n",
       "4                2.314286                          13  "
      ]
     },
     "execution_count": 194,
     "metadata": {},
     "output_type": "execute_result"
    }
   ],
   "source": [
    "category_feature.head()"
   ]
  },
  {
   "cell_type": "code",
   "execution_count": 195,
   "metadata": {
    "ExecuteTime": {
     "end_time": "2019-01-16T02:26:13.698180Z",
     "start_time": "2019-01-16T02:26:09.423443Z"
    }
   },
   "outputs": [],
   "source": [
    "category_feature.to_csv('data/category_feature.csv', index=None)"
   ]
  },
  {
   "cell_type": "markdown",
   "metadata": {},
   "source": [
    "## 同一subsector_id"
   ]
  },
  {
   "cell_type": "code",
   "execution_count": 168,
   "metadata": {
    "ExecuteTime": {
     "end_time": "2019-01-16T02:16:56.353360Z",
     "start_time": "2019-01-16T02:16:36.088856Z"
    }
   },
   "outputs": [],
   "source": [
    "subsector_feature = historical[['card_id']]\n",
    "subsector_feature = subsector_feature.drop_duplicates().reset_index(drop=True)\n",
    "t = historical[['merchant_id','subsector_id', 'card_id']]\n",
    "t['same_subsector_count'] = 1\n",
    "t1 = t[['card_id', 'subsector_id', 'same_subsector_count']].groupby(['card_id', 'subsector_id']).count()\n",
    "\n",
    "t2 = t1.reset_index().groupby('card_id').max()[['same_subsector_count']].reset_index()\n",
    "t2 = t2.rename(columns={'same_subsector_count': 'same_subsector_max'})\n",
    "t3 = t1.reset_index().groupby('card_id').mean()[['same_subsector_count']].reset_index()\n",
    "t3 = t3.rename(columns={'same_subsector_count': 'same_subsector_mean'})\n",
    "t4 = t1.reset_index().groupby('card_id').min()[['same_subsector_count']].reset_index()\n",
    "t4 = t4.rename(columns={'same_subsector_count': 'same_subsector_min'})\n",
    "t5 = t1.reset_index().groupby('card_id').median()[['same_subsector_count']].reset_index()\n",
    "t5 = t5.rename(columns={'same_subsector_count': 'same_subsector_median'})\n",
    "\n",
    "t1['num_subsector'] = 1\n",
    "t6 = t1.reset_index()[['card_id', 'num_subsector']].groupby('card_id').count().reset_index()\n",
    "t['same_card_count'] = 1\n",
    "t7 = t[['card_id', 'same_card_count']].groupby('card_id').count().reset_index()"
   ]
  },
  {
   "cell_type": "code",
   "execution_count": 169,
   "metadata": {
    "ExecuteTime": {
     "end_time": "2019-01-16T02:17:00.881755Z",
     "start_time": "2019-01-16T02:16:59.528357Z"
    }
   },
   "outputs": [],
   "source": [
    "subsector_feature = pd.merge(subsector_feature, t2, on='card_id', how='left')\n",
    "subsector_feature = pd.merge(subsector_feature, t3, on='card_id', how='left')\n",
    "subsector_feature = pd.merge(subsector_feature, t4, on='card_id', how='left')\n",
    "subsector_feature = pd.merge(subsector_feature, t5, on='card_id', how='left')\n",
    "subsector_feature = pd.merge(subsector_feature, t6, on='card_id', how='left')\n",
    "subsector_feature = pd.merge(subsector_feature, t7, on='card_id', how='left')"
   ]
  },
  {
   "cell_type": "code",
   "execution_count": 170,
   "metadata": {
    "ExecuteTime": {
     "end_time": "2019-01-16T02:17:28.271062Z",
     "start_time": "2019-01-16T02:17:28.145397Z"
    }
   },
   "outputs": [],
   "source": [
    "subsector_feature['subsector_max_rate'] = subsector_feature['same_subsector_max']/subsector_feature['same_card_count']\n",
    "subsector_feature['subsector_mean_rate'] = subsector_feature['same_subsector_mean']/subsector_feature['same_card_count']\n",
    "subsector_feature['subsector_min_rate'] = subsector_feature['same_subsector_min']/subsector_feature['same_card_count']\n",
    "subsector_feature['subsector_median_rate'] = subsector_feature['same_subsector_median']/subsector_feature['same_card_count']\n",
    "subsector_feature = subsector_feature.drop('same_card_count', axis=1)"
   ]
  },
  {
   "cell_type": "code",
   "execution_count": 173,
   "metadata": {
    "ExecuteTime": {
     "end_time": "2019-01-16T02:18:37.282550Z",
     "start_time": "2019-01-16T02:18:22.633733Z"
    }
   },
   "outputs": [],
   "source": [
    "t['subsector_merchant_count'] = 1\n",
    "t1 = t[['card_id', 'subsector_id','merchant_id', 'subsector_merchant_count']].groupby(['card_id','subsector_id', 'merchant_id']).count()\n",
    "t1['subsector_merchant_count'] = 1"
   ]
  },
  {
   "cell_type": "code",
   "execution_count": 178,
   "metadata": {
    "ExecuteTime": {
     "end_time": "2019-01-16T02:20:06.108068Z",
     "start_time": "2019-01-16T02:19:56.316191Z"
    }
   },
   "outputs": [],
   "source": [
    "t2 = t1.reset_index().groupby(['card_id', 'subsector_id']).count()[['subsector_merchant_count']]\n",
    "\n",
    "t3 = t2.reset_index().groupby('card_id').max()[['subsector_merchant_count']].reset_index()\n",
    "t3 = t3.rename(columns={'subsector_merchant_count': 'subsector_merchant_max'})\n",
    "t4 = t2.reset_index().groupby('card_id').mean()[['subsector_merchant_count']].reset_index()\n",
    "t4 = t4.rename(columns={'subsector_merchant_count': 'subsector_merchant_mean'})\n",
    "t5 = pd.DataFrame(t2['subsector_merchant_count'].apply(bigger_1).groupby('card_id').sum()).reset_index()\n",
    "t5 = t5.rename(columns={'subsector_merchant_count': 'same_subsector_num_merchant'})"
   ]
  },
  {
   "cell_type": "code",
   "execution_count": 179,
   "metadata": {
    "ExecuteTime": {
     "end_time": "2019-01-16T02:20:22.889798Z",
     "start_time": "2019-01-16T02:20:22.133816Z"
    }
   },
   "outputs": [],
   "source": [
    "subsector_feature = pd.merge(subsector_feature, t3, on='card_id', how='left')\n",
    "subsector_feature = pd.merge(subsector_feature, t4, on='card_id', how='left')\n",
    "subsector_feature = pd.merge(subsector_feature, t5, on='card_id', how='left')"
   ]
  },
  {
   "cell_type": "code",
   "execution_count": 180,
   "metadata": {
    "ExecuteTime": {
     "end_time": "2019-01-16T02:20:28.547206Z",
     "start_time": "2019-01-16T02:20:28.535211Z"
    }
   },
   "outputs": [
    {
     "data": {
      "text/html": [
       "<div>\n",
       "<style scoped>\n",
       "    .dataframe tbody tr th:only-of-type {\n",
       "        vertical-align: middle;\n",
       "    }\n",
       "\n",
       "    .dataframe tbody tr th {\n",
       "        vertical-align: top;\n",
       "    }\n",
       "\n",
       "    .dataframe thead th {\n",
       "        text-align: right;\n",
       "    }\n",
       "</style>\n",
       "<table border=\"1\" class=\"dataframe\">\n",
       "  <thead>\n",
       "    <tr style=\"text-align: right;\">\n",
       "      <th></th>\n",
       "      <th>card_id</th>\n",
       "      <th>same_subsector_max</th>\n",
       "      <th>same_subsector_mean</th>\n",
       "      <th>same_subsector_min</th>\n",
       "      <th>same_subsector_median</th>\n",
       "      <th>num_subsector</th>\n",
       "      <th>subsector_max_rate</th>\n",
       "      <th>subsector_mean_rate</th>\n",
       "      <th>subsector_min_rate</th>\n",
       "      <th>subsector_median_rate</th>\n",
       "      <th>subsector_merchant_max</th>\n",
       "      <th>subsector_merchant_mean</th>\n",
       "      <th>same_subsector_num_merchant</th>\n",
       "    </tr>\n",
       "  </thead>\n",
       "  <tbody>\n",
       "    <tr>\n",
       "      <th>0</th>\n",
       "      <td>C_ID_4e6213e9bc</td>\n",
       "      <td>229</td>\n",
       "      <td>36.363636</td>\n",
       "      <td>3</td>\n",
       "      <td>12.0</td>\n",
       "      <td>11</td>\n",
       "      <td>0.572500</td>\n",
       "      <td>0.090909</td>\n",
       "      <td>0.007500</td>\n",
       "      <td>0.030000</td>\n",
       "      <td>27</td>\n",
       "      <td>5.181818</td>\n",
       "      <td>8</td>\n",
       "    </tr>\n",
       "    <tr>\n",
       "      <th>1</th>\n",
       "      <td>C_ID_5037ff576e</td>\n",
       "      <td>45</td>\n",
       "      <td>8.428571</td>\n",
       "      <td>1</td>\n",
       "      <td>2.5</td>\n",
       "      <td>14</td>\n",
       "      <td>0.381356</td>\n",
       "      <td>0.071429</td>\n",
       "      <td>0.008475</td>\n",
       "      <td>0.021186</td>\n",
       "      <td>26</td>\n",
       "      <td>5.785714</td>\n",
       "      <td>8</td>\n",
       "    </tr>\n",
       "    <tr>\n",
       "      <th>2</th>\n",
       "      <td>C_ID_0e171c1b48</td>\n",
       "      <td>64</td>\n",
       "      <td>16.411765</td>\n",
       "      <td>1</td>\n",
       "      <td>5.0</td>\n",
       "      <td>17</td>\n",
       "      <td>0.229391</td>\n",
       "      <td>0.058824</td>\n",
       "      <td>0.003584</td>\n",
       "      <td>0.017921</td>\n",
       "      <td>18</td>\n",
       "      <td>4.529412</td>\n",
       "      <td>13</td>\n",
       "    </tr>\n",
       "    <tr>\n",
       "      <th>3</th>\n",
       "      <td>C_ID_48fb13e70f</td>\n",
       "      <td>22</td>\n",
       "      <td>5.000000</td>\n",
       "      <td>1</td>\n",
       "      <td>3.5</td>\n",
       "      <td>16</td>\n",
       "      <td>0.275000</td>\n",
       "      <td>0.062500</td>\n",
       "      <td>0.012500</td>\n",
       "      <td>0.043750</td>\n",
       "      <td>10</td>\n",
       "      <td>2.750000</td>\n",
       "      <td>9</td>\n",
       "    </tr>\n",
       "    <tr>\n",
       "      <th>4</th>\n",
       "      <td>C_ID_fc8e41b9cf</td>\n",
       "      <td>53</td>\n",
       "      <td>12.100000</td>\n",
       "      <td>1</td>\n",
       "      <td>6.0</td>\n",
       "      <td>20</td>\n",
       "      <td>0.219008</td>\n",
       "      <td>0.050000</td>\n",
       "      <td>0.004132</td>\n",
       "      <td>0.024793</td>\n",
       "      <td>13</td>\n",
       "      <td>4.050000</td>\n",
       "      <td>13</td>\n",
       "    </tr>\n",
       "  </tbody>\n",
       "</table>\n",
       "</div>"
      ],
      "text/plain": [
       "           card_id  same_subsector_max  same_subsector_mean  \\\n",
       "0  C_ID_4e6213e9bc                 229            36.363636   \n",
       "1  C_ID_5037ff576e                  45             8.428571   \n",
       "2  C_ID_0e171c1b48                  64            16.411765   \n",
       "3  C_ID_48fb13e70f                  22             5.000000   \n",
       "4  C_ID_fc8e41b9cf                  53            12.100000   \n",
       "\n",
       "   same_subsector_min  same_subsector_median  num_subsector  \\\n",
       "0                   3                   12.0             11   \n",
       "1                   1                    2.5             14   \n",
       "2                   1                    5.0             17   \n",
       "3                   1                    3.5             16   \n",
       "4                   1                    6.0             20   \n",
       "\n",
       "   subsector_max_rate  subsector_mean_rate  subsector_min_rate  \\\n",
       "0            0.572500             0.090909            0.007500   \n",
       "1            0.381356             0.071429            0.008475   \n",
       "2            0.229391             0.058824            0.003584   \n",
       "3            0.275000             0.062500            0.012500   \n",
       "4            0.219008             0.050000            0.004132   \n",
       "\n",
       "   subsector_median_rate  subsector_merchant_max  subsector_merchant_mean  \\\n",
       "0               0.030000                      27                 5.181818   \n",
       "1               0.021186                      26                 5.785714   \n",
       "2               0.017921                      18                 4.529412   \n",
       "3               0.043750                      10                 2.750000   \n",
       "4               0.024793                      13                 4.050000   \n",
       "\n",
       "   same_subsector_num_merchant  \n",
       "0                            8  \n",
       "1                            8  \n",
       "2                           13  \n",
       "3                            9  \n",
       "4                           13  "
      ]
     },
     "execution_count": 180,
     "metadata": {},
     "output_type": "execute_result"
    }
   ],
   "source": [
    "subsector_feature.head()"
   ]
  },
  {
   "cell_type": "code",
   "execution_count": 181,
   "metadata": {
    "ExecuteTime": {
     "end_time": "2019-01-16T02:21:00.235384Z",
     "start_time": "2019-01-16T02:20:55.784995Z"
    }
   },
   "outputs": [],
   "source": [
    "subsector_feature.to_csv('data/subsector_feature.csv', index=None)"
   ]
  },
  {
   "cell_type": "markdown",
   "metadata": {},
   "source": [
    "## 同一state_id购买记录"
   ]
  },
  {
   "cell_type": "code",
   "execution_count": 196,
   "metadata": {
    "ExecuteTime": {
     "end_time": "2019-01-16T02:37:27.730732Z",
     "start_time": "2019-01-16T02:37:10.171639Z"
    }
   },
   "outputs": [],
   "source": [
    "state_feature = historical[['card_id']]\n",
    "state_feature = state_feature.drop_duplicates().reset_index(drop=True)\n",
    "t = historical[['merchant_id','state_id', 'card_id']]\n",
    "t['same_state_count'] = 1\n",
    "t1 = t[['card_id', 'state_id', 'same_state_count']].groupby(['card_id', 'state_id']).count()\n",
    "\n",
    "t2 = t1.reset_index().groupby('card_id').max()[['same_state_count']].reset_index()\n",
    "t2 = t2.rename(columns={'same_state_count': 'same_state_max'})\n",
    "t3 = t1.reset_index().groupby('card_id').mean()[['same_state_count']].reset_index()\n",
    "t3 = t3.rename(columns={'same_state_count': 'same_state_mean'})\n",
    "t4 = t1.reset_index().groupby('card_id').min()[['same_state_count']].reset_index()\n",
    "t4 = t4.rename(columns={'same_state_count': 'same_state_min'})\n",
    "t5 = t1.reset_index().groupby('card_id').median()[['same_state_count']].reset_index()\n",
    "t5 = t5.rename(columns={'same_state_count': 'same_state_median'})\n",
    "\n",
    "t1['num_state'] = 1\n",
    "t6 = t1.reset_index()[['card_id', 'num_state']].groupby('card_id').count().reset_index()\n",
    "t['same_card_count'] = 1\n",
    "t7 = t[['card_id', 'same_card_count']].groupby('card_id').count().reset_index()\n",
    "\n",
    "state_feature = pd.merge(state_feature, t2, on='card_id', how='left')\n",
    "state_feature = pd.merge(state_feature, t3, on='card_id', how='left')\n",
    "state_feature = pd.merge(state_feature, t4, on='card_id', how='left')\n",
    "state_feature = pd.merge(state_feature, t5, on='card_id', how='left')\n",
    "state_feature = pd.merge(state_feature, t6, on='card_id', how='left')\n",
    "state_feature = pd.merge(state_feature, t7, on='card_id', how='left')\n",
    "\n",
    "state_feature['state_max_rate'] = state_feature['same_state_max']/state_feature['same_card_count']\n",
    "state_feature['state_mean_rate'] = state_feature['same_state_mean']/state_feature['same_card_count']\n",
    "state_feature['state_min_rate'] = state_feature['same_state_min']/state_feature['same_card_count']\n",
    "state_feature['state_median_rate'] = state_feature['same_state_median']/state_feature['same_card_count']\n",
    "state_feature = state_feature.drop('same_card_count', axis=1)"
   ]
  },
  {
   "cell_type": "code",
   "execution_count": 199,
   "metadata": {
    "ExecuteTime": {
     "end_time": "2019-01-16T02:39:43.885024Z",
     "start_time": "2019-01-16T02:39:22.339507Z"
    }
   },
   "outputs": [],
   "source": [
    "t['state_merchant_count'] = 1\n",
    "t1 = t[['card_id', 'state_id','merchant_id', 'state_merchant_count']].groupby(['card_id','state_id', 'merchant_id']).count()\n",
    "t1['state_merchant_count'] = 1\n",
    "\n",
    "t2 = t1.reset_index().groupby(['card_id', 'state_id']).count()[['state_merchant_count']]\n",
    "\n",
    "t3 = t2.reset_index().groupby('card_id').max()[['state_merchant_count']].reset_index()\n",
    "t3 = t3.rename(columns={'state_merchant_count': 'state_merchant_max'})\n",
    "t4 = t2.reset_index().groupby('card_id').mean()[['state_merchant_count']].reset_index()\n",
    "t4 = t4.rename(columns={'state_merchant_count': 'state_merchant_mean'})\n",
    "t5 = pd.DataFrame(t2['state_merchant_count'].apply(bigger_1).groupby('card_id').sum()).reset_index()\n",
    "t5 = t5.rename(columns={'state_merchant_count': 'same_state_num_merchant'})\n",
    "\n",
    "state_feature = pd.merge(state_feature, t3, on='card_id', how='left')\n",
    "state_feature = pd.merge(state_feature, t4, on='card_id', how='left')\n",
    "state_feature = pd.merge(state_feature, t5, on='card_id', how='left')"
   ]
  },
  {
   "cell_type": "code",
   "execution_count": 202,
   "metadata": {
    "ExecuteTime": {
     "end_time": "2019-01-16T02:43:37.597831Z",
     "start_time": "2019-01-16T02:43:37.583898Z"
    }
   },
   "outputs": [
    {
     "data": {
      "text/html": [
       "<div>\n",
       "<style scoped>\n",
       "    .dataframe tbody tr th:only-of-type {\n",
       "        vertical-align: middle;\n",
       "    }\n",
       "\n",
       "    .dataframe tbody tr th {\n",
       "        vertical-align: top;\n",
       "    }\n",
       "\n",
       "    .dataframe thead th {\n",
       "        text-align: right;\n",
       "    }\n",
       "</style>\n",
       "<table border=\"1\" class=\"dataframe\">\n",
       "  <thead>\n",
       "    <tr style=\"text-align: right;\">\n",
       "      <th></th>\n",
       "      <th>card_id</th>\n",
       "      <th>same_state_max</th>\n",
       "      <th>same_state_mean</th>\n",
       "      <th>same_state_min</th>\n",
       "      <th>same_state_median</th>\n",
       "      <th>num_state</th>\n",
       "      <th>state_max_rate</th>\n",
       "      <th>state_mean_rate</th>\n",
       "      <th>state_min_rate</th>\n",
       "      <th>state_median_rate</th>\n",
       "      <th>state_merchant_max</th>\n",
       "      <th>state_merchant_mean</th>\n",
       "      <th>same_state_num_merchant</th>\n",
       "    </tr>\n",
       "  </thead>\n",
       "  <tbody>\n",
       "    <tr>\n",
       "      <th>0</th>\n",
       "      <td>C_ID_4e6213e9bc</td>\n",
       "      <td>346</td>\n",
       "      <td>133.333333</td>\n",
       "      <td>16</td>\n",
       "      <td>38.0</td>\n",
       "      <td>3</td>\n",
       "      <td>0.865000</td>\n",
       "      <td>0.333333</td>\n",
       "      <td>0.040000</td>\n",
       "      <td>0.095000</td>\n",
       "      <td>37</td>\n",
       "      <td>18.333333</td>\n",
       "      <td>3</td>\n",
       "    </tr>\n",
       "    <tr>\n",
       "      <th>1</th>\n",
       "      <td>C_ID_5037ff576e</td>\n",
       "      <td>32</td>\n",
       "      <td>7.375000</td>\n",
       "      <td>1</td>\n",
       "      <td>5.0</td>\n",
       "      <td>16</td>\n",
       "      <td>0.271186</td>\n",
       "      <td>0.062500</td>\n",
       "      <td>0.008475</td>\n",
       "      <td>0.042373</td>\n",
       "      <td>22</td>\n",
       "      <td>5.125000</td>\n",
       "      <td>13</td>\n",
       "    </tr>\n",
       "    <tr>\n",
       "      <th>2</th>\n",
       "      <td>C_ID_0e171c1b48</td>\n",
       "      <td>238</td>\n",
       "      <td>93.000000</td>\n",
       "      <td>19</td>\n",
       "      <td>22.0</td>\n",
       "      <td>3</td>\n",
       "      <td>0.853047</td>\n",
       "      <td>0.333333</td>\n",
       "      <td>0.068100</td>\n",
       "      <td>0.078853</td>\n",
       "      <td>69</td>\n",
       "      <td>24.333333</td>\n",
       "      <td>2</td>\n",
       "    </tr>\n",
       "    <tr>\n",
       "      <th>3</th>\n",
       "      <td>C_ID_48fb13e70f</td>\n",
       "      <td>75</td>\n",
       "      <td>40.000000</td>\n",
       "      <td>5</td>\n",
       "      <td>40.0</td>\n",
       "      <td>2</td>\n",
       "      <td>0.937500</td>\n",
       "      <td>0.500000</td>\n",
       "      <td>0.062500</td>\n",
       "      <td>0.500000</td>\n",
       "      <td>39</td>\n",
       "      <td>21.500000</td>\n",
       "      <td>2</td>\n",
       "    </tr>\n",
       "    <tr>\n",
       "      <th>4</th>\n",
       "      <td>C_ID_fc8e41b9cf</td>\n",
       "      <td>176</td>\n",
       "      <td>48.400000</td>\n",
       "      <td>2</td>\n",
       "      <td>10.0</td>\n",
       "      <td>5</td>\n",
       "      <td>0.727273</td>\n",
       "      <td>0.200000</td>\n",
       "      <td>0.008264</td>\n",
       "      <td>0.041322</td>\n",
       "      <td>71</td>\n",
       "      <td>16.400000</td>\n",
       "      <td>5</td>\n",
       "    </tr>\n",
       "  </tbody>\n",
       "</table>\n",
       "</div>"
      ],
      "text/plain": [
       "           card_id  same_state_max  same_state_mean  same_state_min  \\\n",
       "0  C_ID_4e6213e9bc             346       133.333333              16   \n",
       "1  C_ID_5037ff576e              32         7.375000               1   \n",
       "2  C_ID_0e171c1b48             238        93.000000              19   \n",
       "3  C_ID_48fb13e70f              75        40.000000               5   \n",
       "4  C_ID_fc8e41b9cf             176        48.400000               2   \n",
       "\n",
       "   same_state_median  num_state  state_max_rate  state_mean_rate  \\\n",
       "0               38.0          3        0.865000         0.333333   \n",
       "1                5.0         16        0.271186         0.062500   \n",
       "2               22.0          3        0.853047         0.333333   \n",
       "3               40.0          2        0.937500         0.500000   \n",
       "4               10.0          5        0.727273         0.200000   \n",
       "\n",
       "   state_min_rate  state_median_rate  state_merchant_max  state_merchant_mean  \\\n",
       "0        0.040000           0.095000                  37            18.333333   \n",
       "1        0.008475           0.042373                  22             5.125000   \n",
       "2        0.068100           0.078853                  69            24.333333   \n",
       "3        0.062500           0.500000                  39            21.500000   \n",
       "4        0.008264           0.041322                  71            16.400000   \n",
       "\n",
       "   same_state_num_merchant  \n",
       "0                        3  \n",
       "1                       13  \n",
       "2                        2  \n",
       "3                        2  \n",
       "4                        5  "
      ]
     },
     "execution_count": 202,
     "metadata": {},
     "output_type": "execute_result"
    }
   ],
   "source": [
    "state_feature.head()"
   ]
  },
  {
   "cell_type": "code",
   "execution_count": 203,
   "metadata": {
    "ExecuteTime": {
     "end_time": "2019-01-16T02:44:07.567169Z",
     "start_time": "2019-01-16T02:44:03.954630Z"
    }
   },
   "outputs": [],
   "source": [
    "state_feature.to_csv('data/state_feature.csv', index=None)"
   ]
  },
  {
   "cell_type": "markdown",
   "metadata": {},
   "source": [
    "## Purchase_day特征"
   ]
  },
  {
   "cell_type": "markdown",
   "metadata": {},
   "source": [
    "此处的purchase_day是一个相对的时间，在与train文件结合的时候要换算成train的相对时间"
   ]
  },
  {
   "cell_type": "code",
   "execution_count": 6,
   "metadata": {
    "ExecuteTime": {
     "end_time": "2019-01-22T08:43:49.068872Z",
     "start_time": "2019-01-22T08:43:32.510157Z"
    }
   },
   "outputs": [],
   "source": [
    "t = historical[['card_id', 'purchase_day', 'merchant_id']]\n",
    "t1 = t[['card_id', 'purchase_day']].groupby(['card_id']).max()\n",
    "t1 = t1.rename(columns={'purchase_day': 'purchase_day_max'})\n",
    "t2 = t[['card_id', 'purchase_day']].groupby(['card_id']).min()\n",
    "t2 = t2.rename(columns={'purchase_day': 'purchase_day_min'})\n",
    "t9 = t[['card_id', 'purchase_day']].groupby(['card_id']).std()\n",
    "t9 = t9.rename(columns={'purchase_day': 'purchase_day_std'})\n",
    "t10 = t[['card_id', 'purchase_day']].groupby(['card_id']).var()\n",
    "t10 = t10.rename(columns={'purchase_day': 'purchase_day_var'})"
   ]
  },
  {
   "cell_type": "code",
   "execution_count": 7,
   "metadata": {
    "ExecuteTime": {
     "end_time": "2019-01-22T09:03:16.192993Z",
     "start_time": "2019-01-22T09:02:40.748783Z"
    }
   },
   "outputs": [],
   "source": [
    "t3 = t.groupby(['card_id', 'merchant_id']).max() - t.groupby(['card_id', 'merchant_id']).min()"
   ]
  },
  {
   "cell_type": "code",
   "execution_count": 8,
   "metadata": {
    "ExecuteTime": {
     "end_time": "2019-01-22T09:03:16.720582Z",
     "start_time": "2019-01-22T09:03:16.716592Z"
    }
   },
   "outputs": [],
   "source": [
    "def bigger_0(x):\n",
    "    if x > 0:\n",
    "        return 1\n",
    "    else:\n",
    "        return 0"
   ]
  },
  {
   "cell_type": "code",
   "execution_count": 9,
   "metadata": {
    "ExecuteTime": {
     "end_time": "2019-01-22T09:04:52.976159Z",
     "start_time": "2019-01-22T09:03:16.793388Z"
    }
   },
   "outputs": [],
   "source": [
    "t4 = t3.reset_index().groupby('card_id').max()[['purchase_day']].reset_index()\n",
    "t4 = t4.rename(columns={'purchase_day': 'time_diff_max'})\n",
    "t5 = t3.reset_index().groupby('card_id').mean()[['purchase_day']].reset_index()\n",
    "t5 = t5.rename(columns={'purchase_day': 'time_diff_mean'})\n",
    "t6 = t3.reset_index().groupby('card_id').sum()[['purchase_day']].reset_index()\n",
    "t6 = t6.rename(columns={'purchase_day': 'time_diff_sum'})\n",
    "t7 = pd.DataFrame(t3['purchase_day'].apply(bigger_0).groupby('card_id').sum()).reset_index()\n",
    "t7 = t7.rename(columns={'purchase_day': 'time_diff_bigger0'})"
   ]
  },
  {
   "cell_type": "code",
   "execution_count": 10,
   "metadata": {
    "ExecuteTime": {
     "end_time": "2019-01-22T09:04:53.090853Z",
     "start_time": "2019-01-22T09:04:53.072901Z"
    }
   },
   "outputs": [],
   "source": [
    "t8 = pd.DataFrame(t1['purchase_day_max'] - t2['purchase_day_min'], columns=['purchase_day_diff'])"
   ]
  },
  {
   "cell_type": "code",
   "execution_count": 11,
   "metadata": {
    "ExecuteTime": {
     "end_time": "2019-01-22T09:04:58.759692Z",
     "start_time": "2019-01-22T09:04:53.173630Z"
    }
   },
   "outputs": [],
   "source": [
    "day_feature = historical[['card_id']]\n",
    "day_feature = day_feature.drop_duplicates().reset_index(drop=True)\n",
    "day_feature = pd.merge(day_feature, t1, on='card_id', how='left')\n",
    "day_feature = pd.merge(day_feature, t2, on='card_id', how='left')\n",
    "day_feature = pd.merge(day_feature, t4, on='card_id', how='left')\n",
    "day_feature = pd.merge(day_feature, t5, on='card_id', how='left')\n",
    "day_feature = pd.merge(day_feature, t6, on='card_id', how='left')\n",
    "day_feature = pd.merge(day_feature, t7, on='card_id', how='left')\n",
    "day_feature = pd.merge(day_feature, t8, on='card_id', how='left')\n",
    "day_feature = pd.merge(day_feature, t9, on='card_id', how='left')\n",
    "day_feature = pd.merge(day_feature, t10, on='card_id', how='left')"
   ]
  },
  {
   "cell_type": "code",
   "execution_count": 12,
   "metadata": {
    "ExecuteTime": {
     "end_time": "2019-01-22T09:04:58.878374Z",
     "start_time": "2019-01-22T09:04:58.844464Z"
    }
   },
   "outputs": [
    {
     "data": {
      "text/html": [
       "<div>\n",
       "<style scoped>\n",
       "    .dataframe tbody tr th:only-of-type {\n",
       "        vertical-align: middle;\n",
       "    }\n",
       "\n",
       "    .dataframe tbody tr th {\n",
       "        vertical-align: top;\n",
       "    }\n",
       "\n",
       "    .dataframe thead th {\n",
       "        text-align: right;\n",
       "    }\n",
       "</style>\n",
       "<table border=\"1\" class=\"dataframe\">\n",
       "  <thead>\n",
       "    <tr style=\"text-align: right;\">\n",
       "      <th></th>\n",
       "      <th>card_id</th>\n",
       "      <th>purchase_day_max</th>\n",
       "      <th>purchase_day_min</th>\n",
       "      <th>time_diff_max</th>\n",
       "      <th>time_diff_mean</th>\n",
       "      <th>time_diff_sum</th>\n",
       "      <th>time_diff_bigger0</th>\n",
       "      <th>purchase_day_diff</th>\n",
       "      <th>purchase_day_std</th>\n",
       "      <th>purchase_day_var</th>\n",
       "    </tr>\n",
       "  </thead>\n",
       "  <tbody>\n",
       "    <tr>\n",
       "      <th>0</th>\n",
       "      <td>C_ID_4e6213e9bc</td>\n",
       "      <td>2278</td>\n",
       "      <td>1880</td>\n",
       "      <td>270</td>\n",
       "      <td>73.672727</td>\n",
       "      <td>4052</td>\n",
       "      <td>33</td>\n",
       "      <td>398</td>\n",
       "      <td>99.720433</td>\n",
       "      <td>9944.164787</td>\n",
       "    </tr>\n",
       "    <tr>\n",
       "      <th>1</th>\n",
       "      <td>C_ID_5037ff576e</td>\n",
       "      <td>2215</td>\n",
       "      <td>1866</td>\n",
       "      <td>271</td>\n",
       "      <td>26.912500</td>\n",
       "      <td>2153</td>\n",
       "      <td>14</td>\n",
       "      <td>349</td>\n",
       "      <td>104.524062</td>\n",
       "      <td>10925.279444</td>\n",
       "    </tr>\n",
       "    <tr>\n",
       "      <th>2</th>\n",
       "      <td>C_ID_0e171c1b48</td>\n",
       "      <td>2277</td>\n",
       "      <td>1915</td>\n",
       "      <td>350</td>\n",
       "      <td>80.430556</td>\n",
       "      <td>5791</td>\n",
       "      <td>32</td>\n",
       "      <td>362</td>\n",
       "      <td>104.118368</td>\n",
       "      <td>10840.634512</td>\n",
       "    </tr>\n",
       "    <tr>\n",
       "      <th>3</th>\n",
       "      <td>C_ID_48fb13e70f</td>\n",
       "      <td>2273</td>\n",
       "      <td>2011</td>\n",
       "      <td>258</td>\n",
       "      <td>39.627907</td>\n",
       "      <td>1704</td>\n",
       "      <td>14</td>\n",
       "      <td>262</td>\n",
       "      <td>87.066652</td>\n",
       "      <td>7580.601899</td>\n",
       "    </tr>\n",
       "    <tr>\n",
       "      <th>4</th>\n",
       "      <td>C_ID_fc8e41b9cf</td>\n",
       "      <td>2275</td>\n",
       "      <td>2051</td>\n",
       "      <td>214</td>\n",
       "      <td>38.407407</td>\n",
       "      <td>3111</td>\n",
       "      <td>28</td>\n",
       "      <td>224</td>\n",
       "      <td>68.909370</td>\n",
       "      <td>4748.501235</td>\n",
       "    </tr>\n",
       "  </tbody>\n",
       "</table>\n",
       "</div>"
      ],
      "text/plain": [
       "           card_id  purchase_day_max  purchase_day_min  time_diff_max  \\\n",
       "0  C_ID_4e6213e9bc              2278              1880            270   \n",
       "1  C_ID_5037ff576e              2215              1866            271   \n",
       "2  C_ID_0e171c1b48              2277              1915            350   \n",
       "3  C_ID_48fb13e70f              2273              2011            258   \n",
       "4  C_ID_fc8e41b9cf              2275              2051            214   \n",
       "\n",
       "   time_diff_mean  time_diff_sum  time_diff_bigger0  purchase_day_diff  \\\n",
       "0       73.672727           4052                 33                398   \n",
       "1       26.912500           2153                 14                349   \n",
       "2       80.430556           5791                 32                362   \n",
       "3       39.627907           1704                 14                262   \n",
       "4       38.407407           3111                 28                224   \n",
       "\n",
       "   purchase_day_std  purchase_day_var  \n",
       "0         99.720433       9944.164787  \n",
       "1        104.524062      10925.279444  \n",
       "2        104.118368      10840.634512  \n",
       "3         87.066652       7580.601899  \n",
       "4         68.909370       4748.501235  "
      ]
     },
     "execution_count": 12,
     "metadata": {},
     "output_type": "execute_result"
    }
   ],
   "source": [
    "day_feature.head()"
   ]
  },
  {
   "cell_type": "code",
   "execution_count": 13,
   "metadata": {
    "ExecuteTime": {
     "end_time": "2019-01-22T09:05:28.627813Z",
     "start_time": "2019-01-22T09:05:24.868868Z"
    }
   },
   "outputs": [],
   "source": [
    "day_feature.to_csv('data/day_feature.csv', index=None)"
   ]
  },
  {
   "cell_type": "markdown",
   "metadata": {},
   "source": [
    "## purchase_month 特征"
   ]
  },
  {
   "cell_type": "code",
   "execution_count": 32,
   "metadata": {
    "ExecuteTime": {
     "end_time": "2019-01-17T03:01:26.859346Z",
     "start_time": "2019-01-17T02:59:40.783968Z"
    }
   },
   "outputs": [],
   "source": [
    "t = historical[['card_id', 'purchase_day', 'merchant_id']]\n",
    "t['purchase_all_month'] = t['purchase_day']//30\n",
    "t = t.drop('purchase_day', axis=1)\n",
    "t1 = t[['card_id', 'purchase_all_month']].groupby(['card_id']).max()\n",
    "t1 = t1.rename(columns={'purchase_all_month': 'purchase_all_month_max'})\n",
    "t2 = t[['card_id', 'purchase_all_month']].groupby(['card_id']).min()\n",
    "t2 = t2.rename(columns={'purchase_all_month': 'purchase_all_month_min'})\n",
    "\n",
    "t3 = t.groupby(['card_id', 'merchant_id']).max() - t.groupby(['card_id', 'merchant_id']).min()\n",
    "\n",
    "t4 = t3.reset_index().groupby('card_id').max()[['purchase_all_month']].reset_index()\n",
    "t4 = t4.rename(columns={'purchase_all_month': 'month_diff_max'})\n",
    "t5 = t3.reset_index().groupby('card_id').mean()[['purchase_all_month']].reset_index()\n",
    "t5 = t5.rename(columns={'purchase_all_month': 'month_diff_mean'})\n",
    "t6 = t3.reset_index().groupby('card_id').sum()[['purchase_all_month']].reset_index()\n",
    "t6 = t6.rename(columns={'purchase_all_month': 'month_diff_sum'})\n",
    "t7 = pd.DataFrame(t3['purchase_all_month'].apply(bigger_0).groupby('card_id').sum()).reset_index()\n",
    "t7 = t7.rename(columns={'purchase_all_month': 'month_diff_bigger0'})"
   ]
  },
  {
   "cell_type": "code",
   "execution_count": 33,
   "metadata": {
    "ExecuteTime": {
     "end_time": "2019-01-17T03:01:30.778611Z",
     "start_time": "2019-01-17T03:01:27.374965Z"
    }
   },
   "outputs": [],
   "source": [
    "month_feature = historical[['card_id']]\n",
    "month_feature = month_feature.drop_duplicates().reset_index(drop=True)\n",
    "month_feature = pd.merge(month_feature, t1, on='card_id', how='left')\n",
    "month_feature = pd.merge(month_feature, t2, on='card_id', how='left')\n",
    "month_feature = pd.merge(month_feature, t4, on='card_id', how='left')\n",
    "month_feature = pd.merge(month_feature, t5, on='card_id', how='left')\n",
    "month_feature = pd.merge(month_feature, t6, on='card_id', how='left')\n",
    "month_feature = pd.merge(month_feature, t7, on='card_id', how='left')"
   ]
  },
  {
   "cell_type": "code",
   "execution_count": 34,
   "metadata": {
    "ExecuteTime": {
     "end_time": "2019-01-17T03:01:30.946136Z",
     "start_time": "2019-01-17T03:01:30.937171Z"
    }
   },
   "outputs": [
    {
     "data": {
      "text/html": [
       "<div>\n",
       "<style scoped>\n",
       "    .dataframe tbody tr th:only-of-type {\n",
       "        vertical-align: middle;\n",
       "    }\n",
       "\n",
       "    .dataframe tbody tr th {\n",
       "        vertical-align: top;\n",
       "    }\n",
       "\n",
       "    .dataframe thead th {\n",
       "        text-align: right;\n",
       "    }\n",
       "</style>\n",
       "<table border=\"1\" class=\"dataframe\">\n",
       "  <thead>\n",
       "    <tr style=\"text-align: right;\">\n",
       "      <th></th>\n",
       "      <th>card_id</th>\n",
       "      <th>purchase_month_max</th>\n",
       "      <th>purchase_month_min</th>\n",
       "      <th>month_diff_max</th>\n",
       "      <th>month_diff_mean</th>\n",
       "      <th>month_diff_sum</th>\n",
       "      <th>month_diff_bigger0</th>\n",
       "    </tr>\n",
       "  </thead>\n",
       "  <tbody>\n",
       "    <tr>\n",
       "      <th>0</th>\n",
       "      <td>C_ID_4e6213e9bc</td>\n",
       "      <td>75</td>\n",
       "      <td>62</td>\n",
       "      <td>9</td>\n",
       "      <td>2.400000</td>\n",
       "      <td>132</td>\n",
       "      <td>26</td>\n",
       "    </tr>\n",
       "    <tr>\n",
       "      <th>1</th>\n",
       "      <td>C_ID_5037ff576e</td>\n",
       "      <td>73</td>\n",
       "      <td>62</td>\n",
       "      <td>9</td>\n",
       "      <td>0.862500</td>\n",
       "      <td>69</td>\n",
       "      <td>14</td>\n",
       "    </tr>\n",
       "    <tr>\n",
       "      <th>2</th>\n",
       "      <td>C_ID_0e171c1b48</td>\n",
       "      <td>75</td>\n",
       "      <td>63</td>\n",
       "      <td>11</td>\n",
       "      <td>2.652778</td>\n",
       "      <td>191</td>\n",
       "      <td>30</td>\n",
       "    </tr>\n",
       "    <tr>\n",
       "      <th>3</th>\n",
       "      <td>C_ID_48fb13e70f</td>\n",
       "      <td>75</td>\n",
       "      <td>67</td>\n",
       "      <td>8</td>\n",
       "      <td>1.255814</td>\n",
       "      <td>54</td>\n",
       "      <td>10</td>\n",
       "    </tr>\n",
       "    <tr>\n",
       "      <th>4</th>\n",
       "      <td>C_ID_fc8e41b9cf</td>\n",
       "      <td>75</td>\n",
       "      <td>68</td>\n",
       "      <td>7</td>\n",
       "      <td>1.308642</td>\n",
       "      <td>106</td>\n",
       "      <td>26</td>\n",
       "    </tr>\n",
       "  </tbody>\n",
       "</table>\n",
       "</div>"
      ],
      "text/plain": [
       "           card_id  purchase_month_max  purchase_month_min  month_diff_max  \\\n",
       "0  C_ID_4e6213e9bc                  75                  62               9   \n",
       "1  C_ID_5037ff576e                  73                  62               9   \n",
       "2  C_ID_0e171c1b48                  75                  63              11   \n",
       "3  C_ID_48fb13e70f                  75                  67               8   \n",
       "4  C_ID_fc8e41b9cf                  75                  68               7   \n",
       "\n",
       "   month_diff_mean  month_diff_sum  month_diff_bigger0  \n",
       "0         2.400000             132                  26  \n",
       "1         0.862500              69                  14  \n",
       "2         2.652778             191                  30  \n",
       "3         1.255814              54                  10  \n",
       "4         1.308642             106                  26  "
      ]
     },
     "execution_count": 34,
     "metadata": {},
     "output_type": "execute_result"
    }
   ],
   "source": [
    "month_feature.head()"
   ]
  },
  {
   "cell_type": "code",
   "execution_count": 35,
   "metadata": {
    "ExecuteTime": {
     "end_time": "2019-01-17T03:01:33.208799Z",
     "start_time": "2019-01-17T03:01:31.099726Z"
    }
   },
   "outputs": [],
   "source": [
    "month_feature.to_csv('data/month_feature.csv', index=None)"
   ]
  },
  {
   "cell_type": "markdown",
   "metadata": {},
   "source": [
    "## "
   ]
  },
  {
   "cell_type": "code",
   "execution_count": null,
   "metadata": {},
   "outputs": [],
   "source": []
  },
  {
   "cell_type": "code",
   "execution_count": null,
   "metadata": {},
   "outputs": [],
   "source": []
  },
  {
   "cell_type": "code",
   "execution_count": null,
   "metadata": {},
   "outputs": [],
   "source": []
  },
  {
   "cell_type": "code",
   "execution_count": null,
   "metadata": {},
   "outputs": [],
   "source": []
  },
  {
   "cell_type": "code",
   "execution_count": null,
   "metadata": {},
   "outputs": [],
   "source": []
  },
  {
   "cell_type": "code",
   "execution_count": null,
   "metadata": {},
   "outputs": [],
   "source": []
  },
  {
   "cell_type": "code",
   "execution_count": null,
   "metadata": {},
   "outputs": [],
   "source": []
  },
  {
   "cell_type": "markdown",
   "metadata": {},
   "source": [
    "## purchase_second特征（购买方式）"
   ]
  },
  {
   "cell_type": "code",
   "execution_count": 76,
   "metadata": {
    "ExecuteTime": {
     "end_time": "2019-01-16T11:49:13.843971Z",
     "start_time": "2019-01-16T11:48:43.130124Z"
    }
   },
   "outputs": [],
   "source": [
    "t = historical[['card_id', 'purchase_second']]\n",
    "t['second_count'] = 1\n",
    "t1 = t.groupby(['card_id', 'purchase_second']).count().reset_index()\n",
    "\n",
    "t2 = t1.reset_index().groupby('card_id').max()[['second_count']].reset_index()\n",
    "t2 = t2.rename(columns={'second_count': 'second_max'})\n",
    "t3 = t1.reset_index().groupby('card_id').mean()[['second_count']].reset_index()\n",
    "t3 = t3.rename(columns={'second_count': 'second_mean'})\n",
    "t4 = t1.reset_index().groupby('card_id').max().reset_index()\n",
    "t4 = t4[['card_id', 'purchase_second']][t4['second_count'] != 1]\n",
    "t4 = t4.rename(columns={'purchase_second': 'max_second_time'})"
   ]
  },
  {
   "cell_type": "code",
   "execution_count": 77,
   "metadata": {
    "ExecuteTime": {
     "end_time": "2019-01-16T11:49:16.567780Z",
     "start_time": "2019-01-16T11:49:13.921737Z"
    }
   },
   "outputs": [],
   "source": [
    "second_feature = historical[['card_id']]\n",
    "second_feature = second_feature.drop_duplicates().reset_index(drop=True)\n",
    "second_feature = pd.merge(second_feature, t2, on='card_id', how='left')\n",
    "second_feature = pd.merge(second_feature, t3, on='card_id', how='left')\n",
    "second_feature = pd.merge(second_feature, t4, on='card_id', how='left')"
   ]
  },
  {
   "cell_type": "code",
   "execution_count": 78,
   "metadata": {
    "ExecuteTime": {
     "end_time": "2019-01-16T11:49:16.661454Z",
     "start_time": "2019-01-16T11:49:16.653430Z"
    }
   },
   "outputs": [
    {
     "data": {
      "text/html": [
       "<div>\n",
       "<style scoped>\n",
       "    .dataframe tbody tr th:only-of-type {\n",
       "        vertical-align: middle;\n",
       "    }\n",
       "\n",
       "    .dataframe tbody tr th {\n",
       "        vertical-align: top;\n",
       "    }\n",
       "\n",
       "    .dataframe thead th {\n",
       "        text-align: right;\n",
       "    }\n",
       "</style>\n",
       "<table border=\"1\" class=\"dataframe\">\n",
       "  <thead>\n",
       "    <tr style=\"text-align: right;\">\n",
       "      <th></th>\n",
       "      <th>card_id</th>\n",
       "      <th>second_max</th>\n",
       "      <th>second_mean</th>\n",
       "      <th>max_second_time</th>\n",
       "    </tr>\n",
       "  </thead>\n",
       "  <tbody>\n",
       "    <tr>\n",
       "      <th>0</th>\n",
       "      <td>C_ID_4e6213e9bc</td>\n",
       "      <td>5</td>\n",
       "      <td>1.025641</td>\n",
       "      <td>36405.0</td>\n",
       "    </tr>\n",
       "    <tr>\n",
       "      <th>1</th>\n",
       "      <td>C_ID_5037ff576e</td>\n",
       "      <td>5</td>\n",
       "      <td>1.044248</td>\n",
       "      <td>35383.0</td>\n",
       "    </tr>\n",
       "    <tr>\n",
       "      <th>2</th>\n",
       "      <td>C_ID_0e171c1b48</td>\n",
       "      <td>2</td>\n",
       "      <td>1.007220</td>\n",
       "      <td>36202.0</td>\n",
       "    </tr>\n",
       "    <tr>\n",
       "      <th>3</th>\n",
       "      <td>C_ID_48fb13e70f</td>\n",
       "      <td>9</td>\n",
       "      <td>1.111111</td>\n",
       "      <td>36564.0</td>\n",
       "    </tr>\n",
       "    <tr>\n",
       "      <th>4</th>\n",
       "      <td>C_ID_fc8e41b9cf</td>\n",
       "      <td>12</td>\n",
       "      <td>1.070796</td>\n",
       "      <td>36340.0</td>\n",
       "    </tr>\n",
       "  </tbody>\n",
       "</table>\n",
       "</div>"
      ],
      "text/plain": [
       "           card_id  second_max  second_mean  max_second_time\n",
       "0  C_ID_4e6213e9bc           5     1.025641          36405.0\n",
       "1  C_ID_5037ff576e           5     1.044248          35383.0\n",
       "2  C_ID_0e171c1b48           2     1.007220          36202.0\n",
       "3  C_ID_48fb13e70f           9     1.111111          36564.0\n",
       "4  C_ID_fc8e41b9cf          12     1.070796          36340.0"
      ]
     },
     "execution_count": 78,
     "metadata": {},
     "output_type": "execute_result"
    }
   ],
   "source": [
    "second_feature.head()"
   ]
  },
  {
   "cell_type": "code",
   "execution_count": 79,
   "metadata": {
    "ExecuteTime": {
     "end_time": "2019-01-16T11:49:17.809433Z",
     "start_time": "2019-01-16T11:49:16.742197Z"
    }
   },
   "outputs": [],
   "source": [
    "second_feature.to_csv('data/second_feature.csv', index=None)"
   ]
  },
  {
   "cell_type": "markdown",
   "metadata": {},
   "source": [
    "## installments特征"
   ]
  },
  {
   "cell_type": "code",
   "execution_count": 93,
   "metadata": {
    "ExecuteTime": {
     "end_time": "2019-01-16T12:04:00.876011Z",
     "start_time": "2019-01-16T12:03:41.008116Z"
    }
   },
   "outputs": [],
   "source": [
    "t = historical[['card_id', 'installments']]\n",
    "t['installments_count'] = 1\n",
    "t1 = t.groupby(['card_id', 'installments']).count().reset_index()\n",
    "\n",
    "t2 = t1.reset_index().groupby('card_id').max()[['installments_count']].reset_index()\n",
    "t2 = t2.rename(columns={'installments_count': 'install_num_max'})\n",
    "t3 = t1.reset_index().groupby('card_id').mean()[['installments_count']].reset_index()\n",
    "t3 = t3.rename(columns={'installments_count': 'install_num_mean'})\n",
    "t4 = t1.reset_index().groupby('card_id').median()[['installments_count']].reset_index()\n",
    "t4 = t4.rename(columns={'installments_count': 'install_num_median'})\n",
    "t5 = t1.reset_index().groupby('card_id').max().reset_index()\n",
    "t5 = t5[['card_id', 'installments']][t5['installments_count'] != -1]\n",
    "t5 = t5.rename(columns={'installments': 'max_installments'})\n",
    "t6 = t1.reset_index().groupby('card_id').median().reset_index()\n",
    "t6 = t6[['card_id', 'installments']][t6['installments_count'] != -1]\n",
    "t6 = t6.rename(columns={'installments': 'median_installments'})\n",
    "\n",
    "t7 = t.groupby('card_id').mean()[['installments']].reset_index()\n",
    "t7 = t7.rename(columns={'installments': 'mean_installments_value'})\n",
    "t8 = t.groupby('card_id').max()[['installments']].reset_index()\n",
    "t8 = t8.rename(columns={'installments': 'max_installments_value'})\n",
    "t9 = t.groupby('card_id').min()[['installments']].reset_index()\n",
    "t9 = t9.rename(columns={'installments': 'min_installments_value'})\n",
    "t10 = t.groupby('card_id').median()[['installments']].reset_index()\n",
    "t10 = t10.rename(columns={'installments': 'median_installments_value'})"
   ]
  },
  {
   "cell_type": "code",
   "execution_count": 94,
   "metadata": {
    "ExecuteTime": {
     "end_time": "2019-01-16T12:04:04.962224Z",
     "start_time": "2019-01-16T12:04:00.987678Z"
    }
   },
   "outputs": [],
   "source": [
    "installments_feature = historical[['card_id']]\n",
    "installments_feature = installments_feature.drop_duplicates().reset_index(drop=True)\n",
    "installments_feature = pd.merge(installments_feature, t2, on='card_id', how='left')\n",
    "installments_feature = pd.merge(installments_feature, t3, on='card_id', how='left')\n",
    "installments_feature = pd.merge(installments_feature, t4, on='card_id', how='left')\n",
    "installments_feature = pd.merge(installments_feature, t5, on='card_id', how='left')\n",
    "installments_feature = pd.merge(installments_feature, t6, on='card_id', how='left')\n",
    "installments_feature = pd.merge(installments_feature, t7, on='card_id', how='left')\n",
    "installments_feature = pd.merge(installments_feature, t8, on='card_id', how='left')\n",
    "installments_feature = pd.merge(installments_feature, t9, on='card_id', how='left')\n",
    "installments_feature = pd.merge(installments_feature, t10, on='card_id', how='left')"
   ]
  },
  {
   "cell_type": "code",
   "execution_count": 95,
   "metadata": {
    "ExecuteTime": {
     "end_time": "2019-01-16T12:04:05.071961Z",
     "start_time": "2019-01-16T12:04:05.059966Z"
    }
   },
   "outputs": [
    {
     "data": {
      "text/html": [
       "<div>\n",
       "<style scoped>\n",
       "    .dataframe tbody tr th:only-of-type {\n",
       "        vertical-align: middle;\n",
       "    }\n",
       "\n",
       "    .dataframe tbody tr th {\n",
       "        vertical-align: top;\n",
       "    }\n",
       "\n",
       "    .dataframe thead th {\n",
       "        text-align: right;\n",
       "    }\n",
       "</style>\n",
       "<table border=\"1\" class=\"dataframe\">\n",
       "  <thead>\n",
       "    <tr style=\"text-align: right;\">\n",
       "      <th></th>\n",
       "      <th>card_id</th>\n",
       "      <th>install_num_max</th>\n",
       "      <th>install_num_mean</th>\n",
       "      <th>install_num_median</th>\n",
       "      <th>max_installments</th>\n",
       "      <th>median_installments</th>\n",
       "      <th>mean_installments_value</th>\n",
       "      <th>max_installments_value</th>\n",
       "      <th>min_installments_value</th>\n",
       "      <th>median_installments_value</th>\n",
       "    </tr>\n",
       "  </thead>\n",
       "  <tbody>\n",
       "    <tr>\n",
       "      <th>0</th>\n",
       "      <td>C_ID_4e6213e9bc</td>\n",
       "      <td>400</td>\n",
       "      <td>400.000000</td>\n",
       "      <td>400.0</td>\n",
       "      <td>0</td>\n",
       "      <td>0.0</td>\n",
       "      <td>0.000000</td>\n",
       "      <td>0</td>\n",
       "      <td>0</td>\n",
       "      <td>0.0</td>\n",
       "    </tr>\n",
       "    <tr>\n",
       "      <th>1</th>\n",
       "      <td>C_ID_5037ff576e</td>\n",
       "      <td>116</td>\n",
       "      <td>39.333333</td>\n",
       "      <td>1.0</td>\n",
       "      <td>5</td>\n",
       "      <td>3.0</td>\n",
       "      <td>1.050847</td>\n",
       "      <td>5</td>\n",
       "      <td>1</td>\n",
       "      <td>1.0</td>\n",
       "    </tr>\n",
       "    <tr>\n",
       "      <th>2</th>\n",
       "      <td>C_ID_0e171c1b48</td>\n",
       "      <td>276</td>\n",
       "      <td>139.500000</td>\n",
       "      <td>139.5</td>\n",
       "      <td>1</td>\n",
       "      <td>0.5</td>\n",
       "      <td>0.010753</td>\n",
       "      <td>1</td>\n",
       "      <td>0</td>\n",
       "      <td>0.0</td>\n",
       "    </tr>\n",
       "    <tr>\n",
       "      <th>3</th>\n",
       "      <td>C_ID_48fb13e70f</td>\n",
       "      <td>72</td>\n",
       "      <td>20.000000</td>\n",
       "      <td>3.5</td>\n",
       "      <td>4</td>\n",
       "      <td>2.5</td>\n",
       "      <td>1.162500</td>\n",
       "      <td>4</td>\n",
       "      <td>1</td>\n",
       "      <td>1.0</td>\n",
       "    </tr>\n",
       "    <tr>\n",
       "      <th>4</th>\n",
       "      <td>C_ID_fc8e41b9cf</td>\n",
       "      <td>203</td>\n",
       "      <td>30.250000</td>\n",
       "      <td>6.5</td>\n",
       "      <td>10</td>\n",
       "      <td>3.5</td>\n",
       "      <td>1.376033</td>\n",
       "      <td>10</td>\n",
       "      <td>-1</td>\n",
       "      <td>1.0</td>\n",
       "    </tr>\n",
       "  </tbody>\n",
       "</table>\n",
       "</div>"
      ],
      "text/plain": [
       "           card_id  install_num_max  install_num_mean  install_num_median  \\\n",
       "0  C_ID_4e6213e9bc              400        400.000000               400.0   \n",
       "1  C_ID_5037ff576e              116         39.333333                 1.0   \n",
       "2  C_ID_0e171c1b48              276        139.500000               139.5   \n",
       "3  C_ID_48fb13e70f               72         20.000000                 3.5   \n",
       "4  C_ID_fc8e41b9cf              203         30.250000                 6.5   \n",
       "\n",
       "   max_installments  median_installments  mean_installments_value  \\\n",
       "0                 0                  0.0                 0.000000   \n",
       "1                 5                  3.0                 1.050847   \n",
       "2                 1                  0.5                 0.010753   \n",
       "3                 4                  2.5                 1.162500   \n",
       "4                10                  3.5                 1.376033   \n",
       "\n",
       "   max_installments_value  min_installments_value  median_installments_value  \n",
       "0                       0                       0                        0.0  \n",
       "1                       5                       1                        1.0  \n",
       "2                       1                       0                        0.0  \n",
       "3                       4                       1                        1.0  \n",
       "4                      10                      -1                        1.0  "
      ]
     },
     "execution_count": 95,
     "metadata": {},
     "output_type": "execute_result"
    }
   ],
   "source": [
    "installments_feature.head()"
   ]
  },
  {
   "cell_type": "code",
   "execution_count": 96,
   "metadata": {
    "ExecuteTime": {
     "end_time": "2019-01-16T12:04:07.607266Z",
     "start_time": "2019-01-16T12:04:05.171667Z"
    }
   },
   "outputs": [],
   "source": [
    "installments_feature.to_csv('data/installments_feature.csv', index=None)"
   ]
  },
  {
   "cell_type": "markdown",
   "metadata": {},
   "source": [
    "## purchase_amount特征"
   ]
  },
  {
   "cell_type": "code",
   "execution_count": 103,
   "metadata": {
    "ExecuteTime": {
     "end_time": "2019-01-16T12:10:28.423852Z",
     "start_time": "2019-01-16T12:09:54.024828Z"
    }
   },
   "outputs": [],
   "source": [
    "t = historical[['card_id', 'purchase_amount']]\n",
    "t['purchase_count'] = 1\n",
    "t1 = t.groupby(['card_id', 'purchase_amount']).count().reset_index()\n",
    "\n",
    "t2 = t1.reset_index().groupby('card_id').max()[['purchase_count']].reset_index()\n",
    "t2 = t2.rename(columns={'purchase_count': 'purchase_num_max'})\n",
    "t3 = t1.reset_index().groupby('card_id').mean()[['purchase_count']].reset_index()\n",
    "t3 = t3.rename(columns={'purchase_count': 'purchase_num_mean'})\n",
    "t4 = t1.reset_index().groupby('card_id').median()[['purchase_count']].reset_index()\n",
    "t4 = t4.rename(columns={'purchase_count': 'purchase_num_median'})\n",
    "t4 = t1.reset_index().groupby('card_id').min()[['purchase_count']].reset_index()\n",
    "t4 = t4.rename(columns={'purchase_count': 'purchase_num_min'})\n",
    "t5 = t1.reset_index().groupby('card_id').max().reset_index()\n",
    "t5 = t5[['card_id', 'purchase_amount']][t5['purchase_count'] != -1]\n",
    "t5 = t5.rename(columns={'purchase_amount': 'max_purchase'})\n",
    "t6 = t1.reset_index().groupby('card_id').median().reset_index()\n",
    "t6 = t6[['card_id', 'purchase_amount']][t6['purchase_count'] != -1]\n",
    "t6 = t6.rename(columns={'purchase_amount': 'median_purchase'})"
   ]
  },
  {
   "cell_type": "code",
   "execution_count": 104,
   "metadata": {
    "ExecuteTime": {
     "end_time": "2019-01-16T12:10:41.035119Z",
     "start_time": "2019-01-16T12:10:28.541509Z"
    }
   },
   "outputs": [],
   "source": [
    "t7 = t.groupby('card_id').mean()[['purchase_amount']].reset_index()\n",
    "t7 = t7.rename(columns={'purchase_amount': 'mean_purchase_amount_value'})\n",
    "t8 = t.groupby('card_id').max()[['purchase_amount']].reset_index()\n",
    "t8 = t8.rename(columns={'purchase_amount': 'max_purchase_amount_value'})\n",
    "t9 = t.groupby('card_id').min()[['purchase_amount']].reset_index()\n",
    "t9 = t9.rename(columns={'purchase_amount': 'min_purchase_amount_value'})\n",
    "t10 = t.groupby('card_id').median()[['purchase_amount']].reset_index()\n",
    "t10 = t10.rename(columns={'purchase_amount': 'median_purchase_amount_value'})"
   ]
  },
  {
   "cell_type": "code",
   "execution_count": 105,
   "metadata": {
    "ExecuteTime": {
     "end_time": "2019-01-16T12:10:45.149137Z",
     "start_time": "2019-01-16T12:10:41.152786Z"
    }
   },
   "outputs": [],
   "source": [
    "purchase_feature = historical[['card_id']]\n",
    "purchase_feature = purchase_feature.drop_duplicates().reset_index(drop=True)\n",
    "purchase_feature = pd.merge(purchase_feature, t2, on='card_id', how='left')\n",
    "purchase_feature = pd.merge(purchase_feature, t3, on='card_id', how='left')\n",
    "purchase_feature = pd.merge(purchase_feature, t4, on='card_id', how='left')\n",
    "purchase_feature = pd.merge(purchase_feature, t5, on='card_id', how='left')\n",
    "purchase_feature = pd.merge(purchase_feature, t6, on='card_id', how='left')\n",
    "purchase_feature = pd.merge(purchase_feature, t7, on='card_id', how='left')\n",
    "purchase_feature = pd.merge(purchase_feature, t8, on='card_id', how='left')\n",
    "purchase_feature = pd.merge(purchase_feature, t9, on='card_id', how='left')\n",
    "purchase_feature = pd.merge(purchase_feature, t10, on='card_id', how='left')"
   ]
  },
  {
   "cell_type": "code",
   "execution_count": 106,
   "metadata": {
    "ExecuteTime": {
     "end_time": "2019-01-16T12:10:45.287753Z",
     "start_time": "2019-01-16T12:10:45.274751Z"
    }
   },
   "outputs": [
    {
     "data": {
      "text/html": [
       "<div>\n",
       "<style scoped>\n",
       "    .dataframe tbody tr th:only-of-type {\n",
       "        vertical-align: middle;\n",
       "    }\n",
       "\n",
       "    .dataframe tbody tr th {\n",
       "        vertical-align: top;\n",
       "    }\n",
       "\n",
       "    .dataframe thead th {\n",
       "        text-align: right;\n",
       "    }\n",
       "</style>\n",
       "<table border=\"1\" class=\"dataframe\">\n",
       "  <thead>\n",
       "    <tr style=\"text-align: right;\">\n",
       "      <th></th>\n",
       "      <th>card_id</th>\n",
       "      <th>purchase_num_max</th>\n",
       "      <th>purchase_num_mean</th>\n",
       "      <th>purchase_num_min</th>\n",
       "      <th>max_purchase</th>\n",
       "      <th>median_purchase</th>\n",
       "      <th>mean_purchase_amount_value</th>\n",
       "      <th>max_purchase_amount_value</th>\n",
       "      <th>min_purchase_amount_value</th>\n",
       "      <th>median_purchase_amount_value</th>\n",
       "    </tr>\n",
       "  </thead>\n",
       "  <tbody>\n",
       "    <tr>\n",
       "      <th>0</th>\n",
       "      <td>C_ID_4e6213e9bc</td>\n",
       "      <td>38</td>\n",
       "      <td>2.197802</td>\n",
       "      <td>1</td>\n",
       "      <td>-0.249230</td>\n",
       "      <td>-0.727636</td>\n",
       "      <td>-0.726847</td>\n",
       "      <td>-0.249230</td>\n",
       "      <td>-0.745405</td>\n",
       "      <td>-0.734135</td>\n",
       "    </tr>\n",
       "    <tr>\n",
       "      <th>1</th>\n",
       "      <td>C_ID_5037ff576e</td>\n",
       "      <td>7</td>\n",
       "      <td>1.134615</td>\n",
       "      <td>1</td>\n",
       "      <td>1.567175</td>\n",
       "      <td>-0.634074</td>\n",
       "      <td>-0.368180</td>\n",
       "      <td>1.567175</td>\n",
       "      <td>-0.716434</td>\n",
       "      <td>-0.637830</td>\n",
       "    </tr>\n",
       "    <tr>\n",
       "      <th>2</th>\n",
       "      <td>C_ID_0e171c1b48</td>\n",
       "      <td>12</td>\n",
       "      <td>2.007194</td>\n",
       "      <td>1</td>\n",
       "      <td>-0.296112</td>\n",
       "      <td>-0.723391</td>\n",
       "      <td>-0.707345</td>\n",
       "      <td>-0.296112</td>\n",
       "      <td>-0.745405</td>\n",
       "      <td>-0.728125</td>\n",
       "    </tr>\n",
       "    <tr>\n",
       "      <th>3</th>\n",
       "      <td>C_ID_48fb13e70f</td>\n",
       "      <td>3</td>\n",
       "      <td>1.142857</td>\n",
       "      <td>1</td>\n",
       "      <td>0.764910</td>\n",
       "      <td>-0.635809</td>\n",
       "      <td>-0.566132</td>\n",
       "      <td>0.764910</td>\n",
       "      <td>-0.737892</td>\n",
       "      <td>-0.641031</td>\n",
       "    </tr>\n",
       "    <tr>\n",
       "      <th>4</th>\n",
       "      <td>C_ID_fc8e41b9cf</td>\n",
       "      <td>7</td>\n",
       "      <td>1.337017</td>\n",
       "      <td>1</td>\n",
       "      <td>3.240738</td>\n",
       "      <td>-0.619814</td>\n",
       "      <td>-0.455373</td>\n",
       "      <td>3.240738</td>\n",
       "      <td>-0.731881</td>\n",
       "      <td>-0.628198</td>\n",
       "    </tr>\n",
       "  </tbody>\n",
       "</table>\n",
       "</div>"
      ],
      "text/plain": [
       "           card_id  purchase_num_max  purchase_num_mean  purchase_num_min  \\\n",
       "0  C_ID_4e6213e9bc                38           2.197802                 1   \n",
       "1  C_ID_5037ff576e                 7           1.134615                 1   \n",
       "2  C_ID_0e171c1b48                12           2.007194                 1   \n",
       "3  C_ID_48fb13e70f                 3           1.142857                 1   \n",
       "4  C_ID_fc8e41b9cf                 7           1.337017                 1   \n",
       "\n",
       "   max_purchase  median_purchase  mean_purchase_amount_value  \\\n",
       "0     -0.249230        -0.727636                   -0.726847   \n",
       "1      1.567175        -0.634074                   -0.368180   \n",
       "2     -0.296112        -0.723391                   -0.707345   \n",
       "3      0.764910        -0.635809                   -0.566132   \n",
       "4      3.240738        -0.619814                   -0.455373   \n",
       "\n",
       "   max_purchase_amount_value  min_purchase_amount_value  \\\n",
       "0                  -0.249230                  -0.745405   \n",
       "1                   1.567175                  -0.716434   \n",
       "2                  -0.296112                  -0.745405   \n",
       "3                   0.764910                  -0.737892   \n",
       "4                   3.240738                  -0.731881   \n",
       "\n",
       "   median_purchase_amount_value  \n",
       "0                     -0.734135  \n",
       "1                     -0.637830  \n",
       "2                     -0.728125  \n",
       "3                     -0.641031  \n",
       "4                     -0.628198  "
      ]
     },
     "execution_count": 106,
     "metadata": {},
     "output_type": "execute_result"
    }
   ],
   "source": [
    "purchase_feature.head()"
   ]
  },
  {
   "cell_type": "code",
   "execution_count": 107,
   "metadata": {
    "ExecuteTime": {
     "end_time": "2019-01-16T12:11:22.563973Z",
     "start_time": "2019-01-16T12:11:19.385375Z"
    }
   },
   "outputs": [],
   "source": [
    "purchase_feature.to_csv('data/purchase_feature.csv', index=None)"
   ]
  },
  {
   "cell_type": "markdown",
   "metadata": {},
   "source": [
    "## purchase_installments联合特征"
   ]
  },
  {
   "cell_type": "code",
   "execution_count": 112,
   "metadata": {
    "ExecuteTime": {
     "end_time": "2019-01-16T12:32:01.112953Z",
     "start_time": "2019-01-16T12:31:54.875637Z"
    }
   },
   "outputs": [],
   "source": [
    "t = historical[['card_id', 'installments', 'purchase_amount']]\n",
    "t1 = t[['card_id', 'purchase_amount']].groupby(['card_id']).max()[['purchase_amount']]\n",
    "t1 = t1.rename(columns={'purchase_amount': 'purchase_max'})\n",
    "t1['install_max'] = t[['card_id', 'installments']].groupby(['card_id']).max()[['installments']]"
   ]
  },
  {
   "cell_type": "code",
   "execution_count": 120,
   "metadata": {
    "ExecuteTime": {
     "end_time": "2019-01-16T12:37:14.788667Z",
     "start_time": "2019-01-16T12:37:14.784678Z"
    },
    "scrolled": false
   },
   "outputs": [],
   "source": [
    "def change_not_0(y):\n",
    "    if y == 0 or y == -1:\n",
    "        return 1\n",
    "    else:\n",
    "        return y"
   ]
  },
  {
   "cell_type": "code",
   "execution_count": 124,
   "metadata": {
    "ExecuteTime": {
     "end_time": "2019-01-16T12:38:01.001745Z",
     "start_time": "2019-01-16T12:38:00.886021Z"
    }
   },
   "outputs": [],
   "source": [
    "t1['install_max'] = t1['install_max'].apply(change_not_0)\n",
    "t1['every_max_install_amount'] = t1['purchase_max']/t1['install_max']\n",
    "t1 = t1[['every_max_install_amount']]"
   ]
  },
  {
   "cell_type": "code",
   "execution_count": 126,
   "metadata": {
    "ExecuteTime": {
     "end_time": "2019-01-16T12:39:29.237360Z",
     "start_time": "2019-01-16T12:39:23.280173Z"
    }
   },
   "outputs": [],
   "source": [
    "t2 = t[['card_id', 'purchase_amount']].groupby(['card_id']).mean()[['purchase_amount']]\n",
    "t2 = t2.rename(columns={'purchase_amount': 'purchase_mean'})\n",
    "t2['install_mean'] = t[['card_id', 'installments']].groupby(['card_id']).mean()[['installments']]\n",
    "t2['install_mean'] = t2['install_mean'].apply(change_not_0)\n",
    "t2['every_mean_install_amount'] = t2['purchase_mean']/t2['install_mean']\n",
    "t2 = t2[['every_mean_install_amount']]"
   ]
  },
  {
   "cell_type": "code",
   "execution_count": 127,
   "metadata": {
    "ExecuteTime": {
     "end_time": "2019-01-16T12:39:59.128712Z",
     "start_time": "2019-01-16T12:39:52.207193Z"
    }
   },
   "outputs": [],
   "source": [
    "t3 = t[['card_id', 'purchase_amount']].groupby(['card_id']).median()[['purchase_amount']]\n",
    "t3 = t3.rename(columns={'purchase_amount': 'purchase_median'})\n",
    "t3['install_median'] = t[['card_id', 'installments']].groupby(['card_id']).median()[['installments']]\n",
    "t3['install_median'] = t3['install_median'].apply(change_not_0)\n",
    "t3['every_median_install_amount'] = t3['purchase_median']/t3['install_median']\n",
    "t3 = t3[['every_median_install_amount']]"
   ]
  },
  {
   "cell_type": "code",
   "execution_count": 128,
   "metadata": {
    "ExecuteTime": {
     "end_time": "2019-01-16T12:40:38.765473Z",
     "start_time": "2019-01-16T12:40:36.047743Z"
    }
   },
   "outputs": [],
   "source": [
    "install_purchase_feature = historical[['card_id']]\n",
    "install_purchase_feature = install_purchase_feature.drop_duplicates().reset_index(drop=True)\n",
    "install_purchase_feature = pd.merge(install_purchase_feature, t1, on='card_id', how='left')\n",
    "install_purchase_feature = pd.merge(install_purchase_feature, t2, on='card_id', how='left')\n",
    "install_purchase_feature = pd.merge(install_purchase_feature, t3, on='card_id', how='left')"
   ]
  },
  {
   "cell_type": "code",
   "execution_count": 129,
   "metadata": {
    "ExecuteTime": {
     "end_time": "2019-01-16T12:40:46.640145Z",
     "start_time": "2019-01-16T12:40:46.631140Z"
    }
   },
   "outputs": [
    {
     "data": {
      "text/html": [
       "<div>\n",
       "<style scoped>\n",
       "    .dataframe tbody tr th:only-of-type {\n",
       "        vertical-align: middle;\n",
       "    }\n",
       "\n",
       "    .dataframe tbody tr th {\n",
       "        vertical-align: top;\n",
       "    }\n",
       "\n",
       "    .dataframe thead th {\n",
       "        text-align: right;\n",
       "    }\n",
       "</style>\n",
       "<table border=\"1\" class=\"dataframe\">\n",
       "  <thead>\n",
       "    <tr style=\"text-align: right;\">\n",
       "      <th></th>\n",
       "      <th>card_id</th>\n",
       "      <th>every_max_install_amount</th>\n",
       "      <th>every_mean_install_amount</th>\n",
       "      <th>every_median_install_amount</th>\n",
       "    </tr>\n",
       "  </thead>\n",
       "  <tbody>\n",
       "    <tr>\n",
       "      <th>0</th>\n",
       "      <td>C_ID_4e6213e9bc</td>\n",
       "      <td>-0.249230</td>\n",
       "      <td>-0.726847</td>\n",
       "      <td>-0.734135</td>\n",
       "    </tr>\n",
       "    <tr>\n",
       "      <th>1</th>\n",
       "      <td>C_ID_5037ff576e</td>\n",
       "      <td>0.313435</td>\n",
       "      <td>-0.350365</td>\n",
       "      <td>-0.637830</td>\n",
       "    </tr>\n",
       "    <tr>\n",
       "      <th>2</th>\n",
       "      <td>C_ID_0e171c1b48</td>\n",
       "      <td>-0.296112</td>\n",
       "      <td>-65.783093</td>\n",
       "      <td>-0.728125</td>\n",
       "    </tr>\n",
       "    <tr>\n",
       "      <th>3</th>\n",
       "      <td>C_ID_48fb13e70f</td>\n",
       "      <td>0.191227</td>\n",
       "      <td>-0.486995</td>\n",
       "      <td>-0.641031</td>\n",
       "    </tr>\n",
       "    <tr>\n",
       "      <th>4</th>\n",
       "      <td>C_ID_fc8e41b9cf</td>\n",
       "      <td>0.324074</td>\n",
       "      <td>-0.330932</td>\n",
       "      <td>-0.628198</td>\n",
       "    </tr>\n",
       "  </tbody>\n",
       "</table>\n",
       "</div>"
      ],
      "text/plain": [
       "           card_id  every_max_install_amount  every_mean_install_amount  \\\n",
       "0  C_ID_4e6213e9bc                 -0.249230                  -0.726847   \n",
       "1  C_ID_5037ff576e                  0.313435                  -0.350365   \n",
       "2  C_ID_0e171c1b48                 -0.296112                 -65.783093   \n",
       "3  C_ID_48fb13e70f                  0.191227                  -0.486995   \n",
       "4  C_ID_fc8e41b9cf                  0.324074                  -0.330932   \n",
       "\n",
       "   every_median_install_amount  \n",
       "0                    -0.734135  \n",
       "1                    -0.637830  \n",
       "2                    -0.728125  \n",
       "3                    -0.641031  \n",
       "4                    -0.628198  "
      ]
     },
     "execution_count": 129,
     "metadata": {},
     "output_type": "execute_result"
    }
   ],
   "source": [
    "install_purchase_feature.head()"
   ]
  },
  {
   "cell_type": "code",
   "execution_count": 130,
   "metadata": {
    "ExecuteTime": {
     "end_time": "2019-01-16T12:41:09.869676Z",
     "start_time": "2019-01-16T12:41:08.374052Z"
    }
   },
   "outputs": [],
   "source": [
    "install_purchase_feature.to_csv('data/install_purchase_feature.csv', index=None)"
   ]
  },
  {
   "cell_type": "markdown",
   "metadata": {},
   "source": [
    "## category特征"
   ]
  },
  {
   "cell_type": "code",
   "execution_count": 5,
   "metadata": {
    "ExecuteTime": {
     "end_time": "2019-01-17T01:50:09.193975Z",
     "start_time": "2019-01-17T01:49:58.802750Z"
    }
   },
   "outputs": [],
   "source": [
    "category_features = ['category_1', 'category_2', 'category_3']\n",
    "for col in category_features:\n",
    "    historical[col] = historical[col].map(dict(zip(historical[col].unique(), range(0, historical[col].nunique()))))"
   ]
  },
  {
   "cell_type": "code",
   "execution_count": 15,
   "metadata": {
    "ExecuteTime": {
     "end_time": "2019-01-17T01:56:24.607907Z",
     "start_time": "2019-01-17T01:56:11.955504Z"
    }
   },
   "outputs": [],
   "source": [
    "category_1_feature = historical[['card_id']]\n",
    "category_1_feature = category_1_feature.drop_duplicates().reset_index(drop=True)\n",
    "t = historical[['merchant_id','category_1', 'card_id']]\n",
    "t['same_category_1_count'] = 1\n",
    "t1 = t[['card_id', 'category_1', 'same_category_1_count']].groupby(['card_id', 'category_1']).count()\n",
    "\n",
    "t2 = t1.reset_index().groupby('card_id').max()[['same_category_1_count']].reset_index()\n",
    "t2 = t2.rename(columns={'same_category_1_count': 'same_category_1_max'})\n",
    "t3 = t1.reset_index().groupby('card_id').mean()[['same_category_1_count']].reset_index()\n",
    "t3 = t3.rename(columns={'same_category_1_count': 'same_category_1_mean'})\n",
    "t4 = t1.reset_index().groupby('card_id').min()[['same_category_1_count']].reset_index()\n",
    "t4 = t4.rename(columns={'same_category_1_count': 'same_category_1_min'})\n",
    "t5 = t1.reset_index().groupby('card_id').median()[['same_category_1_count']].reset_index()\n",
    "t5 = t5.rename(columns={'same_category_1_count': 'same_category_1_median'})\n",
    "\n",
    "t6 = t[['card_id', 'category_1']].groupby('card_id').mean().reset_index()\n",
    "t6 = t6.rename(columns={'category_1': 'mean_category_1_value'})\n",
    "t7 = t[['card_id', 'category_1']].groupby('card_id').max().reset_index()\n",
    "t7 = t7.rename(columns={'category_1': 'max_category_1_value'})\n",
    "t8 = t[['card_id', 'category_1']].groupby('card_id').min().reset_index()\n",
    "t8 = t8.rename(columns={'category_1': 'min_category_1_value'})\n",
    "t9 = t[['card_id', 'category_1']].groupby('card_id').median().reset_index()\n",
    "t9 = t9.rename(columns={'category_1': 'median_category_1_value'})"
   ]
  },
  {
   "cell_type": "code",
   "execution_count": 16,
   "metadata": {
    "ExecuteTime": {
     "end_time": "2019-01-17T01:56:36.979899Z",
     "start_time": "2019-01-17T01:56:32.903426Z"
    }
   },
   "outputs": [],
   "source": [
    "category_1_feature = historical[['card_id']]\n",
    "category_1_feature = category_1_feature.drop_duplicates().reset_index(drop=True)\n",
    "category_1_feature = pd.merge(category_1_feature, t2, on='card_id', how='left')\n",
    "category_1_feature = pd.merge(category_1_feature, t3, on='card_id', how='left')\n",
    "category_1_feature = pd.merge(category_1_feature, t4, on='card_id', how='left')\n",
    "category_1_feature = pd.merge(category_1_feature, t5, on='card_id', how='left')\n",
    "category_1_feature = pd.merge(category_1_feature, t6, on='card_id', how='left')\n",
    "category_1_feature = pd.merge(category_1_feature, t7, on='card_id', how='left')\n",
    "category_1_feature = pd.merge(category_1_feature, t8, on='card_id', how='left')\n",
    "category_1_feature = pd.merge(category_1_feature, t9, on='card_id', how='left')"
   ]
  },
  {
   "cell_type": "code",
   "execution_count": 17,
   "metadata": {
    "ExecuteTime": {
     "end_time": "2019-01-17T01:56:37.065741Z",
     "start_time": "2019-01-17T01:56:37.053773Z"
    }
   },
   "outputs": [
    {
     "data": {
      "text/html": [
       "<div>\n",
       "<style scoped>\n",
       "    .dataframe tbody tr th:only-of-type {\n",
       "        vertical-align: middle;\n",
       "    }\n",
       "\n",
       "    .dataframe tbody tr th {\n",
       "        vertical-align: top;\n",
       "    }\n",
       "\n",
       "    .dataframe thead th {\n",
       "        text-align: right;\n",
       "    }\n",
       "</style>\n",
       "<table border=\"1\" class=\"dataframe\">\n",
       "  <thead>\n",
       "    <tr style=\"text-align: right;\">\n",
       "      <th></th>\n",
       "      <th>card_id</th>\n",
       "      <th>same_category_1_max</th>\n",
       "      <th>same_category_1_mean</th>\n",
       "      <th>same_category_1_min</th>\n",
       "      <th>same_category_1_median</th>\n",
       "      <th>mean_category_1_value</th>\n",
       "      <th>max_category_1_value</th>\n",
       "      <th>min_category_1_value</th>\n",
       "      <th>median_category_1_value</th>\n",
       "    </tr>\n",
       "  </thead>\n",
       "  <tbody>\n",
       "    <tr>\n",
       "      <th>0</th>\n",
       "      <td>C_ID_4e6213e9bc</td>\n",
       "      <td>400</td>\n",
       "      <td>400.0</td>\n",
       "      <td>400</td>\n",
       "      <td>400.0</td>\n",
       "      <td>0.000000</td>\n",
       "      <td>0</td>\n",
       "      <td>0</td>\n",
       "      <td>0.0</td>\n",
       "    </tr>\n",
       "    <tr>\n",
       "      <th>1</th>\n",
       "      <td>C_ID_5037ff576e</td>\n",
       "      <td>118</td>\n",
       "      <td>118.0</td>\n",
       "      <td>118</td>\n",
       "      <td>118.0</td>\n",
       "      <td>0.000000</td>\n",
       "      <td>0</td>\n",
       "      <td>0</td>\n",
       "      <td>0.0</td>\n",
       "    </tr>\n",
       "    <tr>\n",
       "      <th>2</th>\n",
       "      <td>C_ID_0e171c1b48</td>\n",
       "      <td>279</td>\n",
       "      <td>279.0</td>\n",
       "      <td>279</td>\n",
       "      <td>279.0</td>\n",
       "      <td>0.000000</td>\n",
       "      <td>0</td>\n",
       "      <td>0</td>\n",
       "      <td>0.0</td>\n",
       "    </tr>\n",
       "    <tr>\n",
       "      <th>3</th>\n",
       "      <td>C_ID_48fb13e70f</td>\n",
       "      <td>75</td>\n",
       "      <td>40.0</td>\n",
       "      <td>5</td>\n",
       "      <td>40.0</td>\n",
       "      <td>0.062500</td>\n",
       "      <td>1</td>\n",
       "      <td>0</td>\n",
       "      <td>0.0</td>\n",
       "    </tr>\n",
       "    <tr>\n",
       "      <th>4</th>\n",
       "      <td>C_ID_fc8e41b9cf</td>\n",
       "      <td>241</td>\n",
       "      <td>121.0</td>\n",
       "      <td>1</td>\n",
       "      <td>121.0</td>\n",
       "      <td>0.004132</td>\n",
       "      <td>1</td>\n",
       "      <td>0</td>\n",
       "      <td>0.0</td>\n",
       "    </tr>\n",
       "  </tbody>\n",
       "</table>\n",
       "</div>"
      ],
      "text/plain": [
       "           card_id  same_category_1_max  same_category_1_mean  \\\n",
       "0  C_ID_4e6213e9bc                  400                 400.0   \n",
       "1  C_ID_5037ff576e                  118                 118.0   \n",
       "2  C_ID_0e171c1b48                  279                 279.0   \n",
       "3  C_ID_48fb13e70f                   75                  40.0   \n",
       "4  C_ID_fc8e41b9cf                  241                 121.0   \n",
       "\n",
       "   same_category_1_min  same_category_1_median  mean_category_1_value  \\\n",
       "0                  400                   400.0               0.000000   \n",
       "1                  118                   118.0               0.000000   \n",
       "2                  279                   279.0               0.000000   \n",
       "3                    5                    40.0               0.062500   \n",
       "4                    1                   121.0               0.004132   \n",
       "\n",
       "   max_category_1_value  min_category_1_value  median_category_1_value  \n",
       "0                     0                     0                      0.0  \n",
       "1                     0                     0                      0.0  \n",
       "2                     0                     0                      0.0  \n",
       "3                     1                     0                      0.0  \n",
       "4                     1                     0                      0.0  "
      ]
     },
     "execution_count": 17,
     "metadata": {},
     "output_type": "execute_result"
    }
   ],
   "source": [
    "category_1_feature.head()"
   ]
  },
  {
   "cell_type": "code",
   "execution_count": 18,
   "metadata": {
    "ExecuteTime": {
     "end_time": "2019-01-17T01:57:21.684419Z",
     "start_time": "2019-01-17T01:57:19.392250Z"
    }
   },
   "outputs": [],
   "source": [
    "category_1_feature.to_csv('data/category_1_feature.csv', index=None)"
   ]
  },
  {
   "cell_type": "code",
   "execution_count": 19,
   "metadata": {
    "ExecuteTime": {
     "end_time": "2019-01-17T01:58:08.704911Z",
     "start_time": "2019-01-17T01:57:44.788266Z"
    }
   },
   "outputs": [],
   "source": [
    "category_2_feature = historical[['card_id']]\n",
    "category_2_feature = category_2_feature.drop_duplicates().reset_index(drop=True)\n",
    "t = historical[['merchant_id','category_2', 'card_id']]\n",
    "t['same_category_2_count'] = 1\n",
    "t1 = t[['card_id', 'category_2', 'same_category_2_count']].groupby(['card_id', 'category_2']).count()\n",
    "\n",
    "t2 = t1.reset_index().groupby('card_id').max()[['same_category_2_count']].reset_index()\n",
    "t2 = t2.rename(columns={'same_category_2_count': 'same_category_2_max'})\n",
    "t3 = t1.reset_index().groupby('card_id').mean()[['same_category_2_count']].reset_index()\n",
    "t3 = t3.rename(columns={'same_category_2_count': 'same_category_2_mean'})\n",
    "t4 = t1.reset_index().groupby('card_id').min()[['same_category_2_count']].reset_index()\n",
    "t4 = t4.rename(columns={'same_category_2_count': 'same_category_2_min'})\n",
    "t5 = t1.reset_index().groupby('card_id').median()[['same_category_2_count']].reset_index()\n",
    "t5 = t5.rename(columns={'same_category_2_count': 'same_category_2_median'})\n",
    "\n",
    "t6 = t[['card_id', 'category_2']].groupby('card_id').mean().reset_index()\n",
    "t6 = t6.rename(columns={'category_2': 'mean_category_2_value'})\n",
    "t7 = t[['card_id', 'category_2']].groupby('card_id').max().reset_index()\n",
    "t7 = t7.rename(columns={'category_2': 'max_category_2_value'})\n",
    "t8 = t[['card_id', 'category_2']].groupby('card_id').min().reset_index()\n",
    "t8 = t8.rename(columns={'category_2': 'min_category_2_value'})\n",
    "t9 = t[['card_id', 'category_2']].groupby('card_id').median().reset_index()\n",
    "t9 = t9.rename(columns={'category_2': 'median_category_2_value'})"
   ]
  },
  {
   "cell_type": "code",
   "execution_count": 20,
   "metadata": {
    "ExecuteTime": {
     "end_time": "2019-01-17T01:58:20.614171Z",
     "start_time": "2019-01-17T01:58:16.752988Z"
    }
   },
   "outputs": [],
   "source": [
    "category_2_feature = historical[['card_id']]\n",
    "category_2_feature = category_2_feature.drop_duplicates().reset_index(drop=True)\n",
    "category_2_feature = pd.merge(category_2_feature, t2, on='card_id', how='left')\n",
    "category_2_feature = pd.merge(category_2_feature, t3, on='card_id', how='left')\n",
    "category_2_feature = pd.merge(category_2_feature, t4, on='card_id', how='left')\n",
    "category_2_feature = pd.merge(category_2_feature, t5, on='card_id', how='left')\n",
    "category_2_feature = pd.merge(category_2_feature, t6, on='card_id', how='left')\n",
    "category_2_feature = pd.merge(category_2_feature, t7, on='card_id', how='left')\n",
    "category_2_feature = pd.merge(category_2_feature, t8, on='card_id', how='left')\n",
    "category_2_feature = pd.merge(category_2_feature, t9, on='card_id', how='left')"
   ]
  },
  {
   "cell_type": "code",
   "execution_count": 21,
   "metadata": {
    "ExecuteTime": {
     "end_time": "2019-01-17T01:58:35.252481Z",
     "start_time": "2019-01-17T01:58:33.187416Z"
    }
   },
   "outputs": [],
   "source": [
    "category_2_feature.to_csv('data/category_2_feature.csv', index=None)"
   ]
  },
  {
   "cell_type": "code",
   "execution_count": 22,
   "metadata": {
    "ExecuteTime": {
     "end_time": "2019-01-17T01:59:16.611410Z",
     "start_time": "2019-01-17T01:58:55.206125Z"
    }
   },
   "outputs": [],
   "source": [
    "t = historical[['merchant_id','category_3', 'card_id']]\n",
    "t['same_category_3_count'] = 1\n",
    "t1 = t[['card_id', 'category_3', 'same_category_3_count']].groupby(['card_id', 'category_3']).count()\n",
    "\n",
    "t2 = t1.reset_index().groupby('card_id').max()[['same_category_3_count']].reset_index()\n",
    "t2 = t2.rename(columns={'same_category_3_count': 'same_category_3_max'})\n",
    "t3 = t1.reset_index().groupby('card_id').mean()[['same_category_3_count']].reset_index()\n",
    "t3 = t3.rename(columns={'same_category_3_count': 'same_category_3_mean'})\n",
    "t4 = t1.reset_index().groupby('card_id').min()[['same_category_3_count']].reset_index()\n",
    "t4 = t4.rename(columns={'same_category_3_count': 'same_category_3_min'})\n",
    "t5 = t1.reset_index().groupby('card_id').median()[['same_category_3_count']].reset_index()\n",
    "t5 = t5.rename(columns={'same_category_3_count': 'same_category_3_median'})\n",
    "\n",
    "t6 = t[['card_id', 'category_3']].groupby('card_id').mean().reset_index()\n",
    "t6 = t6.rename(columns={'category_3': 'mean_category_3_value'})\n",
    "t7 = t[['card_id', 'category_3']].groupby('card_id').max().reset_index()\n",
    "t7 = t7.rename(columns={'category_3': 'max_category_3_value'})\n",
    "t8 = t[['card_id', 'category_3']].groupby('card_id').min().reset_index()\n",
    "t8 = t8.rename(columns={'category_3': 'min_category_3_value'})\n",
    "t9 = t[['card_id', 'category_3']].groupby('card_id').median().reset_index()\n",
    "t9 = t9.rename(columns={'category_3': 'median_category_3_value'})"
   ]
  },
  {
   "cell_type": "code",
   "execution_count": 23,
   "metadata": {
    "ExecuteTime": {
     "end_time": "2019-01-17T01:59:21.556170Z",
     "start_time": "2019-01-17T01:59:17.835012Z"
    }
   },
   "outputs": [],
   "source": [
    "category_3_feature = historical[['card_id']]\n",
    "category_3_feature = category_3_feature.drop_duplicates().reset_index(drop=True)\n",
    "category_3_feature = pd.merge(category_3_feature, t2, on='card_id', how='left')\n",
    "category_3_feature = pd.merge(category_3_feature, t3, on='card_id', how='left')\n",
    "category_3_feature = pd.merge(category_3_feature, t4, on='card_id', how='left')\n",
    "category_3_feature = pd.merge(category_3_feature, t5, on='card_id', how='left')\n",
    "category_3_feature = pd.merge(category_3_feature, t6, on='card_id', how='left')\n",
    "category_3_feature = pd.merge(category_3_feature, t7, on='card_id', how='left')\n",
    "category_3_feature = pd.merge(category_3_feature, t8, on='card_id', how='left')\n",
    "category_3_feature = pd.merge(category_3_feature, t9, on='card_id', how='left')"
   ]
  },
  {
   "cell_type": "code",
   "execution_count": 24,
   "metadata": {
    "ExecuteTime": {
     "end_time": "2019-01-17T01:59:35.563982Z",
     "start_time": "2019-01-17T01:59:33.342664Z"
    }
   },
   "outputs": [],
   "source": [
    "category_3_feature.to_csv('data/category_3_feature.csv', index=None)"
   ]
  },
  {
   "cell_type": "markdown",
   "metadata": {},
   "source": [
    "## authorized特征——值得深入"
   ]
  },
  {
   "cell_type": "code",
   "execution_count": 32,
   "metadata": {
    "ExecuteTime": {
     "end_time": "2019-01-18T01:59:03.484890Z",
     "start_time": "2019-01-18T01:58:07.908200Z"
    }
   },
   "outputs": [],
   "source": [
    "historical['authorized_flag'] = historical['authorized_flag'].map(dict(zip(historical['authorized_flag'].unique(), range(0, historical['authorized_flag'].nunique()))))"
   ]
  },
  {
   "cell_type": "code",
   "execution_count": 33,
   "metadata": {
    "ExecuteTime": {
     "end_time": "2019-01-18T02:01:56.588798Z",
     "start_time": "2019-01-18T01:59:04.108223Z"
    }
   },
   "outputs": [],
   "source": [
    "authorized_feature = historical[['card_id']]\n",
    "authorized_feature = authorized_feature.drop_duplicates().reset_index(drop=True)\n",
    "t = historical[['merchant_id','authorized_flag', 'card_id']]\n",
    "t['same_authorized_count'] = 1\n",
    "t1 = t[['card_id', 'authorized_flag', 'same_authorized_count']].groupby(['card_id', 'authorized_flag']).sum()\n",
    "\n",
    "t2 = t1.reset_index().groupby('card_id').max()[['same_authorized_count']].reset_index()\n",
    "t2 = t2.rename(columns={'same_authorized_count': 'same_authorized_max'})\n",
    "t3 = t1.reset_index().groupby('card_id').mean()[['same_authorized_count']].reset_index()\n",
    "t3 = t3.rename(columns={'same_authorized_count': 'same_authorized_mean'})\n",
    "t4 = t1.reset_index().groupby('card_id').min()[['same_authorized_count']].reset_index()\n",
    "t4 = t4.rename(columns={'same_authorized_count': 'same_authorized_min'})\n",
    "t5 = t1.reset_index().groupby('card_id').median()[['same_authorized_count']].reset_index()\n",
    "t5 = t5.rename(columns={'same_authorized_count': 'same_authorized_median'})\n",
    "\n",
    "t6 = t[['card_id', 'authorized_flag']].groupby('card_id').mean().reset_index()\n",
    "t6 = t6.rename(columns={'authorized_flag': 'mean_authorized_value'})\n",
    "t7 = t[['card_id', 'authorized_flag']].groupby('card_id').max().reset_index()\n",
    "t7 = t7.rename(columns={'authorized_flag': 'max_authorized_value'})\n",
    "t8 = t[['card_id', 'authorized_flag']].groupby('card_id').median().reset_index()\n",
    "t8 = t8.rename(columns={'authorized_flag': 'median_authorized_value'})"
   ]
  },
  {
   "cell_type": "code",
   "execution_count": 34,
   "metadata": {
    "ExecuteTime": {
     "end_time": "2019-01-18T02:13:14.957518Z",
     "start_time": "2019-01-18T02:13:12.491115Z"
    }
   },
   "outputs": [],
   "source": [
    "authorized_feature = pd.merge(authorized_feature, t2, on='card_id', how='left')\n",
    "authorized_feature = pd.merge(authorized_feature, t3, on='card_id', how='left')\n",
    "authorized_feature = pd.merge(authorized_feature, t4, on='card_id', how='left')\n",
    "authorized_feature = pd.merge(authorized_feature, t5, on='card_id', how='left')\n",
    "authorized_feature = pd.merge(authorized_feature, t6, on='card_id', how='left')\n",
    "authorized_feature = pd.merge(authorized_feature, t7, on='card_id', how='left')\n",
    "authorized_feature = pd.merge(authorized_feature, t8, on='card_id', how='left')"
   ]
  },
  {
   "cell_type": "code",
   "execution_count": 42,
   "metadata": {
    "ExecuteTime": {
     "end_time": "2019-01-18T02:15:51.129767Z",
     "start_time": "2019-01-18T02:15:48.804986Z"
    }
   },
   "outputs": [],
   "source": [
    "authorized_feature.to_csv('data/authorized_feature.csv', index=None)"
   ]
  },
  {
   "cell_type": "markdown",
   "metadata": {},
   "source": [
    "## Month_lag特征——值得深入"
   ]
  },
  {
   "cell_type": "code",
   "execution_count": 6,
   "metadata": {
    "ExecuteTime": {
     "end_time": "2019-01-21T07:09:31.380619Z",
     "start_time": "2019-01-21T07:08:58.728942Z"
    }
   },
   "outputs": [],
   "source": [
    "month_lag_feature = historical[['card_id']]\n",
    "month_lag_feature = month_lag_feature.drop_duplicates().reset_index(drop=True)\n",
    "month_lag_feature['purchase_month'] = historical['purchase_day']//30 + historical['month_lag']\n",
    "t = historical[['merchant_id','month_lag', 'card_id']]\n",
    "t['same_month_lag_count'] = 1\n",
    "t1 = t[['card_id', 'month_lag', 'same_month_lag_count']].groupby(['card_id', 'month_lag']).count()\n",
    "\n",
    "t2 = t1.reset_index().groupby('card_id').max()[['same_month_lag_count']].reset_index()\n",
    "t2 = t2.rename(columns={'same_month_lag_count': 'same_month_lag_max'})\n",
    "t3 = t1.reset_index().groupby('card_id').mean()[['same_month_lag_count']].reset_index()\n",
    "t3 = t3.rename(columns={'same_month_lag_count': 'same_month_lag_mean'})\n",
    "t4 = t1.reset_index().groupby('card_id').min()[['same_month_lag_count']].reset_index()\n",
    "t4 = t4.rename(columns={'same_month_lag_count': 'same_month_lag_min'})\n",
    "t5 = t1.reset_index().groupby('card_id').median()[['same_month_lag_count']].reset_index()\n",
    "t5 = t5.rename(columns={'same_month_lag_count': 'same_month_lag_median'})\n",
    "\n",
    "t6 = t[['card_id', 'month_lag']].groupby('card_id').mean().reset_index()\n",
    "t6 = t6.rename(columns={'month_lag': 'mean_month_lag_value'})\n",
    "t7 = t[['card_id', 'month_lag']].groupby('card_id').max().reset_index()\n",
    "t7 = t7.rename(columns={'month_lag': 'max_month_lag_value'})\n",
    "t8 = t[['card_id', 'month_lag']].groupby('card_id').min().reset_index()\n",
    "t8 = t8.rename(columns={'month_lag': 'min_month_lag_value'})\n",
    "t9 = t[['card_id', 'month_lag']].groupby('card_id').median().reset_index()\n",
    "t9 = t9.rename(columns={'month_lag': 'median_month_lag_value'})"
   ]
  },
  {
   "cell_type": "code",
   "execution_count": 7,
   "metadata": {
    "ExecuteTime": {
     "end_time": "2019-01-21T07:09:34.028538Z",
     "start_time": "2019-01-21T07:09:31.720709Z"
    }
   },
   "outputs": [],
   "source": [
    "month_lag_feature = pd.merge(month_lag_feature, t2, on='card_id', how='left')\n",
    "month_lag_feature = pd.merge(month_lag_feature, t3, on='card_id', how='left')\n",
    "month_lag_feature = pd.merge(month_lag_feature, t4, on='card_id', how='left')\n",
    "month_lag_feature = pd.merge(month_lag_feature, t5, on='card_id', how='left')\n",
    "month_lag_feature = pd.merge(month_lag_feature, t6, on='card_id', how='left')\n",
    "month_lag_feature = pd.merge(month_lag_feature, t7, on='card_id', how='left')\n",
    "month_lag_feature = pd.merge(month_lag_feature, t8, on='card_id', how='left')\n",
    "month_lag_feature = pd.merge(month_lag_feature, t9, on='card_id', how='left')"
   ]
  },
  {
   "cell_type": "code",
   "execution_count": 8,
   "metadata": {
    "ExecuteTime": {
     "end_time": "2019-01-21T07:09:34.307791Z",
     "start_time": "2019-01-21T07:09:34.238976Z"
    }
   },
   "outputs": [
    {
     "data": {
      "text/html": [
       "<div>\n",
       "<style scoped>\n",
       "    .dataframe tbody tr th:only-of-type {\n",
       "        vertical-align: middle;\n",
       "    }\n",
       "\n",
       "    .dataframe tbody tr th {\n",
       "        vertical-align: top;\n",
       "    }\n",
       "\n",
       "    .dataframe thead th {\n",
       "        text-align: right;\n",
       "    }\n",
       "</style>\n",
       "<table border=\"1\" class=\"dataframe\">\n",
       "  <thead>\n",
       "    <tr style=\"text-align: right;\">\n",
       "      <th></th>\n",
       "      <th>card_id</th>\n",
       "      <th>purchase_month</th>\n",
       "      <th>same_month_lag_max</th>\n",
       "      <th>same_month_lag_mean</th>\n",
       "      <th>same_month_lag_min</th>\n",
       "      <th>same_month_lag_median</th>\n",
       "      <th>mean_month_lag_value</th>\n",
       "      <th>max_month_lag_value</th>\n",
       "      <th>min_month_lag_value</th>\n",
       "      <th>median_month_lag_value</th>\n",
       "    </tr>\n",
       "  </thead>\n",
       "  <tbody>\n",
       "    <tr>\n",
       "      <th>0</th>\n",
       "      <td>C_ID_4e6213e9bc</td>\n",
       "      <td>59</td>\n",
       "      <td>64</td>\n",
       "      <td>28.571429</td>\n",
       "      <td>2</td>\n",
       "      <td>29.5</td>\n",
       "      <td>-6.072500</td>\n",
       "      <td>0</td>\n",
       "      <td>-13</td>\n",
       "      <td>-6.0</td>\n",
       "    </tr>\n",
       "    <tr>\n",
       "      <th>1</th>\n",
       "      <td>C_ID_5037ff576e</td>\n",
       "      <td>61</td>\n",
       "      <td>16</td>\n",
       "      <td>9.833333</td>\n",
       "      <td>4</td>\n",
       "      <td>10.0</td>\n",
       "      <td>-5.881356</td>\n",
       "      <td>0</td>\n",
       "      <td>-11</td>\n",
       "      <td>-5.0</td>\n",
       "    </tr>\n",
       "    <tr>\n",
       "      <th>2</th>\n",
       "      <td>C_ID_0e171c1b48</td>\n",
       "      <td>63</td>\n",
       "      <td>30</td>\n",
       "      <td>21.461538</td>\n",
       "      <td>4</td>\n",
       "      <td>22.0</td>\n",
       "      <td>-5.555556</td>\n",
       "      <td>0</td>\n",
       "      <td>-12</td>\n",
       "      <td>-6.0</td>\n",
       "    </tr>\n",
       "    <tr>\n",
       "      <th>3</th>\n",
       "      <td>C_ID_48fb13e70f</td>\n",
       "      <td>65</td>\n",
       "      <td>28</td>\n",
       "      <td>8.888889</td>\n",
       "      <td>1</td>\n",
       "      <td>6.0</td>\n",
       "      <td>-4.625000</td>\n",
       "      <td>0</td>\n",
       "      <td>-8</td>\n",
       "      <td>-4.0</td>\n",
       "    </tr>\n",
       "    <tr>\n",
       "      <th>4</th>\n",
       "      <td>C_ID_fc8e41b9cf</td>\n",
       "      <td>53</td>\n",
       "      <td>37</td>\n",
       "      <td>30.250000</td>\n",
       "      <td>22</td>\n",
       "      <td>30.0</td>\n",
       "      <td>-3.355372</td>\n",
       "      <td>0</td>\n",
       "      <td>-7</td>\n",
       "      <td>-3.0</td>\n",
       "    </tr>\n",
       "  </tbody>\n",
       "</table>\n",
       "</div>"
      ],
      "text/plain": [
       "           card_id  purchase_month  same_month_lag_max  same_month_lag_mean  \\\n",
       "0  C_ID_4e6213e9bc              59                  64            28.571429   \n",
       "1  C_ID_5037ff576e              61                  16             9.833333   \n",
       "2  C_ID_0e171c1b48              63                  30            21.461538   \n",
       "3  C_ID_48fb13e70f              65                  28             8.888889   \n",
       "4  C_ID_fc8e41b9cf              53                  37            30.250000   \n",
       "\n",
       "   same_month_lag_min  same_month_lag_median  mean_month_lag_value  \\\n",
       "0                   2                   29.5             -6.072500   \n",
       "1                   4                   10.0             -5.881356   \n",
       "2                   4                   22.0             -5.555556   \n",
       "3                   1                    6.0             -4.625000   \n",
       "4                  22                   30.0             -3.355372   \n",
       "\n",
       "   max_month_lag_value  min_month_lag_value  median_month_lag_value  \n",
       "0                    0                  -13                    -6.0  \n",
       "1                    0                  -11                    -5.0  \n",
       "2                    0                  -12                    -6.0  \n",
       "3                    0                   -8                    -4.0  \n",
       "4                    0                   -7                    -3.0  "
      ]
     },
     "execution_count": 8,
     "metadata": {},
     "output_type": "execute_result"
    }
   ],
   "source": [
    "month_lag_feature.head()"
   ]
  },
  {
   "cell_type": "code",
   "execution_count": 9,
   "metadata": {
    "ExecuteTime": {
     "end_time": "2019-01-21T07:09:54.309300Z",
     "start_time": "2019-01-21T07:09:50.840577Z"
    }
   },
   "outputs": [],
   "source": [
    "month_lag_feature.to_csv('data/month_lag_feature.csv', index=None)"
   ]
  },
  {
   "cell_type": "code",
   "execution_count": null,
   "metadata": {},
   "outputs": [],
   "source": []
  }
 ],
 "metadata": {
  "kernelspec": {
   "display_name": "Python 3",
   "language": "python",
   "name": "python3"
  },
  "language_info": {
   "codemirror_mode": {
    "name": "ipython",
    "version": 3
   },
   "file_extension": ".py",
   "mimetype": "text/x-python",
   "name": "python",
   "nbconvert_exporter": "python",
   "pygments_lexer": "ipython3",
   "version": "3.6.5"
  },
  "toc": {
   "base_numbering": 1,
   "nav_menu": {},
   "number_sections": true,
   "sideBar": true,
   "skip_h1_title": false,
   "title_cell": "Table of Contents",
   "title_sidebar": "Contents",
   "toc_cell": false,
   "toc_position": {
    "height": "calc(100% - 180px)",
    "left": "10px",
    "top": "150px",
    "width": "201px"
   },
   "toc_section_display": true,
   "toc_window_display": true
  },
  "varInspector": {
   "cols": {
    "lenName": 16,
    "lenType": 16,
    "lenVar": 40
   },
   "kernels_config": {
    "python": {
     "delete_cmd_postfix": "",
     "delete_cmd_prefix": "del ",
     "library": "var_list.py",
     "varRefreshCmd": "print(var_dic_list())"
    },
    "r": {
     "delete_cmd_postfix": ") ",
     "delete_cmd_prefix": "rm(",
     "library": "var_list.r",
     "varRefreshCmd": "cat(var_dic_list()) "
    }
   },
   "types_to_exclude": [
    "module",
    "function",
    "builtin_function_or_method",
    "instance",
    "_Feature"
   ],
   "window_display": false
  }
 },
 "nbformat": 4,
 "nbformat_minor": 2
}
