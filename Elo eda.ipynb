{
 "cells": [
  {
   "cell_type": "code",
   "execution_count": 1,
   "metadata": {
    "ExecuteTime": {
     "end_time": "2019-01-21T08:46:06.123442Z",
     "start_time": "2019-01-21T08:46:05.254766Z"
    }
   },
   "outputs": [],
   "source": [
    "import pandas as pd\n",
    "import numpy as np\n",
    "import seaborn as sns\n",
    "import warnings\n",
    "import matplotlib.pyplot as plt\n",
    "from sklearn.preprocessing import OneHotEncoder\n",
    "from scipy import sparse\n",
    "pd.set_option('max_columns', 100)\n",
    "pd.set_option('max_colwidth', 100)\n",
    "warnings.filterwarnings('ignore')\n",
    "\n",
    "%matplotlib inline"
   ]
  },
  {
   "cell_type": "markdown",
   "metadata": {},
   "source": [
    "# 数据观察"
   ]
  },
  {
   "cell_type": "code",
   "execution_count": 2,
   "metadata": {
    "ExecuteTime": {
     "end_time": "2019-01-21T08:46:06.394716Z",
     "start_time": "2019-01-21T08:46:06.129427Z"
    }
   },
   "outputs": [],
   "source": [
    "train = pd.read_csv('data/train.csv')"
   ]
  },
  {
   "cell_type": "code",
   "execution_count": 3,
   "metadata": {
    "ExecuteTime": {
     "end_time": "2019-01-21T08:46:06.543319Z",
     "start_time": "2019-01-21T08:46:06.412670Z"
    }
   },
   "outputs": [],
   "source": [
    "test = pd.read_csv('data/test.csv')"
   ]
  },
  {
   "cell_type": "code",
   "execution_count": 4,
   "metadata": {
    "ExecuteTime": {
     "end_time": "2019-01-21T08:46:08.279677Z",
     "start_time": "2019-01-21T08:46:06.563266Z"
    }
   },
   "outputs": [
    {
     "data": {
      "image/png": "[encoded data removed]",
      "text/plain": [
       "<Figure size 576x432 with 1 Axes>"
      ]
     },
     "metadata": {},
     "output_type": "display_data"
    }
   ],
   "source": [
    "target_col = \"target\"\n",
    "\n",
    "plt.figure(figsize=(8,6))\n",
    "plt.scatter(range(train.shape[0]), np.sort(train[target_col].values))\n",
    "plt.xlabel('index', fontsize=12)\n",
    "plt.ylabel('yield', fontsize=12)\n",
    "plt.show()"
   ]
  },
  {
   "cell_type": "code",
   "execution_count": 80,
   "metadata": {
    "ExecuteTime": {
     "end_time": "2019-01-15T06:26:00.608208Z",
     "start_time": "2019-01-15T06:26:00.599231Z"
    }
   },
   "outputs": [
    {
     "data": {
      "text/plain": [
       "-33.219281    2207\n",
       "Name: target, dtype: int64"
      ]
     },
     "execution_count": 80,
     "metadata": {},
     "output_type": "execute_result"
    }
   ],
   "source": [
    "train[train['target']<-20]['target'].value_counts()"
   ]
  },
  {
   "cell_type": "code",
   "execution_count": 81,
   "metadata": {
    "ExecuteTime": {
     "end_time": "2019-01-15T06:26:00.962288Z",
     "start_time": "2019-01-15T06:26:00.642120Z"
    }
   },
   "outputs": [
    {
     "data": {
      "text/html": [
       "<div>\n",
       "<style scoped>\n",
       "    .dataframe tbody tr th:only-of-type {\n",
       "        vertical-align: middle;\n",
       "    }\n",
       "\n",
       "    .dataframe tbody tr th {\n",
       "        vertical-align: top;\n",
       "    }\n",
       "\n",
       "    .dataframe thead th {\n",
       "        text-align: right;\n",
       "    }\n",
       "</style>\n",
       "<table border=\"1\" class=\"dataframe\">\n",
       "  <thead>\n",
       "    <tr style=\"text-align: right;\">\n",
       "      <th></th>\n",
       "      <th>Feature</th>\n",
       "      <th>Unique values</th>\n",
       "      <th>Missing values</th>\n",
       "      <th>Percentage of biggest category</th>\n",
       "      <th>type</th>\n",
       "    </tr>\n",
       "  </thead>\n",
       "  <tbody>\n",
       "    <tr>\n",
       "      <th>4</th>\n",
       "      <td>feature_3</td>\n",
       "      <td>2</td>\n",
       "      <td>0.0</td>\n",
       "      <td>0.565569</td>\n",
       "      <td>int64</td>\n",
       "    </tr>\n",
       "    <tr>\n",
       "      <th>3</th>\n",
       "      <td>feature_2</td>\n",
       "      <td>3</td>\n",
       "      <td>0.0</td>\n",
       "      <td>0.441974</td>\n",
       "      <td>int64</td>\n",
       "    </tr>\n",
       "    <tr>\n",
       "      <th>2</th>\n",
       "      <td>feature_1</td>\n",
       "      <td>5</td>\n",
       "      <td>0.0</td>\n",
       "      <td>0.364372</td>\n",
       "      <td>int64</td>\n",
       "    </tr>\n",
       "    <tr>\n",
       "      <th>0</th>\n",
       "      <td>first_active_month</td>\n",
       "      <td>75</td>\n",
       "      <td>0.0</td>\n",
       "      <td>0.068731</td>\n",
       "      <td>object</td>\n",
       "    </tr>\n",
       "    <tr>\n",
       "      <th>5</th>\n",
       "      <td>target</td>\n",
       "      <td>197110</td>\n",
       "      <td>0.0</td>\n",
       "      <td>0.010930</td>\n",
       "      <td>float64</td>\n",
       "    </tr>\n",
       "    <tr>\n",
       "      <th>1</th>\n",
       "      <td>card_id</td>\n",
       "      <td>201917</td>\n",
       "      <td>0.0</td>\n",
       "      <td>0.000005</td>\n",
       "      <td>object</td>\n",
       "    </tr>\n",
       "  </tbody>\n",
       "</table>\n",
       "</div>"
      ],
      "text/plain": [
       "              Feature  Unique values  Missing values  \\\n",
       "4           feature_3              2             0.0   \n",
       "3           feature_2              3             0.0   \n",
       "2           feature_1              5             0.0   \n",
       "0  first_active_month             75             0.0   \n",
       "5              target         197110             0.0   \n",
       "1             card_id         201917             0.0   \n",
       "\n",
       "   Percentage of biggest category     type  \n",
       "4                        0.565569    int64  \n",
       "3                        0.441974    int64  \n",
       "2                        0.364372    int64  \n",
       "0                        0.068731   object  \n",
       "5                        0.010930  float64  \n",
       "1                        0.000005   object  "
      ]
     },
     "execution_count": 81,
     "metadata": {},
     "output_type": "execute_result"
    }
   ],
   "source": [
    "states = []\n",
    "for col in train.columns:\n",
    "    states.append((col, train[col].nunique(), train[col].isnull().sum()/train.shape[0], train[col].value_counts(normalize=True, dropna=False).values[0], train[col].dtype))\n",
    "state_df = pd.DataFrame(states, columns=['Feature', 'Unique values', 'Missing values', 'Percentage of biggest category', 'type'])\n",
    "state_df.sort_values('Percentage of biggest category', ascending=False)"
   ]
  },
  {
   "cell_type": "code",
   "execution_count": 82,
   "metadata": {
    "ExecuteTime": {
     "end_time": "2019-01-15T06:26:01.142807Z",
     "start_time": "2019-01-15T06:26:00.994176Z"
    }
   },
   "outputs": [
    {
     "data": {
      "text/html": [
       "<div>\n",
       "<style scoped>\n",
       "    .dataframe tbody tr th:only-of-type {\n",
       "        vertical-align: middle;\n",
       "    }\n",
       "\n",
       "    .dataframe tbody tr th {\n",
       "        vertical-align: top;\n",
       "    }\n",
       "\n",
       "    .dataframe thead th {\n",
       "        text-align: right;\n",
       "    }\n",
       "</style>\n",
       "<table border=\"1\" class=\"dataframe\">\n",
       "  <thead>\n",
       "    <tr style=\"text-align: right;\">\n",
       "      <th></th>\n",
       "      <th>Feature</th>\n",
       "      <th>Unique values</th>\n",
       "      <th>Missing values</th>\n",
       "      <th>Percentage of biggest category</th>\n",
       "      <th>type</th>\n",
       "    </tr>\n",
       "  </thead>\n",
       "  <tbody>\n",
       "    <tr>\n",
       "      <th>4</th>\n",
       "      <td>feature_3</td>\n",
       "      <td>2</td>\n",
       "      <td>0.000000</td>\n",
       "      <td>0.564377</td>\n",
       "      <td>int64</td>\n",
       "    </tr>\n",
       "    <tr>\n",
       "      <th>3</th>\n",
       "      <td>feature_2</td>\n",
       "      <td>3</td>\n",
       "      <td>0.000000</td>\n",
       "      <td>0.443081</td>\n",
       "      <td>int64</td>\n",
       "    </tr>\n",
       "    <tr>\n",
       "      <th>2</th>\n",
       "      <td>feature_1</td>\n",
       "      <td>5</td>\n",
       "      <td>0.000000</td>\n",
       "      <td>0.361737</td>\n",
       "      <td>int64</td>\n",
       "    </tr>\n",
       "    <tr>\n",
       "      <th>0</th>\n",
       "      <td>first_active_month</td>\n",
       "      <td>75</td>\n",
       "      <td>0.000008</td>\n",
       "      <td>0.071225</td>\n",
       "      <td>object</td>\n",
       "    </tr>\n",
       "    <tr>\n",
       "      <th>1</th>\n",
       "      <td>card_id</td>\n",
       "      <td>123623</td>\n",
       "      <td>0.000000</td>\n",
       "      <td>0.000008</td>\n",
       "      <td>object</td>\n",
       "    </tr>\n",
       "  </tbody>\n",
       "</table>\n",
       "</div>"
      ],
      "text/plain": [
       "              Feature  Unique values  Missing values  \\\n",
       "4           feature_3              2        0.000000   \n",
       "3           feature_2              3        0.000000   \n",
       "2           feature_1              5        0.000000   \n",
       "0  first_active_month             75        0.000008   \n",
       "1             card_id         123623        0.000000   \n",
       "\n",
       "   Percentage of biggest category    type  \n",
       "4                        0.564377   int64  \n",
       "3                        0.443081   int64  \n",
       "2                        0.361737   int64  \n",
       "0                        0.071225  object  \n",
       "1                        0.000008  object  "
      ]
     },
     "execution_count": 82,
     "metadata": {},
     "output_type": "execute_result"
    }
   ],
   "source": [
    "states = []\n",
    "for col in test.columns:\n",
    "    states.append((col, test[col].nunique(), test[col].isnull().sum()/test.shape[0], test[col].value_counts(normalize=True, dropna=False).values[0], test[col].dtype))\n",
    "state_df = pd.DataFrame(states, columns=['Feature', 'Unique values', 'Missing values', 'Percentage of biggest category', 'type'])\n",
    "state_df.sort_values('Percentage of biggest category', ascending=False)"
   ]
  },
  {
   "cell_type": "code",
   "execution_count": 83,
   "metadata": {
    "ExecuteTime": {
     "end_time": "2019-01-15T06:26:01.188655Z",
     "start_time": "2019-01-15T06:26:01.174693Z"
    }
   },
   "outputs": [
    {
     "name": "stdout",
     "output_type": "stream",
     "text": [
      "This is feature_3\n",
      "1    114198\n",
      "0     87719\n",
      "Name: feature_3, dtype: int64\n",
      "This is feature_2\n",
      "1    89242\n",
      "2    74839\n",
      "3    37836\n",
      "Name: feature_2, dtype: int64\n",
      "This is feature_3\n",
      "1    114198\n",
      "0     87719\n",
      "Name: feature_3, dtype: int64\n"
     ]
    }
   ],
   "source": [
    "for col in ['feature_3', 'feature_2', 'feature_3']:\n",
    "    print('This is ' + col)\n",
    "    print(train[col].value_counts())"
   ]
  },
  {
   "cell_type": "code",
   "execution_count": 112,
   "metadata": {
    "ExecuteTime": {
     "end_time": "2019-01-15T06:42:46.933059Z",
     "start_time": "2019-01-15T06:42:46.811353Z"
    }
   },
   "outputs": [
    {
     "data": {
      "text/plain": [
       "<matplotlib.axes._subplots.AxesSubplot at 0x1fbc19b3e10>"
      ]
     },
     "execution_count": 112,
     "metadata": {},
     "output_type": "execute_result"
    },
    {
     "data": {
      "image/png": "[encoded data removed]",
      "text/plain": [
       "<Figure size 432x288 with 1 Axes>"
      ]
     },
     "metadata": {},
     "output_type": "display_data"
    }
   ],
   "source": [
    "train['intTarget'] = pd.cut(train['target'], 6, labels=False)\n",
    "train[['feature_3', 'intTarget']].groupby('intTarget').mean().plot.bar()"
   ]
  },
  {
   "cell_type": "code",
   "execution_count": 105,
   "metadata": {
    "ExecuteTime": {
     "end_time": "2019-01-15T06:27:19.453963Z",
     "start_time": "2019-01-15T06:27:19.350269Z"
    }
   },
   "outputs": [
    {
     "data": {
      "text/plain": [
       "<matplotlib.axes._subplots.AxesSubplot at 0x1fbc15805c0>"
      ]
     },
     "execution_count": 105,
     "metadata": {},
     "output_type": "execute_result"
    },
    {
     "data": {
      "image/png": "[encoded data removed]",
      "text/plain": [
       "<Figure size 432x288 with 1 Axes>"
      ]
     },
     "metadata": {},
     "output_type": "display_data"
    }
   ],
   "source": [
    "train[['feature_2', 'intTarget']].groupby('intTarget').mean().plot.bar()"
   ]
  },
  {
   "cell_type": "code",
   "execution_count": 106,
   "metadata": {
    "ExecuteTime": {
     "end_time": "2019-01-15T06:27:20.572085Z",
     "start_time": "2019-01-15T06:27:20.467359Z"
    }
   },
   "outputs": [
    {
     "data": {
      "text/plain": [
       "<matplotlib.axes._subplots.AxesSubplot at 0x1fbc10ed978>"
      ]
     },
     "execution_count": 106,
     "metadata": {},
     "output_type": "execute_result"
    },
    {
     "data": {
      "image/png": "[encoded data removed]",
      "text/plain": [
       "<Figure size 432x288 with 1 Axes>"
      ]
     },
     "metadata": {},
     "output_type": "display_data"
    }
   ],
   "source": [
    "train[['feature_1', 'intTarget']].groupby('intTarget').mean().plot.bar()"
   ]
  },
  {
   "cell_type": "code",
   "execution_count": 107,
   "metadata": {
    "ExecuteTime": {
     "end_time": "2019-01-15T06:27:23.005649Z",
     "start_time": "2019-01-15T06:27:22.861014Z"
    }
   },
   "outputs": [
    {
     "data": {
      "text/plain": [
       "<matplotlib.axes._subplots.AxesSubplot at 0x1fbc1647780>"
      ]
     },
     "execution_count": 107,
     "metadata": {},
     "output_type": "execute_result"
    },
    {
     "data": {
      "image/png": "[encoded data removed]",
      "text/plain": [
       "<Figure size 432x288 with 1 Axes>"
      ]
     },
     "metadata": {},
     "output_type": "display_data"
    }
   ],
   "source": [
    "train[['feature_1','feature_3', 'intTarget']].groupby(['intTarget', 'feature_3']).mean().plot.bar()"
   ]
  },
  {
   "cell_type": "code",
   "execution_count": 109,
   "metadata": {
    "ExecuteTime": {
     "end_time": "2019-01-15T06:28:08.653765Z",
     "start_time": "2019-01-15T06:28:08.445287Z"
    }
   },
   "outputs": [
    {
     "data": {
      "text/plain": [
       "<matplotlib.axes._subplots.AxesSubplot at 0x1fbc1580b70>"
      ]
     },
     "execution_count": 109,
     "metadata": {},
     "output_type": "execute_result"
    },
    {
     "data": {
      "image/png": "[encoded data removed]",
      "text/plain": [
       "<Figure size 432x288 with 1 Axes>"
      ]
     },
     "metadata": {},
     "output_type": "display_data"
    }
   ],
   "source": [
    "train[['feature_1','feature_3', 'intTarget']].groupby(['intTarget', 'feature_1']).mean().plot.bar()"
   ]
  },
  {
   "cell_type": "markdown",
   "metadata": {},
   "source": [
    "# 数据处理 特征工程"
   ]
  },
  {
   "cell_type": "markdown",
   "metadata": {},
   "source": [
    "**合并训练集测试集**"
   ]
  },
  {
   "cell_type": "code",
   "execution_count": 16,
   "metadata": {
    "ExecuteTime": {
     "end_time": "2019-01-21T08:00:04.675857Z",
     "start_time": "2019-01-21T08:00:04.315821Z"
    }
   },
   "outputs": [],
   "source": [
    "train = pd.read_csv('data/train.csv')\n",
    "test = pd.read_csv('data/test.csv')"
   ]
  },
  {
   "cell_type": "code",
   "execution_count": 5,
   "metadata": {
    "ExecuteTime": {
     "end_time": "2019-01-21T08:46:10.489765Z",
     "start_time": "2019-01-21T08:46:10.475803Z"
    }
   },
   "outputs": [],
   "source": [
    "test['first_active_month'] = test['first_active_month'].fillna('2017-09')"
   ]
  },
  {
   "cell_type": "code",
   "execution_count": 6,
   "metadata": {
    "ExecuteTime": {
     "end_time": "2019-01-21T08:46:10.774006Z",
     "start_time": "2019-01-21T08:46:10.758048Z"
    }
   },
   "outputs": [],
   "source": [
    "train_y = train['target']\n",
    "train = train.drop('target', axis=1)\n",
    "train_len = len(train)"
   ]
  },
  {
   "cell_type": "code",
   "execution_count": 7,
   "metadata": {
    "ExecuteTime": {
     "end_time": "2019-01-21T08:46:11.014364Z",
     "start_time": "2019-01-21T08:46:10.997407Z"
    }
   },
   "outputs": [],
   "source": [
    "data = pd.concat([train, test], axis=0)"
   ]
  },
  {
   "cell_type": "markdown",
   "metadata": {},
   "source": [
    "把训练集测试集的时间换算成月"
   ]
  },
  {
   "cell_type": "code",
   "execution_count": 8,
   "metadata": {
    "ExecuteTime": {
     "end_time": "2019-01-21T08:46:11.566885Z",
     "start_time": "2019-01-21T08:46:11.562896Z"
    }
   },
   "outputs": [],
   "source": [
    "def time_to_month(x):\n",
    "    year, month = x.split('-')\n",
    "    time = int(year)*12 + int(month)\n",
    "    return time"
   ]
  },
  {
   "cell_type": "code",
   "execution_count": 9,
   "metadata": {
    "ExecuteTime": {
     "end_time": "2019-01-21T08:46:12.652979Z",
     "start_time": "2019-01-21T08:46:12.231108Z"
    }
   },
   "outputs": [],
   "source": [
    "data['first_active_month'] = data['first_active_month'].apply(time_to_month)\n",
    "min_time = min(data['first_active_month'])\n",
    "data['first_active_month'] -= min_time"
   ]
  },
  {
   "cell_type": "markdown",
   "metadata": {},
   "source": [
    "onehot处理"
   ]
  },
  {
   "cell_type": "code",
   "execution_count": 22,
   "metadata": {
    "ExecuteTime": {
     "end_time": "2019-01-21T08:00:08.774896Z",
     "start_time": "2019-01-21T08:00:08.771903Z"
    }
   },
   "outputs": [],
   "source": [
    "# category_features = ['feature_1', 'feature_2', 'feature_3']"
   ]
  },
  {
   "cell_type": "code",
   "execution_count": 23,
   "metadata": {
    "ExecuteTime": {
     "end_time": "2019-01-21T08:00:09.011264Z",
     "start_time": "2019-01-21T08:00:09.008271Z"
    }
   },
   "outputs": [],
   "source": [
    "# for col in category_features:\n",
    "#     dummy = pd.get_dummies(data[col], prefix=col, prefix_sep='_')\n",
    "#     data = pd.concat([data, dummy], axis=1)"
   ]
  },
  {
   "cell_type": "markdown",
   "metadata": {},
   "source": [
    "# 与其他文件结合"
   ]
  },
  {
   "cell_type": "code",
   "execution_count": 10,
   "metadata": {
    "ExecuteTime": {
     "end_time": "2019-01-21T08:46:25.248295Z",
     "start_time": "2019-01-21T08:46:16.010999Z"
    }
   },
   "outputs": [],
   "source": [
    "card_feature = pd.read_csv('data/card_feature.csv')\n",
    "city_feature = pd.read_csv('data/city_feature.csv')\n",
    "category_feature = pd.read_csv('data/category_feature.csv')\n",
    "subsector_feature = pd.read_csv('data/subsector_feature.csv')\n",
    "state_feature = pd.read_csv('data/state_feature.csv')\n",
    "day_feature = pd.read_csv('data/day_feature.csv')\n",
    "month_feature = pd.read_csv('data/month_feature.csv')\n",
    "second_feature = pd.read_csv('data/second_feature.csv')\n",
    "installments_feature = pd.read_csv('data/installments_feature.csv')\n",
    "purchase_feature = pd.read_csv('data/purchase_feature.csv')\n",
    "install_purchase_feature = pd.read_csv('data/install_purchase_feature.csv')\n",
    "category_1_feature = pd.read_csv('data/category_1_feature.csv')\n",
    "category_2_feature = pd.read_csv('data/category_2_feature.csv')\n",
    "category_3_feature = pd.read_csv('data/category_3_feature.csv')\n",
    "authorized_feature = pd.read_csv('data/authorized_feature.csv')\n",
    "month_lag_feature = pd.read_csv('data/month_lag_feature.csv')"
   ]
  },
  {
   "cell_type": "code",
   "execution_count": 11,
   "metadata": {
    "ExecuteTime": {
     "end_time": "2019-01-21T08:46:32.053096Z",
     "start_time": "2019-01-21T08:46:25.473693Z"
    }
   },
   "outputs": [],
   "source": [
    "new_card_feature = pd.read_csv('data/new_card_feature.csv')\n",
    "new_city_feature = pd.read_csv('data/new_city_feature.csv')\n",
    "new_category_feature = pd.read_csv('data/new_category_feature.csv')\n",
    "new_subsector_feature = pd.read_csv('data/new_subsector_feature.csv')\n",
    "new_state_feature = pd.read_csv('data/new_state_feature.csv')\n",
    "new_day_feature = pd.read_csv('data/new_day_feature.csv')\n",
    "new_month_feature = pd.read_csv('data/new_month_feature.csv')\n",
    "new_installments_feature = pd.read_csv('data/new_installments_feature.csv')\n",
    "new_purchase_feature = pd.read_csv('data/new_purchase_feature.csv')\n",
    "new_install_purchase_feature = pd.read_csv('data/new_install_purchase_feature.csv')\n",
    "new_category_1_feature = pd.read_csv('data/new_category_1_feature.csv')\n",
    "new_category_2_feature = pd.read_csv('data/new_category_2_feature.csv')\n",
    "new_category_3_feature = pd.read_csv('data/new_category_3_feature.csv')\n",
    "new_authorized_feature = pd.read_csv('data/new_authorized_feature.csv')\n",
    "new_month_lag_feature = pd.read_csv('data/new_month_lag_feature.csv')"
   ]
  },
  {
   "cell_type": "code",
   "execution_count": 12,
   "metadata": {
    "ExecuteTime": {
     "end_time": "2019-01-21T08:46:42.860194Z",
     "start_time": "2019-01-21T08:46:32.460009Z"
    }
   },
   "outputs": [],
   "source": [
    "data = pd.merge(data, card_feature, on='card_id', how='left')\n",
    "data = pd.merge(data, city_feature, on='card_id', how='left')\n",
    "data = pd.merge(data, category_feature, on='card_id', how='left')\n",
    "data = pd.merge(data, subsector_feature, on='card_id', how='left')\n",
    "data = pd.merge(data, state_feature, on='card_id', how='left')\n",
    "data = pd.merge(data, day_feature, on='card_id', how='left')\n",
    "data = pd.merge(data, month_feature, on='card_id', how='left')\n",
    "data = pd.merge(data, second_feature, on='card_id', how='left')\n",
    "data = pd.merge(data, installments_feature, on='card_id', how='left')\n",
    "data = pd.merge(data, purchase_feature, on='card_id', how='left')\n",
    "data = pd.merge(data, install_purchase_feature, on='card_id', how='left')\n",
    "data = pd.merge(data, category_1_feature, on='card_id', how='left')\n",
    "data = pd.merge(data, category_2_feature, on='card_id', how='left')\n",
    "data = pd.merge(data, category_3_feature, on='card_id', how='left')\n",
    "data = pd.merge(data, authorized_feature, on='card_id', how='left')\n",
    "data = pd.merge(data, month_lag_feature, on='card_id', how='left')"
   ]
  },
  {
   "cell_type": "code",
   "execution_count": 13,
   "metadata": {
    "ExecuteTime": {
     "end_time": "2019-01-21T08:46:58.897305Z",
     "start_time": "2019-01-21T08:46:43.974215Z"
    }
   },
   "outputs": [],
   "source": [
    "data = pd.merge(data, new_card_feature, on='card_id', how='left')\n",
    "data = pd.merge(data, new_city_feature, on='card_id', how='left')\n",
    "data = pd.merge(data, new_category_feature, on='card_id', how='left')\n",
    "data = pd.merge(data, new_subsector_feature, on='card_id', how='left')\n",
    "data = pd.merge(data, new_state_feature, on='card_id', how='left')\n",
    "data = pd.merge(data, new_day_feature, on='card_id', how='left')\n",
    "data = pd.merge(data, new_month_feature, on='card_id', how='left')\n",
    "data = pd.merge(data, new_installments_feature, on='card_id', how='left')\n",
    "data = pd.merge(data, new_purchase_feature, on='card_id', how='left')\n",
    "data = pd.merge(data, new_install_purchase_feature, on='card_id', how='left')\n",
    "data = pd.merge(data, new_category_1_feature, on='card_id', how='left')\n",
    "data = pd.merge(data, new_category_2_feature, on='card_id', how='left')\n",
    "data = pd.merge(data, new_category_3_feature, on='card_id', how='left')\n",
    "data = pd.merge(data, new_authorized_feature, on='card_id', how='left')\n",
    "data = pd.merge(data, new_month_lag_feature, on='card_id', how='left')"
   ]
  },
  {
   "cell_type": "code",
   "execution_count": 14,
   "metadata": {
    "ExecuteTime": {
     "end_time": "2019-01-21T08:47:00.843102Z",
     "start_time": "2019-01-21T08:47:00.083134Z"
    }
   },
   "outputs": [],
   "source": [
    "train = data[:train_len]\n",
    "test = data[train_len:]\n",
    "train['target'] = train_y"
   ]
  },
  {
   "cell_type": "code",
   "execution_count": 15,
   "metadata": {
    "ExecuteTime": {
     "end_time": "2019-01-21T08:48:28.640299Z",
     "start_time": "2019-01-21T08:47:02.592424Z"
    }
   },
   "outputs": [],
   "source": [
    "train.to_csv('data/train_base.csv', index=None)\n",
    "test.to_csv('data/test_base.csv', index=None)"
   ]
  },
  {
   "cell_type": "code",
   "execution_count": 16,
   "metadata": {
    "ExecuteTime": {
     "end_time": "2019-01-21T08:48:30.801520Z",
     "start_time": "2019-01-21T08:48:30.426523Z"
    }
   },
   "outputs": [
    {
     "name": "stdout",
     "output_type": "stream",
     "text": [
      "<class 'pandas.core.frame.DataFrame'>\n",
      "Int64Index: 201917 entries, 0 to 201916\n",
      "Columns: 261 entries, first_active_month to target\n",
      "dtypes: float64(201), int64(59), object(1)\n",
      "memory usage: 403.6+ MB\n"
     ]
    }
   ],
   "source": [
    "train.info()"
   ]
  },
  {
   "cell_type": "code",
   "execution_count": null,
   "metadata": {},
   "outputs": [],
   "source": []
  }
 ],
 "metadata": {
  "kernelspec": {
   "display_name": "Python 3",
   "language": "python",
   "name": "python3"
  },
  "language_info": {
   "codemirror_mode": {
    "name": "ipython",
    "version": 3
   },
   "file_extension": ".py",
   "mimetype": "text/x-python",
   "name": "python",
   "nbconvert_exporter": "python",
   "pygments_lexer": "ipython3",
   "version": "3.6.5"
  },
  "toc": {
   "base_numbering": 1,
   "nav_menu": {},
   "number_sections": true,
   "sideBar": true,
   "skip_h1_title": false,
   "title_cell": "Table of Contents",
   "title_sidebar": "Contents",
   "toc_cell": false,
   "toc_position": {},
   "toc_section_display": true,
   "toc_window_display": false
  },
  "varInspector": {
   "cols": {
    "lenName": 16,
    "lenType": 16,
    "lenVar": 40
   },
   "kernels_config": {
    "python": {
     "delete_cmd_postfix": "",
     "delete_cmd_prefix": "del ",
     "library": "var_list.py",
     "varRefreshCmd": "print(var_dic_list())"
    },
    "r": {
     "delete_cmd_postfix": ") ",
     "delete_cmd_prefix": "rm(",
     "library": "var_list.r",
     "varRefreshCmd": "cat(var_dic_list()) "
    }
   },
   "position": {
    "height": "403px",
    "left": "604px",
    "right": "20px",
    "top": "206px",
    "width": "350px"
   },
   "types_to_exclude": [
    "module",
    "function",
    "builtin_function_or_method",
    "instance",
    "_Feature"
   ],
   "window_display": false
  }
 },
 "nbformat": 4,
 "nbformat_minor": 2
}
