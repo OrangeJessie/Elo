{
 "cells": [
  {
   "cell_type": "code",
   "execution_count": 1,
   "metadata": {
    "ExecuteTime": {
     "end_time": "2019-01-21T07:10:39.930292Z",
     "start_time": "2019-01-21T07:10:35.459249Z"
    }
   },
   "outputs": [],
   "source": [
    "import pandas as pd\n",
    "import numpy as np\n",
    "import seaborn as sns\n",
    "import warnings\n",
    "import matplotlib.pyplot as plt\n",
    "from sklearn.preprocessing import OneHotEncoder\n",
    "from scipy import sparse\n",
    "pd.set_option('max_columns', 200)\n",
    "pd.set_option('max_colwidth', 200)\n",
    "pd.set_option('max_rows', 100)\n",
    "warnings.filterwarnings('ignore')\n",
    "\n",
    "%matplotlib inline"
   ]
  },
  {
   "cell_type": "markdown",
   "metadata": {},
   "source": [
    "new_merchant_transactions是过去3个月每个商户的所以交易用户信息，new_merchant_transactions是2个月内特定用户还没有涉及到的商户信息"
   ]
  },
  {
   "cell_type": "markdown",
   "metadata": {},
   "source": [
    "# 观察数据"
   ]
  },
  {
   "cell_type": "code",
   "execution_count": 2,
   "metadata": {
    "ExecuteTime": {
     "end_time": "2019-01-21T07:10:45.799595Z",
     "start_time": "2019-01-21T07:10:41.140057Z"
    }
   },
   "outputs": [],
   "source": [
    "new = pd.read_csv('data/new_merchant_transactions.csv')"
   ]
  },
  {
   "cell_type": "code",
   "execution_count": 111,
   "metadata": {
    "ExecuteTime": {
     "end_time": "2019-01-21T07:34:31.688018Z",
     "start_time": "2019-01-21T07:34:28.796751Z"
    }
   },
   "outputs": [],
   "source": [
    "card_id = new[['card_id']]\n",
    "card_id.to_csv('data/card_id.csv', index=None)"
   ]
  },
  {
   "cell_type": "code",
   "execution_count": 3,
   "metadata": {
    "ExecuteTime": {
     "end_time": "2019-01-21T07:10:45.867414Z",
     "start_time": "2019-01-21T07:10:45.861430Z"
    }
   },
   "outputs": [
    {
     "name": "stdout",
     "output_type": "stream",
     "text": [
      "<class 'pandas.core.frame.DataFrame'>\n",
      "RangeIndex: 1963031 entries, 0 to 1963030\n",
      "Data columns (total 14 columns):\n",
      "authorized_flag         object\n",
      "card_id                 object\n",
      "city_id                 int64\n",
      "category_1              object\n",
      "installments            int64\n",
      "category_3              object\n",
      "merchant_category_id    int64\n",
      "merchant_id             object\n",
      "month_lag               int64\n",
      "purchase_amount         float64\n",
      "purchase_date           object\n",
      "category_2              float64\n",
      "state_id                int64\n",
      "subsector_id            int64\n",
      "dtypes: float64(2), int64(6), object(6)\n",
      "memory usage: 209.7+ MB\n"
     ]
    }
   ],
   "source": [
    "new.info()"
   ]
  },
  {
   "cell_type": "code",
   "execution_count": 4,
   "metadata": {
    "ExecuteTime": {
     "end_time": "2019-01-21T07:10:45.973132Z",
     "start_time": "2019-01-21T07:10:45.918278Z"
    }
   },
   "outputs": [
    {
     "data": {
      "text/html": [
       "<div>\n",
       "<style scoped>\n",
       "    .dataframe tbody tr th:only-of-type {\n",
       "        vertical-align: middle;\n",
       "    }\n",
       "\n",
       "    .dataframe tbody tr th {\n",
       "        vertical-align: top;\n",
       "    }\n",
       "\n",
       "    .dataframe thead th {\n",
       "        text-align: right;\n",
       "    }\n",
       "</style>\n",
       "<table border=\"1\" class=\"dataframe\">\n",
       "  <thead>\n",
       "    <tr style=\"text-align: right;\">\n",
       "      <th></th>\n",
       "      <th>authorized_flag</th>\n",
       "      <th>card_id</th>\n",
       "      <th>city_id</th>\n",
       "      <th>category_1</th>\n",
       "      <th>installments</th>\n",
       "      <th>category_3</th>\n",
       "      <th>merchant_category_id</th>\n",
       "      <th>merchant_id</th>\n",
       "      <th>month_lag</th>\n",
       "      <th>purchase_amount</th>\n",
       "      <th>purchase_date</th>\n",
       "      <th>category_2</th>\n",
       "      <th>state_id</th>\n",
       "      <th>subsector_id</th>\n",
       "    </tr>\n",
       "  </thead>\n",
       "  <tbody>\n",
       "    <tr>\n",
       "      <th>0</th>\n",
       "      <td>Y</td>\n",
       "      <td>C_ID_415bb3a509</td>\n",
       "      <td>107</td>\n",
       "      <td>N</td>\n",
       "      <td>1</td>\n",
       "      <td>B</td>\n",
       "      <td>307</td>\n",
       "      <td>M_ID_b0c793002c</td>\n",
       "      <td>1</td>\n",
       "      <td>-0.557574</td>\n",
       "      <td>2018-03-11 14:57:36</td>\n",
       "      <td>1.0</td>\n",
       "      <td>9</td>\n",
       "      <td>19</td>\n",
       "    </tr>\n",
       "    <tr>\n",
       "      <th>1</th>\n",
       "      <td>Y</td>\n",
       "      <td>C_ID_415bb3a509</td>\n",
       "      <td>140</td>\n",
       "      <td>N</td>\n",
       "      <td>1</td>\n",
       "      <td>B</td>\n",
       "      <td>307</td>\n",
       "      <td>M_ID_88920c89e8</td>\n",
       "      <td>1</td>\n",
       "      <td>-0.569580</td>\n",
       "      <td>2018-03-19 18:53:37</td>\n",
       "      <td>1.0</td>\n",
       "      <td>9</td>\n",
       "      <td>19</td>\n",
       "    </tr>\n",
       "    <tr>\n",
       "      <th>2</th>\n",
       "      <td>Y</td>\n",
       "      <td>C_ID_415bb3a509</td>\n",
       "      <td>330</td>\n",
       "      <td>N</td>\n",
       "      <td>1</td>\n",
       "      <td>B</td>\n",
       "      <td>507</td>\n",
       "      <td>M_ID_ad5237ef6b</td>\n",
       "      <td>2</td>\n",
       "      <td>-0.551037</td>\n",
       "      <td>2018-04-26 14:08:44</td>\n",
       "      <td>1.0</td>\n",
       "      <td>9</td>\n",
       "      <td>14</td>\n",
       "    </tr>\n",
       "    <tr>\n",
       "      <th>3</th>\n",
       "      <td>Y</td>\n",
       "      <td>C_ID_415bb3a509</td>\n",
       "      <td>-1</td>\n",
       "      <td>Y</td>\n",
       "      <td>1</td>\n",
       "      <td>B</td>\n",
       "      <td>661</td>\n",
       "      <td>M_ID_9e84cda3b1</td>\n",
       "      <td>1</td>\n",
       "      <td>-0.671925</td>\n",
       "      <td>2018-03-07 09:43:21</td>\n",
       "      <td>NaN</td>\n",
       "      <td>-1</td>\n",
       "      <td>8</td>\n",
       "    </tr>\n",
       "    <tr>\n",
       "      <th>4</th>\n",
       "      <td>Y</td>\n",
       "      <td>C_ID_ef55cf8d4b</td>\n",
       "      <td>-1</td>\n",
       "      <td>Y</td>\n",
       "      <td>1</td>\n",
       "      <td>B</td>\n",
       "      <td>166</td>\n",
       "      <td>M_ID_3c86fa3831</td>\n",
       "      <td>1</td>\n",
       "      <td>-0.659904</td>\n",
       "      <td>2018-03-22 21:07:53</td>\n",
       "      <td>NaN</td>\n",
       "      <td>-1</td>\n",
       "      <td>29</td>\n",
       "    </tr>\n",
       "  </tbody>\n",
       "</table>\n",
       "</div>"
      ],
      "text/plain": [
       "  authorized_flag          card_id  city_id category_1  installments  \\\n",
       "0               Y  C_ID_415bb3a509      107          N             1   \n",
       "1               Y  C_ID_415bb3a509      140          N             1   \n",
       "2               Y  C_ID_415bb3a509      330          N             1   \n",
       "3               Y  C_ID_415bb3a509       -1          Y             1   \n",
       "4               Y  C_ID_ef55cf8d4b       -1          Y             1   \n",
       "\n",
       "  category_3  merchant_category_id      merchant_id  month_lag  \\\n",
       "0          B                   307  M_ID_b0c793002c          1   \n",
       "1          B                   307  M_ID_88920c89e8          1   \n",
       "2          B                   507  M_ID_ad5237ef6b          2   \n",
       "3          B                   661  M_ID_9e84cda3b1          1   \n",
       "4          B                   166  M_ID_3c86fa3831          1   \n",
       "\n",
       "   purchase_amount        purchase_date  category_2  state_id  subsector_id  \n",
       "0        -0.557574  2018-03-11 14:57:36         1.0         9            19  \n",
       "1        -0.569580  2018-03-19 18:53:37         1.0         9            19  \n",
       "2        -0.551037  2018-04-26 14:08:44         1.0         9            14  \n",
       "3        -0.671925  2018-03-07 09:43:21         NaN        -1             8  \n",
       "4        -0.659904  2018-03-22 21:07:53         NaN        -1            29  "
      ]
     },
     "execution_count": 4,
     "metadata": {},
     "output_type": "execute_result"
    }
   ],
   "source": [
    "new.head()"
   ]
  },
  {
   "cell_type": "code",
   "execution_count": 5,
   "metadata": {
    "ExecuteTime": {
     "end_time": "2019-01-21T07:10:58.418848Z",
     "start_time": "2019-01-21T07:10:51.300883Z"
    }
   },
   "outputs": [
    {
     "data": {
      "text/html": [
       "<div>\n",
       "<style scoped>\n",
       "    .dataframe tbody tr th:only-of-type {\n",
       "        vertical-align: middle;\n",
       "    }\n",
       "\n",
       "    .dataframe tbody tr th {\n",
       "        vertical-align: top;\n",
       "    }\n",
       "\n",
       "    .dataframe thead th {\n",
       "        text-align: right;\n",
       "    }\n",
       "</style>\n",
       "<table border=\"1\" class=\"dataframe\">\n",
       "  <thead>\n",
       "    <tr style=\"text-align: right;\">\n",
       "      <th></th>\n",
       "      <th>Feature</th>\n",
       "      <th>Unique values</th>\n",
       "      <th>Missing values</th>\n",
       "      <th>Percentage of biggest category</th>\n",
       "      <th>type</th>\n",
       "    </tr>\n",
       "  </thead>\n",
       "  <tbody>\n",
       "    <tr>\n",
       "      <th>0</th>\n",
       "      <td>authorized_flag</td>\n",
       "      <td>1</td>\n",
       "      <td>0.000000</td>\n",
       "      <td>1.000000</td>\n",
       "      <td>object</td>\n",
       "    </tr>\n",
       "    <tr>\n",
       "      <th>3</th>\n",
       "      <td>category_1</td>\n",
       "      <td>2</td>\n",
       "      <td>0.000000</td>\n",
       "      <td>0.967858</td>\n",
       "      <td>object</td>\n",
       "    </tr>\n",
       "    <tr>\n",
       "      <th>11</th>\n",
       "      <td>category_2</td>\n",
       "      <td>5</td>\n",
       "      <td>0.056925</td>\n",
       "      <td>0.539086</td>\n",
       "      <td>float64</td>\n",
       "    </tr>\n",
       "    <tr>\n",
       "      <th>8</th>\n",
       "      <td>month_lag</td>\n",
       "      <td>2</td>\n",
       "      <td>0.000000</td>\n",
       "      <td>0.523485</td>\n",
       "      <td>int64</td>\n",
       "    </tr>\n",
       "    <tr>\n",
       "      <th>4</th>\n",
       "      <td>installments</td>\n",
       "      <td>15</td>\n",
       "      <td>0.000000</td>\n",
       "      <td>0.469806</td>\n",
       "      <td>int64</td>\n",
       "    </tr>\n",
       "    <tr>\n",
       "      <th>5</th>\n",
       "      <td>category_3</td>\n",
       "      <td>3</td>\n",
       "      <td>0.028488</td>\n",
       "      <td>0.469806</td>\n",
       "      <td>object</td>\n",
       "    </tr>\n",
       "    <tr>\n",
       "      <th>12</th>\n",
       "      <td>state_id</td>\n",
       "      <td>25</td>\n",
       "      <td>0.000000</td>\n",
       "      <td>0.373477</td>\n",
       "      <td>int64</td>\n",
       "    </tr>\n",
       "    <tr>\n",
       "      <th>13</th>\n",
       "      <td>subsector_id</td>\n",
       "      <td>41</td>\n",
       "      <td>0.000000</td>\n",
       "      <td>0.173229</td>\n",
       "      <td>int64</td>\n",
       "    </tr>\n",
       "    <tr>\n",
       "      <th>2</th>\n",
       "      <td>city_id</td>\n",
       "      <td>308</td>\n",
       "      <td>0.000000</td>\n",
       "      <td>0.167555</td>\n",
       "      <td>int64</td>\n",
       "    </tr>\n",
       "    <tr>\n",
       "      <th>6</th>\n",
       "      <td>merchant_category_id</td>\n",
       "      <td>314</td>\n",
       "      <td>0.000000</td>\n",
       "      <td>0.097620</td>\n",
       "      <td>int64</td>\n",
       "    </tr>\n",
       "    <tr>\n",
       "      <th>9</th>\n",
       "      <td>purchase_amount</td>\n",
       "      <td>75190</td>\n",
       "      <td>0.000000</td>\n",
       "      <td>0.024623</td>\n",
       "      <td>float64</td>\n",
       "    </tr>\n",
       "    <tr>\n",
       "      <th>7</th>\n",
       "      <td>merchant_id</td>\n",
       "      <td>226129</td>\n",
       "      <td>0.013355</td>\n",
       "      <td>0.013355</td>\n",
       "      <td>object</td>\n",
       "    </tr>\n",
       "    <tr>\n",
       "      <th>10</th>\n",
       "      <td>purchase_date</td>\n",
       "      <td>1667025</td>\n",
       "      <td>0.000000</td>\n",
       "      <td>0.000296</td>\n",
       "      <td>object</td>\n",
       "    </tr>\n",
       "    <tr>\n",
       "      <th>1</th>\n",
       "      <td>card_id</td>\n",
       "      <td>290001</td>\n",
       "      <td>0.000000</td>\n",
       "      <td>0.000056</td>\n",
       "      <td>object</td>\n",
       "    </tr>\n",
       "  </tbody>\n",
       "</table>\n",
       "</div>"
      ],
      "text/plain": [
       "                 Feature  Unique values  Missing values  \\\n",
       "0        authorized_flag              1        0.000000   \n",
       "3             category_1              2        0.000000   \n",
       "11            category_2              5        0.056925   \n",
       "8              month_lag              2        0.000000   \n",
       "4           installments             15        0.000000   \n",
       "5             category_3              3        0.028488   \n",
       "12              state_id             25        0.000000   \n",
       "13          subsector_id             41        0.000000   \n",
       "2                city_id            308        0.000000   \n",
       "6   merchant_category_id            314        0.000000   \n",
       "9        purchase_amount          75190        0.000000   \n",
       "7            merchant_id         226129        0.013355   \n",
       "10         purchase_date        1667025        0.000000   \n",
       "1                card_id         290001        0.000000   \n",
       "\n",
       "    Percentage of biggest category     type  \n",
       "0                         1.000000   object  \n",
       "3                         0.967858   object  \n",
       "11                        0.539086  float64  \n",
       "8                         0.523485    int64  \n",
       "4                         0.469806    int64  \n",
       "5                         0.469806   object  \n",
       "12                        0.373477    int64  \n",
       "13                        0.173229    int64  \n",
       "2                         0.167555    int64  \n",
       "6                         0.097620    int64  \n",
       "9                         0.024623  float64  \n",
       "7                         0.013355   object  \n",
       "10                        0.000296   object  \n",
       "1                         0.000056   object  "
      ]
     },
     "execution_count": 5,
     "metadata": {},
     "output_type": "execute_result"
    }
   ],
   "source": [
    "states = []\n",
    "for col in new.columns:\n",
    "    states.append((col, new[col].nunique(), new[col].isnull().sum()/new.shape[0], new[col].value_counts(normalize=True, dropna=False).values[0], new[col].dtype))\n",
    "state_df = pd.DataFrame(states, columns=['Feature', 'Unique values', 'Missing values', 'Percentage of biggest category', 'type'])\n",
    "state_df.sort_values('Percentage of biggest category', ascending=False)"
   ]
  },
  {
   "cell_type": "code",
   "execution_count": 6,
   "metadata": {
    "ExecuteTime": {
     "end_time": "2019-01-21T07:10:58.518581Z",
     "start_time": "2019-01-21T07:10:58.483674Z"
    }
   },
   "outputs": [
    {
     "data": {
      "text/plain": [
       " 0      922244\n",
       " 1      836178\n",
       "-1       55922\n",
       " 2       54729\n",
       " 3       44750\n",
       " 4       14815\n",
       " 6       10389\n",
       " 5        9296\n",
       " 10       8899\n",
       " 12       2850\n",
       " 8        1555\n",
       " 7         863\n",
       " 9         478\n",
       " 11         61\n",
       " 999         2\n",
       "Name: installments, dtype: int64"
      ]
     },
     "execution_count": 6,
     "metadata": {},
     "output_type": "execute_result"
    }
   ],
   "source": [
    "new['installments'].value_counts()"
   ]
  },
  {
   "cell_type": "markdown",
   "metadata": {},
   "source": [
    "# 数据处理"
   ]
  },
  {
   "cell_type": "code",
   "execution_count": 200,
   "metadata": {
    "ExecuteTime": {
     "end_time": "2019-01-21T08:28:33.839040Z",
     "start_time": "2019-01-21T08:28:29.598381Z"
    }
   },
   "outputs": [],
   "source": [
    "new = pd.read_csv('data/new_merchant_transactions.csv')"
   ]
  },
  {
   "cell_type": "markdown",
   "metadata": {},
   "source": [
    "## 时间转换"
   ]
  },
  {
   "cell_type": "code",
   "execution_count": 201,
   "metadata": {
    "ExecuteTime": {
     "end_time": "2019-01-21T08:28:34.531191Z",
     "start_time": "2019-01-21T08:28:34.526202Z"
    }
   },
   "outputs": [],
   "source": [
    "def purchase_day(x):\n",
    "    big, small = x.split(' ')\n",
    "    year, month, day = big.split('-')\n",
    "    all_day = (int(year)*12+int(month)-24143)*30 + int(day)\n",
    "    return all_day\n",
    "\n",
    "def purchase_second(x):\n",
    "    big, small = x.split(' ')\n",
    "    hour, minite, second = small.split(':')\n",
    "    all_second = int(hour)*24*60 + int(minite)*60 + int(second)\n",
    "    return all_second"
   ]
  },
  {
   "cell_type": "code",
   "execution_count": 202,
   "metadata": {
    "ExecuteTime": {
     "end_time": "2019-01-21T08:28:42.137846Z",
     "start_time": "2019-01-21T08:28:35.186437Z"
    }
   },
   "outputs": [],
   "source": [
    "new['purchase_day'] = new['purchase_date'].apply(purchase_day)\n",
    "new['purchase_second'] = new['purchase_date'].apply(purchase_second)\n",
    "new['purchase_month'] = new['purchase_day']//30 + new['month_lag']\n",
    "new = new.drop('purchase_date', axis=1)"
   ]
  },
  {
   "cell_type": "markdown",
   "metadata": {},
   "source": [
    "## 处理异常值"
   ]
  },
  {
   "cell_type": "code",
   "execution_count": 203,
   "metadata": {
    "ExecuteTime": {
     "end_time": "2019-01-21T08:28:42.911776Z",
     "start_time": "2019-01-21T08:28:42.833984Z"
    }
   },
   "outputs": [],
   "source": [
    "# 处理分期付款的异常值\n",
    "new['installments'][new['installments'] == 999] = -1"
   ]
  },
  {
   "cell_type": "markdown",
   "metadata": {},
   "source": [
    "## 同一merchant_id购买记录"
   ]
  },
  {
   "cell_type": "markdown",
   "metadata": {},
   "source": [
    "用户在同一商家购买的次数"
   ]
  },
  {
   "cell_type": "code",
   "execution_count": 212,
   "metadata": {
    "ExecuteTime": {
     "end_time": "2019-01-21T08:30:23.522706Z",
     "start_time": "2019-01-21T08:30:23.275367Z"
    }
   },
   "outputs": [],
   "source": [
    "card_feature = new[['card_id']]\n",
    "card_feature = card_feature.drop_duplicates().reset_index(drop=True)"
   ]
  },
  {
   "cell_type": "code",
   "execution_count": 213,
   "metadata": {
    "ExecuteTime": {
     "end_time": "2019-01-21T08:30:24.451222Z",
     "start_time": "2019-01-21T08:30:24.192913Z"
    }
   },
   "outputs": [],
   "source": [
    "t = new[['card_id', 'merchant_id']]\n",
    "t['same_merchant_count'] = 1"
   ]
  },
  {
   "cell_type": "code",
   "execution_count": 214,
   "metadata": {
    "ExecuteTime": {
     "end_time": "2019-01-21T08:30:27.337504Z",
     "start_time": "2019-01-21T08:30:25.101483Z"
    }
   },
   "outputs": [],
   "source": [
    "t1 = t.groupby(['card_id', 'merchant_id']).count()"
   ]
  },
  {
   "cell_type": "markdown",
   "metadata": {},
   "source": [
    "以card_id为结合——用户在同一家商家购买的次数的最大、最小、中位数、平均数"
   ]
  },
  {
   "cell_type": "code",
   "execution_count": 215,
   "metadata": {
    "ExecuteTime": {
     "end_time": "2019-01-21T08:32:43.978077Z",
     "start_time": "2019-01-21T08:30:28.060569Z"
    }
   },
   "outputs": [],
   "source": [
    "t2 = t1.reset_index().groupby('card_id').max()[['same_merchant_count']].reset_index()\n",
    "t2 = t2.rename(columns={'same_merchant_count': 'new_same_merchant_max'})\n",
    "t3 = t1.reset_index().groupby('card_id').mean()[['same_merchant_count']].reset_index()\n",
    "t3 = t3.rename(columns={'same_merchant_count': 'new_same_merchant_mean'})\n",
    "t4 = t1.reset_index().groupby('card_id').min()[['same_merchant_count']].reset_index()\n",
    "t4 = t4.rename(columns={'same_merchant_count': 'new_same_merchant_min'})\n",
    "t5 = t1.reset_index().groupby('card_id').median()[['same_merchant_count']].reset_index()\n",
    "t5 = t5.rename(columns={'same_merchant_count': 'new_same_merchant_median'})"
   ]
  },
  {
   "cell_type": "code",
   "execution_count": 216,
   "metadata": {
    "ExecuteTime": {
     "end_time": "2019-01-21T08:32:45.797211Z",
     "start_time": "2019-01-21T08:32:44.609388Z"
    }
   },
   "outputs": [],
   "source": [
    "t1['new_num_merchant'] = 1\n",
    "t6 = t1.reset_index()[['card_id', 'new_num_merchant']].groupby('card_id').count().reset_index()"
   ]
  },
  {
   "cell_type": "code",
   "execution_count": 217,
   "metadata": {
    "ExecuteTime": {
     "end_time": "2019-01-21T08:32:47.288223Z",
     "start_time": "2019-01-21T08:32:46.463430Z"
    }
   },
   "outputs": [],
   "source": [
    "t['new_same_card_count'] = 1\n",
    "t7 = t[['card_id', 'new_same_card_count']].groupby('card_id').count().reset_index()"
   ]
  },
  {
   "cell_type": "code",
   "execution_count": 218,
   "metadata": {
    "ExecuteTime": {
     "end_time": "2019-01-21T08:32:49.374643Z",
     "start_time": "2019-01-21T08:32:47.913551Z"
    }
   },
   "outputs": [],
   "source": [
    "card_feature = pd.merge(card_feature, t2, on='card_id', how='left')\n",
    "card_feature = pd.merge(card_feature, t3, on='card_id', how='left')\n",
    "card_feature = pd.merge(card_feature, t4, on='card_id', how='left')\n",
    "card_feature = pd.merge(card_feature, t5, on='card_id', how='left')\n",
    "card_feature = pd.merge(card_feature, t6, on='card_id', how='left')\n",
    "card_feature = pd.merge(card_feature, t7, on='card_id', how='left')"
   ]
  },
  {
   "cell_type": "code",
   "execution_count": 219,
   "metadata": {
    "ExecuteTime": {
     "end_time": "2019-01-21T08:32:50.080755Z",
     "start_time": "2019-01-21T08:32:50.060809Z"
    }
   },
   "outputs": [],
   "source": [
    "card_feature['new_merchant_max_rate'] = card_feature['new_same_merchant_max']/card_feature['new_same_card_count']\n",
    "card_feature['new_merchant_mean_rate'] = card_feature['new_same_merchant_mean']/card_feature['new_same_card_count']\n",
    "card_feature['new_merchant_min_rate'] = card_feature['new_same_merchant_min']/card_feature['new_same_card_count']\n",
    "card_feature['new_merchant_median_rate'] = card_feature['new_same_merchant_median']/card_feature['new_same_card_count']"
   ]
  },
  {
   "cell_type": "code",
   "execution_count": 220,
   "metadata": {
    "ExecuteTime": {
     "end_time": "2019-01-21T08:32:50.780884Z",
     "start_time": "2019-01-21T08:32:50.765923Z"
    },
    "scrolled": true
   },
   "outputs": [
    {
     "data": {
      "text/html": [
       "<div>\n",
       "<style scoped>\n",
       "    .dataframe tbody tr th:only-of-type {\n",
       "        vertical-align: middle;\n",
       "    }\n",
       "\n",
       "    .dataframe tbody tr th {\n",
       "        vertical-align: top;\n",
       "    }\n",
       "\n",
       "    .dataframe thead th {\n",
       "        text-align: right;\n",
       "    }\n",
       "</style>\n",
       "<table border=\"1\" class=\"dataframe\">\n",
       "  <thead>\n",
       "    <tr style=\"text-align: right;\">\n",
       "      <th></th>\n",
       "      <th>card_id</th>\n",
       "      <th>new_same_merchant_max</th>\n",
       "      <th>new_same_merchant_mean</th>\n",
       "      <th>new_same_merchant_min</th>\n",
       "      <th>new_same_merchant_median</th>\n",
       "      <th>new_num_merchant</th>\n",
       "      <th>new_same_card_count</th>\n",
       "      <th>new_merchant_max_rate</th>\n",
       "      <th>new_merchant_mean_rate</th>\n",
       "      <th>new_merchant_min_rate</th>\n",
       "      <th>new_merchant_median_rate</th>\n",
       "    </tr>\n",
       "  </thead>\n",
       "  <tbody>\n",
       "    <tr>\n",
       "      <th>0</th>\n",
       "      <td>C_ID_415bb3a509</td>\n",
       "      <td>1.0</td>\n",
       "      <td>1.0</td>\n",
       "      <td>1.0</td>\n",
       "      <td>1.0</td>\n",
       "      <td>4.0</td>\n",
       "      <td>4</td>\n",
       "      <td>0.250000</td>\n",
       "      <td>0.250000</td>\n",
       "      <td>0.250000</td>\n",
       "      <td>0.250000</td>\n",
       "    </tr>\n",
       "    <tr>\n",
       "      <th>1</th>\n",
       "      <td>C_ID_ef55cf8d4b</td>\n",
       "      <td>1.0</td>\n",
       "      <td>1.0</td>\n",
       "      <td>1.0</td>\n",
       "      <td>1.0</td>\n",
       "      <td>22.0</td>\n",
       "      <td>22</td>\n",
       "      <td>0.045455</td>\n",
       "      <td>0.045455</td>\n",
       "      <td>0.045455</td>\n",
       "      <td>0.045455</td>\n",
       "    </tr>\n",
       "    <tr>\n",
       "      <th>2</th>\n",
       "      <td>C_ID_241a01e9d9</td>\n",
       "      <td>1.0</td>\n",
       "      <td>1.0</td>\n",
       "      <td>1.0</td>\n",
       "      <td>1.0</td>\n",
       "      <td>2.0</td>\n",
       "      <td>2</td>\n",
       "      <td>0.500000</td>\n",
       "      <td>0.500000</td>\n",
       "      <td>0.500000</td>\n",
       "      <td>0.500000</td>\n",
       "    </tr>\n",
       "    <tr>\n",
       "      <th>3</th>\n",
       "      <td>C_ID_a97720321f</td>\n",
       "      <td>1.0</td>\n",
       "      <td>1.0</td>\n",
       "      <td>1.0</td>\n",
       "      <td>1.0</td>\n",
       "      <td>12.0</td>\n",
       "      <td>12</td>\n",
       "      <td>0.083333</td>\n",
       "      <td>0.083333</td>\n",
       "      <td>0.083333</td>\n",
       "      <td>0.083333</td>\n",
       "    </tr>\n",
       "    <tr>\n",
       "      <th>4</th>\n",
       "      <td>C_ID_fb0875cd28</td>\n",
       "      <td>1.0</td>\n",
       "      <td>1.0</td>\n",
       "      <td>1.0</td>\n",
       "      <td>1.0</td>\n",
       "      <td>7.0</td>\n",
       "      <td>7</td>\n",
       "      <td>0.142857</td>\n",
       "      <td>0.142857</td>\n",
       "      <td>0.142857</td>\n",
       "      <td>0.142857</td>\n",
       "    </tr>\n",
       "  </tbody>\n",
       "</table>\n",
       "</div>"
      ],
      "text/plain": [
       "           card_id  new_same_merchant_max  new_same_merchant_mean  \\\n",
       "0  C_ID_415bb3a509                    1.0                     1.0   \n",
       "1  C_ID_ef55cf8d4b                    1.0                     1.0   \n",
       "2  C_ID_241a01e9d9                    1.0                     1.0   \n",
       "3  C_ID_a97720321f                    1.0                     1.0   \n",
       "4  C_ID_fb0875cd28                    1.0                     1.0   \n",
       "\n",
       "   new_same_merchant_min  new_same_merchant_median  new_num_merchant  \\\n",
       "0                    1.0                       1.0               4.0   \n",
       "1                    1.0                       1.0              22.0   \n",
       "2                    1.0                       1.0               2.0   \n",
       "3                    1.0                       1.0              12.0   \n",
       "4                    1.0                       1.0               7.0   \n",
       "\n",
       "   new_same_card_count  new_merchant_max_rate  new_merchant_mean_rate  \\\n",
       "0                    4               0.250000                0.250000   \n",
       "1                   22               0.045455                0.045455   \n",
       "2                    2               0.500000                0.500000   \n",
       "3                   12               0.083333                0.083333   \n",
       "4                    7               0.142857                0.142857   \n",
       "\n",
       "   new_merchant_min_rate  new_merchant_median_rate  \n",
       "0               0.250000                  0.250000  \n",
       "1               0.045455                  0.045455  \n",
       "2               0.500000                  0.500000  \n",
       "3               0.083333                  0.083333  \n",
       "4               0.142857                  0.142857  "
      ]
     },
     "execution_count": 220,
     "metadata": {},
     "output_type": "execute_result"
    }
   ],
   "source": [
    "card_feature.head()"
   ]
  },
  {
   "cell_type": "code",
   "execution_count": 221,
   "metadata": {
    "ExecuteTime": {
     "end_time": "2019-01-21T08:32:54.685441Z",
     "start_time": "2019-01-21T08:32:51.482008Z"
    }
   },
   "outputs": [],
   "source": [
    "card_feature.to_csv('data/new_card_feature.csv', index=None)"
   ]
  },
  {
   "cell_type": "markdown",
   "metadata": {},
   "source": [
    "## 同一城市购买记录"
   ]
  },
  {
   "cell_type": "code",
   "execution_count": 222,
   "metadata": {
    "ExecuteTime": {
     "end_time": "2019-01-21T08:34:51.688532Z",
     "start_time": "2019-01-21T08:34:51.555887Z"
    }
   },
   "outputs": [],
   "source": [
    "t = new[['city_id', 'merchant_id', 'card_id']]\n",
    "t['same_city_count'] = 1"
   ]
  },
  {
   "cell_type": "code",
   "execution_count": 223,
   "metadata": {
    "ExecuteTime": {
     "end_time": "2019-01-21T08:34:53.423890Z",
     "start_time": "2019-01-21T08:34:52.403620Z"
    }
   },
   "outputs": [],
   "source": [
    "t1 = t[['card_id', 'city_id', 'same_city_count']].groupby(['card_id', 'city_id']).count()"
   ]
  },
  {
   "cell_type": "code",
   "execution_count": 224,
   "metadata": {
    "ExecuteTime": {
     "end_time": "2019-01-21T08:34:56.752987Z",
     "start_time": "2019-01-21T08:34:54.101079Z"
    }
   },
   "outputs": [],
   "source": [
    "t2 = t1.reset_index().groupby('card_id').max()[['same_city_count']].reset_index()\n",
    "t2 = t2.rename(columns={'same_city_count': 'new_same_city_max'})\n",
    "t3 = t1.reset_index().groupby('card_id').mean()[['same_city_count']].reset_index()\n",
    "t3 = t3.rename(columns={'same_city_count': 'new_same_city_mean'})\n",
    "t4 = t1.reset_index().groupby('card_id').min()[['same_city_count']].reset_index()\n",
    "t4 = t4.rename(columns={'same_city_count': 'new_same_city_min'})\n",
    "t5 = t1.reset_index().groupby('card_id').median()[['same_city_count']].reset_index()\n",
    "t5 = t5.rename(columns={'same_city_count': 'new_same_city_median'})"
   ]
  },
  {
   "cell_type": "code",
   "execution_count": 225,
   "metadata": {
    "ExecuteTime": {
     "end_time": "2019-01-21T08:34:58.029573Z",
     "start_time": "2019-01-21T08:34:57.396267Z"
    }
   },
   "outputs": [],
   "source": [
    "t1['new_num_city'] = 1\n",
    "t6 = t1.reset_index()[['card_id', 'new_num_city']].groupby('card_id').count().reset_index()"
   ]
  },
  {
   "cell_type": "code",
   "execution_count": 226,
   "metadata": {
    "ExecuteTime": {
     "end_time": "2019-01-21T08:34:59.563471Z",
     "start_time": "2019-01-21T08:34:58.708757Z"
    }
   },
   "outputs": [],
   "source": [
    "t['new_same_card_count'] = 1\n",
    "t7 = t[['card_id', 'new_same_card_count']].groupby('card_id').count().reset_index()"
   ]
  },
  {
   "cell_type": "code",
   "execution_count": 227,
   "metadata": {
    "ExecuteTime": {
     "end_time": "2019-01-21T08:35:01.925155Z",
     "start_time": "2019-01-21T08:35:00.239662Z"
    }
   },
   "outputs": [],
   "source": [
    "city_feature = new[['card_id']]\n",
    "city_feature = city_feature.drop_duplicates().reset_index(drop=True)\n",
    "city_feature = pd.merge(city_feature, t2, on='card_id', how='left')\n",
    "city_feature = pd.merge(city_feature, t3, on='card_id', how='left')\n",
    "city_feature = pd.merge(city_feature, t4, on='card_id', how='left')\n",
    "city_feature = pd.merge(city_feature, t5, on='card_id', how='left')\n",
    "city_feature = pd.merge(city_feature, t6, on='card_id', how='left')\n",
    "city_feature = pd.merge(city_feature, t7, on='card_id', how='left')"
   ]
  },
  {
   "cell_type": "code",
   "execution_count": 228,
   "metadata": {
    "ExecuteTime": {
     "end_time": "2019-01-21T08:35:02.640242Z",
     "start_time": "2019-01-21T08:35:02.574418Z"
    }
   },
   "outputs": [],
   "source": [
    "city_feature['new_city_max_rate'] = city_feature['new_same_city_max']/city_feature['new_same_card_count']\n",
    "city_feature['new_city_mean_rate'] = city_feature['new_same_city_mean']/city_feature['new_same_card_count']\n",
    "city_feature['new_city_min_rate'] = city_feature['new_same_city_min']/city_feature['new_same_card_count']\n",
    "city_feature['new_city_median_rate'] = city_feature['new_same_city_median']/city_feature['new_same_card_count']\n",
    "city_feature = city_feature.drop('new_same_card_count', axis=1)"
   ]
  },
  {
   "cell_type": "markdown",
   "metadata": {},
   "source": [
    "同一家店，不同的城市购买记录"
   ]
  },
  {
   "cell_type": "code",
   "execution_count": 57,
   "metadata": {
    "ExecuteTime": {
     "end_time": "2019-01-21T07:24:48.821777Z",
     "start_time": "2019-01-21T07:24:46.246664Z"
    }
   },
   "outputs": [],
   "source": [
    "# t['city_merchant_count'] = 1\n",
    "# t1 = t[['card_id', 'city_id','merchant_id', 'city_merchant_count']].groupby(['card_id', 'merchant_id', 'city_id']).count()\n",
    "# t1['city_merchant_count'] = 1"
   ]
  },
  {
   "cell_type": "code",
   "execution_count": 58,
   "metadata": {
    "ExecuteTime": {
     "end_time": "2019-01-21T07:25:54.308641Z",
     "start_time": "2019-01-21T07:24:49.156880Z"
    }
   },
   "outputs": [],
   "source": [
    "# t2 = t1.reset_index()[['card_id', 'merchant_id', 'city_merchant_count']].groupby(['card_id', 'merchant_id']).count()\n",
    "\n",
    "# t3 = t2.reset_index().groupby('card_id').max()[['city_merchant_count']].reset_index()\n",
    "# t3 = t3.rename(columns={'city_merchant_count': 'city_merchant_max'})\n",
    "# t4 = t2.reset_index().groupby('card_id').mean()[['city_merchant_count']].reset_index()\n",
    "# t4 = t4.rename(columns={'city_merchant_count': 'city_merchant_mean'})"
   ]
  },
  {
   "cell_type": "code",
   "execution_count": 229,
   "metadata": {
    "ExecuteTime": {
     "end_time": "2019-01-21T08:35:03.307459Z",
     "start_time": "2019-01-21T08:35:03.303469Z"
    }
   },
   "outputs": [],
   "source": [
    "def bigger_1(x):\n",
    "    if x > 1:\n",
    "        return 1\n",
    "    else:\n",
    "        return 0"
   ]
  },
  {
   "cell_type": "code",
   "execution_count": 230,
   "metadata": {
    "ExecuteTime": {
     "end_time": "2019-01-21T08:35:04.065431Z",
     "start_time": "2019-01-21T08:35:04.061443Z"
    }
   },
   "outputs": [],
   "source": [
    "# city_feature = pd.merge(city_feature, t3, on='card_id', how='left')\n",
    "# city_feature = pd.merge(city_feature, t4, on='card_id', how='left')"
   ]
  },
  {
   "cell_type": "code",
   "execution_count": 231,
   "metadata": {
    "ExecuteTime": {
     "end_time": "2019-01-21T08:35:04.808445Z",
     "start_time": "2019-01-21T08:35:04.795479Z"
    }
   },
   "outputs": [
    {
     "data": {
      "text/html": [
       "<div>\n",
       "<style scoped>\n",
       "    .dataframe tbody tr th:only-of-type {\n",
       "        vertical-align: middle;\n",
       "    }\n",
       "\n",
       "    .dataframe tbody tr th {\n",
       "        vertical-align: top;\n",
       "    }\n",
       "\n",
       "    .dataframe thead th {\n",
       "        text-align: right;\n",
       "    }\n",
       "</style>\n",
       "<table border=\"1\" class=\"dataframe\">\n",
       "  <thead>\n",
       "    <tr style=\"text-align: right;\">\n",
       "      <th></th>\n",
       "      <th>card_id</th>\n",
       "      <th>new_same_city_max</th>\n",
       "      <th>new_same_city_mean</th>\n",
       "      <th>new_same_city_min</th>\n",
       "      <th>new_same_city_median</th>\n",
       "      <th>new_num_city</th>\n",
       "      <th>new_city_max_rate</th>\n",
       "      <th>new_city_mean_rate</th>\n",
       "      <th>new_city_min_rate</th>\n",
       "      <th>new_city_median_rate</th>\n",
       "    </tr>\n",
       "  </thead>\n",
       "  <tbody>\n",
       "    <tr>\n",
       "      <th>0</th>\n",
       "      <td>C_ID_415bb3a509</td>\n",
       "      <td>1</td>\n",
       "      <td>1.000000</td>\n",
       "      <td>1</td>\n",
       "      <td>1.0</td>\n",
       "      <td>4</td>\n",
       "      <td>0.250000</td>\n",
       "      <td>0.250000</td>\n",
       "      <td>0.250000</td>\n",
       "      <td>0.250000</td>\n",
       "    </tr>\n",
       "    <tr>\n",
       "      <th>1</th>\n",
       "      <td>C_ID_ef55cf8d4b</td>\n",
       "      <td>11</td>\n",
       "      <td>7.333333</td>\n",
       "      <td>4</td>\n",
       "      <td>7.0</td>\n",
       "      <td>3</td>\n",
       "      <td>0.500000</td>\n",
       "      <td>0.333333</td>\n",
       "      <td>0.181818</td>\n",
       "      <td>0.318182</td>\n",
       "    </tr>\n",
       "    <tr>\n",
       "      <th>2</th>\n",
       "      <td>C_ID_241a01e9d9</td>\n",
       "      <td>1</td>\n",
       "      <td>1.000000</td>\n",
       "      <td>1</td>\n",
       "      <td>1.0</td>\n",
       "      <td>2</td>\n",
       "      <td>0.500000</td>\n",
       "      <td>0.500000</td>\n",
       "      <td>0.500000</td>\n",
       "      <td>0.500000</td>\n",
       "    </tr>\n",
       "    <tr>\n",
       "      <th>3</th>\n",
       "      <td>C_ID_a97720321f</td>\n",
       "      <td>11</td>\n",
       "      <td>6.000000</td>\n",
       "      <td>1</td>\n",
       "      <td>6.0</td>\n",
       "      <td>2</td>\n",
       "      <td>0.916667</td>\n",
       "      <td>0.500000</td>\n",
       "      <td>0.083333</td>\n",
       "      <td>0.500000</td>\n",
       "    </tr>\n",
       "    <tr>\n",
       "      <th>4</th>\n",
       "      <td>C_ID_fb0875cd28</td>\n",
       "      <td>3</td>\n",
       "      <td>1.750000</td>\n",
       "      <td>1</td>\n",
       "      <td>1.5</td>\n",
       "      <td>4</td>\n",
       "      <td>0.428571</td>\n",
       "      <td>0.250000</td>\n",
       "      <td>0.142857</td>\n",
       "      <td>0.214286</td>\n",
       "    </tr>\n",
       "  </tbody>\n",
       "</table>\n",
       "</div>"
      ],
      "text/plain": [
       "           card_id  new_same_city_max  new_same_city_mean  new_same_city_min  \\\n",
       "0  C_ID_415bb3a509                  1            1.000000                  1   \n",
       "1  C_ID_ef55cf8d4b                 11            7.333333                  4   \n",
       "2  C_ID_241a01e9d9                  1            1.000000                  1   \n",
       "3  C_ID_a97720321f                 11            6.000000                  1   \n",
       "4  C_ID_fb0875cd28                  3            1.750000                  1   \n",
       "\n",
       "   new_same_city_median  new_num_city  new_city_max_rate  new_city_mean_rate  \\\n",
       "0                   1.0             4           0.250000            0.250000   \n",
       "1                   7.0             3           0.500000            0.333333   \n",
       "2                   1.0             2           0.500000            0.500000   \n",
       "3                   6.0             2           0.916667            0.500000   \n",
       "4                   1.5             4           0.428571            0.250000   \n",
       "\n",
       "   new_city_min_rate  new_city_median_rate  \n",
       "0           0.250000              0.250000  \n",
       "1           0.181818              0.318182  \n",
       "2           0.500000              0.500000  \n",
       "3           0.083333              0.500000  \n",
       "4           0.142857              0.214286  "
      ]
     },
     "execution_count": 231,
     "metadata": {},
     "output_type": "execute_result"
    }
   ],
   "source": [
    "city_feature.head()"
   ]
  },
  {
   "cell_type": "code",
   "execution_count": 232,
   "metadata": {
    "ExecuteTime": {
     "end_time": "2019-01-21T08:35:08.419786Z",
     "start_time": "2019-01-21T08:35:05.515553Z"
    }
   },
   "outputs": [],
   "source": [
    "city_feature.to_csv('data/new_city_feature.csv', index=None)"
   ]
  },
  {
   "cell_type": "markdown",
   "metadata": {},
   "source": [
    "## 同一merchant_category_id购买记录"
   ]
  },
  {
   "cell_type": "code",
   "execution_count": 233,
   "metadata": {
    "ExecuteTime": {
     "end_time": "2019-01-21T08:36:02.203948Z",
     "start_time": "2019-01-21T08:36:01.943644Z"
    }
   },
   "outputs": [],
   "source": [
    "category_feature = new[['card_id']]\n",
    "category_feature = category_feature.drop_duplicates().reset_index(drop=True)"
   ]
  },
  {
   "cell_type": "code",
   "execution_count": 234,
   "metadata": {
    "ExecuteTime": {
     "end_time": "2019-01-21T08:36:02.338587Z",
     "start_time": "2019-01-21T08:36:02.205943Z"
    }
   },
   "outputs": [],
   "source": [
    "t = new[['merchant_id', 'merchant_category_id', 'card_id']]\n",
    "t['same_category_count'] = 1"
   ]
  },
  {
   "cell_type": "code",
   "execution_count": 235,
   "metadata": {
    "ExecuteTime": {
     "end_time": "2019-01-21T08:36:04.894751Z",
     "start_time": "2019-01-21T08:36:03.620160Z"
    }
   },
   "outputs": [],
   "source": [
    "t1 = t[['card_id', 'merchant_category_id', 'same_category_count']].groupby(['card_id', 'merchant_category_id']).count()"
   ]
  },
  {
   "cell_type": "code",
   "execution_count": 236,
   "metadata": {
    "ExecuteTime": {
     "end_time": "2019-01-21T08:36:08.945917Z",
     "start_time": "2019-01-21T08:36:05.597871Z"
    }
   },
   "outputs": [],
   "source": [
    "t2 = t1.reset_index().groupby('card_id').max()[['same_category_count']].reset_index()\n",
    "t2 = t2.rename(columns={'same_category_count': 'new_same_category_max'})\n",
    "t3 = t1.reset_index().groupby('card_id').mean()[['same_category_count']].reset_index()\n",
    "t3 = t3.rename(columns={'same_category_count': 'new_same_category_mean'})\n",
    "t4 = t1.reset_index().groupby('card_id').min()[['same_category_count']].reset_index()\n",
    "t4 = t4.rename(columns={'same_category_count': 'new_same_category_min'})\n",
    "t5 = t1.reset_index().groupby('card_id').median()[['same_category_count']].reset_index()\n",
    "t5 = t5.rename(columns={'same_category_count': 'new_same_category_median'})"
   ]
  },
  {
   "cell_type": "code",
   "execution_count": 237,
   "metadata": {
    "ExecuteTime": {
     "end_time": "2019-01-21T08:36:10.412993Z",
     "start_time": "2019-01-21T08:36:09.578227Z"
    }
   },
   "outputs": [],
   "source": [
    "t1['new_num_category'] = 1\n",
    "t6 = t1.reset_index()[['card_id', 'new_num_category']].groupby('card_id').count().reset_index()"
   ]
  },
  {
   "cell_type": "code",
   "execution_count": 238,
   "metadata": {
    "ExecuteTime": {
     "end_time": "2019-01-21T08:36:11.854139Z",
     "start_time": "2019-01-21T08:36:11.060262Z"
    }
   },
   "outputs": [],
   "source": [
    "t['new_same_card_count'] = 1\n",
    "t7 = t[['card_id', 'new_same_card_count']].groupby('card_id').count().reset_index()"
   ]
  },
  {
   "cell_type": "code",
   "execution_count": 239,
   "metadata": {
    "ExecuteTime": {
     "end_time": "2019-01-21T08:36:13.885707Z",
     "start_time": "2019-01-21T08:36:12.490437Z"
    }
   },
   "outputs": [],
   "source": [
    "category_feature = pd.merge(category_feature, t2, on='card_id', how='left')\n",
    "category_feature = pd.merge(category_feature, t3, on='card_id', how='left')\n",
    "category_feature = pd.merge(category_feature, t4, on='card_id', how='left')\n",
    "category_feature = pd.merge(category_feature, t5, on='card_id', how='left')\n",
    "category_feature = pd.merge(category_feature, t6, on='card_id', how='left')\n",
    "category_feature = pd.merge(category_feature, t7, on='card_id', how='left')"
   ]
  },
  {
   "cell_type": "code",
   "execution_count": 240,
   "metadata": {
    "ExecuteTime": {
     "end_time": "2019-01-21T08:36:14.587828Z",
     "start_time": "2019-01-21T08:36:14.523999Z"
    }
   },
   "outputs": [],
   "source": [
    "category_feature['new_category_max_rate'] = category_feature['new_same_category_max']/category_feature['new_same_card_count']\n",
    "category_feature['new_category_mean_rate'] = category_feature['new_same_category_mean']/category_feature['new_same_card_count']\n",
    "category_feature['new_category_min_rate'] = category_feature['new_same_category_min']/category_feature['new_same_card_count']\n",
    "category_feature['new_category_median_rate'] = category_feature['new_same_category_median']/category_feature['new_same_card_count']\n",
    "category_feature = category_feature.drop('new_same_card_count', axis=1)"
   ]
  },
  {
   "cell_type": "code",
   "execution_count": 241,
   "metadata": {
    "ExecuteTime": {
     "end_time": "2019-01-21T08:36:17.885011Z",
     "start_time": "2019-01-21T08:36:15.293940Z"
    }
   },
   "outputs": [],
   "source": [
    "t['category_merchant_count'] = 1\n",
    "t1 = t[['card_id', 'merchant_category_id','merchant_id', 'category_merchant_count']].groupby(['card_id','merchant_category_id', 'merchant_id']).count()\n",
    "t1['category_merchant_count'] = 1"
   ]
  },
  {
   "cell_type": "code",
   "execution_count": 242,
   "metadata": {
    "ExecuteTime": {
     "end_time": "2019-01-21T08:36:22.192490Z",
     "start_time": "2019-01-21T08:36:18.668914Z"
    }
   },
   "outputs": [],
   "source": [
    "t2 = t1.reset_index().groupby(['card_id', 'merchant_category_id']).count()[['category_merchant_count']]\n",
    "\n",
    "t3 = t2.reset_index().groupby('card_id').max()[['category_merchant_count']].reset_index()\n",
    "t3 = t3.rename(columns={'category_merchant_count': 'new_category_merchant_max'})\n",
    "t4 = t2.reset_index().groupby('card_id').mean()[['category_merchant_count']].reset_index()\n",
    "t4 = t4.rename(columns={'category_merchant_count': 'new_category_merchant_mean'})"
   ]
  },
  {
   "cell_type": "code",
   "execution_count": 243,
   "metadata": {
    "ExecuteTime": {
     "end_time": "2019-01-21T08:36:23.843076Z",
     "start_time": "2019-01-21T08:36:22.923535Z"
    }
   },
   "outputs": [],
   "source": [
    "t5 = pd.DataFrame(t2['category_merchant_count'].apply(bigger_1).groupby('card_id').sum()).reset_index()\n",
    "t5 = t5.rename(columns={'category_merchant_count': 'new_same_category_num_merchant'})"
   ]
  },
  {
   "cell_type": "code",
   "execution_count": 244,
   "metadata": {
    "ExecuteTime": {
     "end_time": "2019-01-21T08:36:25.358025Z",
     "start_time": "2019-01-21T08:36:24.582101Z"
    }
   },
   "outputs": [],
   "source": [
    "category_feature = pd.merge(category_feature, t3, on='card_id', how='left')\n",
    "category_feature = pd.merge(category_feature, t4, on='card_id', how='left')\n",
    "category_feature = pd.merge(category_feature, t5, on='card_id', how='left')"
   ]
  },
  {
   "cell_type": "code",
   "execution_count": 245,
   "metadata": {
    "ExecuteTime": {
     "end_time": "2019-01-21T08:36:26.056159Z",
     "start_time": "2019-01-21T08:36:26.039203Z"
    },
    "scrolled": true
   },
   "outputs": [
    {
     "data": {
      "text/html": [
       "<div>\n",
       "<style scoped>\n",
       "    .dataframe tbody tr th:only-of-type {\n",
       "        vertical-align: middle;\n",
       "    }\n",
       "\n",
       "    .dataframe tbody tr th {\n",
       "        vertical-align: top;\n",
       "    }\n",
       "\n",
       "    .dataframe thead th {\n",
       "        text-align: right;\n",
       "    }\n",
       "</style>\n",
       "<table border=\"1\" class=\"dataframe\">\n",
       "  <thead>\n",
       "    <tr style=\"text-align: right;\">\n",
       "      <th></th>\n",
       "      <th>card_id</th>\n",
       "      <th>new_same_category_max</th>\n",
       "      <th>new_same_category_mean</th>\n",
       "      <th>new_same_category_min</th>\n",
       "      <th>new_same_category_median</th>\n",
       "      <th>new_num_category</th>\n",
       "      <th>new_category_max_rate</th>\n",
       "      <th>new_category_mean_rate</th>\n",
       "      <th>new_category_min_rate</th>\n",
       "      <th>new_category_median_rate</th>\n",
       "      <th>new_category_merchant_max</th>\n",
       "      <th>new_category_merchant_mean</th>\n",
       "      <th>new_same_category_num_merchant</th>\n",
       "    </tr>\n",
       "  </thead>\n",
       "  <tbody>\n",
       "    <tr>\n",
       "      <th>0</th>\n",
       "      <td>C_ID_415bb3a509</td>\n",
       "      <td>2</td>\n",
       "      <td>1.333333</td>\n",
       "      <td>1</td>\n",
       "      <td>1.0</td>\n",
       "      <td>3</td>\n",
       "      <td>0.500000</td>\n",
       "      <td>0.333333</td>\n",
       "      <td>0.250000</td>\n",
       "      <td>0.250000</td>\n",
       "      <td>2.0</td>\n",
       "      <td>1.333333</td>\n",
       "      <td>1.0</td>\n",
       "    </tr>\n",
       "    <tr>\n",
       "      <th>1</th>\n",
       "      <td>C_ID_ef55cf8d4b</td>\n",
       "      <td>3</td>\n",
       "      <td>1.222222</td>\n",
       "      <td>1</td>\n",
       "      <td>1.0</td>\n",
       "      <td>18</td>\n",
       "      <td>0.136364</td>\n",
       "      <td>0.055556</td>\n",
       "      <td>0.045455</td>\n",
       "      <td>0.045455</td>\n",
       "      <td>3.0</td>\n",
       "      <td>1.222222</td>\n",
       "      <td>3.0</td>\n",
       "    </tr>\n",
       "    <tr>\n",
       "      <th>2</th>\n",
       "      <td>C_ID_241a01e9d9</td>\n",
       "      <td>1</td>\n",
       "      <td>1.000000</td>\n",
       "      <td>1</td>\n",
       "      <td>1.0</td>\n",
       "      <td>2</td>\n",
       "      <td>0.500000</td>\n",
       "      <td>0.500000</td>\n",
       "      <td>0.500000</td>\n",
       "      <td>0.500000</td>\n",
       "      <td>1.0</td>\n",
       "      <td>1.000000</td>\n",
       "      <td>0.0</td>\n",
       "    </tr>\n",
       "    <tr>\n",
       "      <th>3</th>\n",
       "      <td>C_ID_a97720321f</td>\n",
       "      <td>2</td>\n",
       "      <td>1.090909</td>\n",
       "      <td>1</td>\n",
       "      <td>1.0</td>\n",
       "      <td>11</td>\n",
       "      <td>0.166667</td>\n",
       "      <td>0.090909</td>\n",
       "      <td>0.083333</td>\n",
       "      <td>0.083333</td>\n",
       "      <td>2.0</td>\n",
       "      <td>1.090909</td>\n",
       "      <td>1.0</td>\n",
       "    </tr>\n",
       "    <tr>\n",
       "      <th>4</th>\n",
       "      <td>C_ID_fb0875cd28</td>\n",
       "      <td>1</td>\n",
       "      <td>1.000000</td>\n",
       "      <td>1</td>\n",
       "      <td>1.0</td>\n",
       "      <td>7</td>\n",
       "      <td>0.142857</td>\n",
       "      <td>0.142857</td>\n",
       "      <td>0.142857</td>\n",
       "      <td>0.142857</td>\n",
       "      <td>1.0</td>\n",
       "      <td>1.000000</td>\n",
       "      <td>0.0</td>\n",
       "    </tr>\n",
       "  </tbody>\n",
       "</table>\n",
       "</div>"
      ],
      "text/plain": [
       "           card_id  new_same_category_max  new_same_category_mean  \\\n",
       "0  C_ID_415bb3a509                      2                1.333333   \n",
       "1  C_ID_ef55cf8d4b                      3                1.222222   \n",
       "2  C_ID_241a01e9d9                      1                1.000000   \n",
       "3  C_ID_a97720321f                      2                1.090909   \n",
       "4  C_ID_fb0875cd28                      1                1.000000   \n",
       "\n",
       "   new_same_category_min  new_same_category_median  new_num_category  \\\n",
       "0                      1                       1.0                 3   \n",
       "1                      1                       1.0                18   \n",
       "2                      1                       1.0                 2   \n",
       "3                      1                       1.0                11   \n",
       "4                      1                       1.0                 7   \n",
       "\n",
       "   new_category_max_rate  new_category_mean_rate  new_category_min_rate  \\\n",
       "0               0.500000                0.333333               0.250000   \n",
       "1               0.136364                0.055556               0.045455   \n",
       "2               0.500000                0.500000               0.500000   \n",
       "3               0.166667                0.090909               0.083333   \n",
       "4               0.142857                0.142857               0.142857   \n",
       "\n",
       "   new_category_median_rate  new_category_merchant_max  \\\n",
       "0                  0.250000                        2.0   \n",
       "1                  0.045455                        3.0   \n",
       "2                  0.500000                        1.0   \n",
       "3                  0.083333                        2.0   \n",
       "4                  0.142857                        1.0   \n",
       "\n",
       "   new_category_merchant_mean  new_same_category_num_merchant  \n",
       "0                    1.333333                             1.0  \n",
       "1                    1.222222                             3.0  \n",
       "2                    1.000000                             0.0  \n",
       "3                    1.090909                             1.0  \n",
       "4                    1.000000                             0.0  "
      ]
     },
     "execution_count": 245,
     "metadata": {},
     "output_type": "execute_result"
    }
   ],
   "source": [
    "category_feature.head()"
   ]
  },
  {
   "cell_type": "code",
   "execution_count": 246,
   "metadata": {
    "ExecuteTime": {
     "end_time": "2019-01-21T08:36:30.582053Z",
     "start_time": "2019-01-21T08:36:26.750302Z"
    }
   },
   "outputs": [],
   "source": [
    "category_feature.to_csv('data/new_category_feature.csv', index=None)"
   ]
  },
  {
   "cell_type": "markdown",
   "metadata": {},
   "source": [
    "## 同一subsector_id"
   ]
  },
  {
   "cell_type": "code",
   "execution_count": 247,
   "metadata": {
    "ExecuteTime": {
     "end_time": "2019-01-21T08:36:38.042103Z",
     "start_time": "2019-01-21T08:36:31.297142Z"
    }
   },
   "outputs": [],
   "source": [
    "subsector_feature = new[['card_id']]\n",
    "subsector_feature = subsector_feature.drop_duplicates().reset_index(drop=True)\n",
    "t = new[['merchant_id','subsector_id', 'card_id']]\n",
    "t['same_subsector_count'] = 1\n",
    "t1 = t[['card_id', 'subsector_id', 'same_subsector_count']].groupby(['card_id', 'subsector_id']).count()\n",
    "\n",
    "t2 = t1.reset_index().groupby('card_id').max()[['same_subsector_count']].reset_index()\n",
    "t2 = t2.rename(columns={'same_subsector_count': 'new_same_subsector_max'})\n",
    "t3 = t1.reset_index().groupby('card_id').mean()[['same_subsector_count']].reset_index()\n",
    "t3 = t3.rename(columns={'same_subsector_count': 'new_same_subsector_mean'})\n",
    "t4 = t1.reset_index().groupby('card_id').min()[['same_subsector_count']].reset_index()\n",
    "t4 = t4.rename(columns={'same_subsector_count': 'new_same_subsector_min'})\n",
    "t5 = t1.reset_index().groupby('card_id').median()[['same_subsector_count']].reset_index()\n",
    "t5 = t5.rename(columns={'same_subsector_count': 'new_same_subsector_median'})\n",
    "\n",
    "t1['new_num_subsector'] = 1\n",
    "t6 = t1.reset_index()[['card_id', 'new_num_subsector']].groupby('card_id').count().reset_index()\n",
    "t['new_same_card_count'] = 1\n",
    "t7 = t[['card_id', 'new_same_card_count']].groupby('card_id').count().reset_index()"
   ]
  },
  {
   "cell_type": "code",
   "execution_count": 248,
   "metadata": {
    "ExecuteTime": {
     "end_time": "2019-01-21T08:36:40.317020Z",
     "start_time": "2019-01-21T08:36:38.768162Z"
    }
   },
   "outputs": [],
   "source": [
    "subsector_feature = pd.merge(subsector_feature, t2, on='card_id', how='left')\n",
    "subsector_feature = pd.merge(subsector_feature, t3, on='card_id', how='left')\n",
    "subsector_feature = pd.merge(subsector_feature, t4, on='card_id', how='left')\n",
    "subsector_feature = pd.merge(subsector_feature, t5, on='card_id', how='left')\n",
    "subsector_feature = pd.merge(subsector_feature, t6, on='card_id', how='left')\n",
    "subsector_feature = pd.merge(subsector_feature, t7, on='card_id', how='left')"
   ]
  },
  {
   "cell_type": "code",
   "execution_count": 249,
   "metadata": {
    "ExecuteTime": {
     "end_time": "2019-01-21T08:36:41.150789Z",
     "start_time": "2019-01-21T08:36:41.084965Z"
    }
   },
   "outputs": [],
   "source": [
    "subsector_feature['new_subsector_max_rate'] = subsector_feature['new_same_subsector_max']/subsector_feature['new_same_card_count']\n",
    "subsector_feature['new_subsector_mean_rate'] = subsector_feature['new_same_subsector_mean']/subsector_feature['new_same_card_count']\n",
    "subsector_feature['new_subsector_min_rate'] = subsector_feature['new_same_subsector_min']/subsector_feature['new_same_card_count']\n",
    "subsector_feature['new_subsector_median_rate'] = subsector_feature['new_same_subsector_median']/subsector_feature['new_same_card_count']\n",
    "subsector_feature = subsector_feature.drop('new_same_card_count', axis=1)"
   ]
  },
  {
   "cell_type": "code",
   "execution_count": 250,
   "metadata": {
    "ExecuteTime": {
     "end_time": "2019-01-21T08:36:44.591587Z",
     "start_time": "2019-01-21T08:36:41.873856Z"
    }
   },
   "outputs": [],
   "source": [
    "t['subsector_merchant_count'] = 1\n",
    "t1 = t[['card_id', 'subsector_id','merchant_id', 'subsector_merchant_count']].groupby(['card_id','subsector_id', 'merchant_id']).count()\n",
    "t1['subsector_merchant_count'] = 1"
   ]
  },
  {
   "cell_type": "code",
   "execution_count": 251,
   "metadata": {
    "ExecuteTime": {
     "end_time": "2019-01-21T08:36:49.651056Z",
     "start_time": "2019-01-21T08:36:45.404413Z"
    }
   },
   "outputs": [],
   "source": [
    "t2 = t1.reset_index().groupby(['card_id', 'subsector_id']).count()[['subsector_merchant_count']]\n",
    "\n",
    "t3 = t2.reset_index().groupby('card_id').max()[['subsector_merchant_count']].reset_index()\n",
    "t3 = t3.rename(columns={'subsector_merchant_count': 'new_subsector_merchant_max'})\n",
    "t4 = t2.reset_index().groupby('card_id').mean()[['subsector_merchant_count']].reset_index()\n",
    "t4 = t4.rename(columns={'subsector_merchant_count': 'new_subsector_merchant_mean'})\n",
    "t5 = pd.DataFrame(t2['subsector_merchant_count'].apply(bigger_1).groupby('card_id').sum()).reset_index()\n",
    "t5 = t5.rename(columns={'subsector_merchant_count': 'new_same_subsector_num_merchant'})"
   ]
  },
  {
   "cell_type": "code",
   "execution_count": 252,
   "metadata": {
    "ExecuteTime": {
     "end_time": "2019-01-21T08:36:51.214875Z",
     "start_time": "2019-01-21T08:36:50.379110Z"
    }
   },
   "outputs": [],
   "source": [
    "subsector_feature = pd.merge(subsector_feature, t3, on='card_id', how='left')\n",
    "subsector_feature = pd.merge(subsector_feature, t4, on='card_id', how='left')\n",
    "subsector_feature = pd.merge(subsector_feature, t5, on='card_id', how='left')"
   ]
  },
  {
   "cell_type": "code",
   "execution_count": 253,
   "metadata": {
    "ExecuteTime": {
     "end_time": "2019-01-21T08:36:52.004762Z",
     "start_time": "2019-01-21T08:36:51.988804Z"
    }
   },
   "outputs": [
    {
     "data": {
      "text/html": [
       "<div>\n",
       "<style scoped>\n",
       "    .dataframe tbody tr th:only-of-type {\n",
       "        vertical-align: middle;\n",
       "    }\n",
       "\n",
       "    .dataframe tbody tr th {\n",
       "        vertical-align: top;\n",
       "    }\n",
       "\n",
       "    .dataframe thead th {\n",
       "        text-align: right;\n",
       "    }\n",
       "</style>\n",
       "<table border=\"1\" class=\"dataframe\">\n",
       "  <thead>\n",
       "    <tr style=\"text-align: right;\">\n",
       "      <th></th>\n",
       "      <th>card_id</th>\n",
       "      <th>new_same_subsector_max</th>\n",
       "      <th>new_same_subsector_mean</th>\n",
       "      <th>new_same_subsector_min</th>\n",
       "      <th>new_same_subsector_median</th>\n",
       "      <th>new_num_subsector</th>\n",
       "      <th>new_subsector_max_rate</th>\n",
       "      <th>new_subsector_mean_rate</th>\n",
       "      <th>new_subsector_min_rate</th>\n",
       "      <th>new_subsector_median_rate</th>\n",
       "      <th>new_subsector_merchant_max</th>\n",
       "      <th>new_subsector_merchant_mean</th>\n",
       "      <th>new_same_subsector_num_merchant</th>\n",
       "    </tr>\n",
       "  </thead>\n",
       "  <tbody>\n",
       "    <tr>\n",
       "      <th>0</th>\n",
       "      <td>C_ID_415bb3a509</td>\n",
       "      <td>2</td>\n",
       "      <td>1.333333</td>\n",
       "      <td>1</td>\n",
       "      <td>1.0</td>\n",
       "      <td>3</td>\n",
       "      <td>0.500000</td>\n",
       "      <td>0.333333</td>\n",
       "      <td>0.250000</td>\n",
       "      <td>0.250000</td>\n",
       "      <td>2.0</td>\n",
       "      <td>1.333333</td>\n",
       "      <td>1.0</td>\n",
       "    </tr>\n",
       "    <tr>\n",
       "      <th>1</th>\n",
       "      <td>C_ID_ef55cf8d4b</td>\n",
       "      <td>4</td>\n",
       "      <td>1.833333</td>\n",
       "      <td>1</td>\n",
       "      <td>1.5</td>\n",
       "      <td>12</td>\n",
       "      <td>0.181818</td>\n",
       "      <td>0.083333</td>\n",
       "      <td>0.045455</td>\n",
       "      <td>0.068182</td>\n",
       "      <td>4.0</td>\n",
       "      <td>1.833333</td>\n",
       "      <td>6.0</td>\n",
       "    </tr>\n",
       "    <tr>\n",
       "      <th>2</th>\n",
       "      <td>C_ID_241a01e9d9</td>\n",
       "      <td>1</td>\n",
       "      <td>1.000000</td>\n",
       "      <td>1</td>\n",
       "      <td>1.0</td>\n",
       "      <td>2</td>\n",
       "      <td>0.500000</td>\n",
       "      <td>0.500000</td>\n",
       "      <td>0.500000</td>\n",
       "      <td>0.500000</td>\n",
       "      <td>1.0</td>\n",
       "      <td>1.000000</td>\n",
       "      <td>0.0</td>\n",
       "    </tr>\n",
       "    <tr>\n",
       "      <th>3</th>\n",
       "      <td>C_ID_a97720321f</td>\n",
       "      <td>2</td>\n",
       "      <td>1.333333</td>\n",
       "      <td>1</td>\n",
       "      <td>1.0</td>\n",
       "      <td>9</td>\n",
       "      <td>0.166667</td>\n",
       "      <td>0.111111</td>\n",
       "      <td>0.083333</td>\n",
       "      <td>0.083333</td>\n",
       "      <td>2.0</td>\n",
       "      <td>1.333333</td>\n",
       "      <td>3.0</td>\n",
       "    </tr>\n",
       "    <tr>\n",
       "      <th>4</th>\n",
       "      <td>C_ID_fb0875cd28</td>\n",
       "      <td>3</td>\n",
       "      <td>1.400000</td>\n",
       "      <td>1</td>\n",
       "      <td>1.0</td>\n",
       "      <td>5</td>\n",
       "      <td>0.428571</td>\n",
       "      <td>0.200000</td>\n",
       "      <td>0.142857</td>\n",
       "      <td>0.142857</td>\n",
       "      <td>3.0</td>\n",
       "      <td>1.400000</td>\n",
       "      <td>1.0</td>\n",
       "    </tr>\n",
       "  </tbody>\n",
       "</table>\n",
       "</div>"
      ],
      "text/plain": [
       "           card_id  new_same_subsector_max  new_same_subsector_mean  \\\n",
       "0  C_ID_415bb3a509                       2                 1.333333   \n",
       "1  C_ID_ef55cf8d4b                       4                 1.833333   \n",
       "2  C_ID_241a01e9d9                       1                 1.000000   \n",
       "3  C_ID_a97720321f                       2                 1.333333   \n",
       "4  C_ID_fb0875cd28                       3                 1.400000   \n",
       "\n",
       "   new_same_subsector_min  new_same_subsector_median  new_num_subsector  \\\n",
       "0                       1                        1.0                  3   \n",
       "1                       1                        1.5                 12   \n",
       "2                       1                        1.0                  2   \n",
       "3                       1                        1.0                  9   \n",
       "4                       1                        1.0                  5   \n",
       "\n",
       "   new_subsector_max_rate  new_subsector_mean_rate  new_subsector_min_rate  \\\n",
       "0                0.500000                 0.333333                0.250000   \n",
       "1                0.181818                 0.083333                0.045455   \n",
       "2                0.500000                 0.500000                0.500000   \n",
       "3                0.166667                 0.111111                0.083333   \n",
       "4                0.428571                 0.200000                0.142857   \n",
       "\n",
       "   new_subsector_median_rate  new_subsector_merchant_max  \\\n",
       "0                   0.250000                         2.0   \n",
       "1                   0.068182                         4.0   \n",
       "2                   0.500000                         1.0   \n",
       "3                   0.083333                         2.0   \n",
       "4                   0.142857                         3.0   \n",
       "\n",
       "   new_subsector_merchant_mean  new_same_subsector_num_merchant  \n",
       "0                     1.333333                              1.0  \n",
       "1                     1.833333                              6.0  \n",
       "2                     1.000000                              0.0  \n",
       "3                     1.333333                              3.0  \n",
       "4                     1.400000                              1.0  "
      ]
     },
     "execution_count": 253,
     "metadata": {},
     "output_type": "execute_result"
    }
   ],
   "source": [
    "subsector_feature.head()"
   ]
  },
  {
   "cell_type": "code",
   "execution_count": 254,
   "metadata": {
    "ExecuteTime": {
     "end_time": "2019-01-21T08:36:56.656322Z",
     "start_time": "2019-01-21T08:36:52.724836Z"
    }
   },
   "outputs": [],
   "source": [
    "subsector_feature.to_csv('data/new_subsector_feature.csv', index=None)"
   ]
  },
  {
   "cell_type": "markdown",
   "metadata": {},
   "source": [
    "## 同一state_id购买记录"
   ]
  },
  {
   "cell_type": "code",
   "execution_count": 255,
   "metadata": {
    "ExecuteTime": {
     "end_time": "2019-01-21T08:37:04.385651Z",
     "start_time": "2019-01-21T08:36:57.375398Z"
    }
   },
   "outputs": [],
   "source": [
    "state_feature = new[['card_id']]\n",
    "state_feature = state_feature.drop_duplicates().reset_index(drop=True)\n",
    "t = new[['merchant_id','state_id', 'card_id']]\n",
    "t['same_state_count'] = 1\n",
    "t1 = t[['card_id', 'state_id', 'same_state_count']].groupby(['card_id', 'state_id']).count()\n",
    "\n",
    "t2 = t1.reset_index().groupby('card_id').max()[['same_state_count']].reset_index()\n",
    "t2 = t2.rename(columns={'same_state_count': 'new_same_state_max'})\n",
    "t3 = t1.reset_index().groupby('card_id').mean()[['same_state_count']].reset_index()\n",
    "t3 = t3.rename(columns={'same_state_count': 'new_same_state_mean'})\n",
    "t4 = t1.reset_index().groupby('card_id').min()[['same_state_count']].reset_index()\n",
    "t4 = t4.rename(columns={'same_state_count': 'new_same_state_min'})\n",
    "t5 = t1.reset_index().groupby('card_id').median()[['same_state_count']].reset_index()\n",
    "t5 = t5.rename(columns={'same_state_count': 'new_same_state_median'})\n",
    "\n",
    "t1['new_num_state'] = 1\n",
    "t6 = t1.reset_index()[['card_id', 'new_num_state']].groupby('card_id').count().reset_index()\n",
    "t['same_card_count'] = 1\n",
    "t7 = t[['card_id', 'same_card_count']].groupby('card_id').count().reset_index()\n",
    "\n",
    "state_feature = pd.merge(state_feature, t2, on='card_id', how='left')\n",
    "state_feature = pd.merge(state_feature, t3, on='card_id', how='left')\n",
    "state_feature = pd.merge(state_feature, t4, on='card_id', how='left')\n",
    "state_feature = pd.merge(state_feature, t5, on='card_id', how='left')\n",
    "state_feature = pd.merge(state_feature, t6, on='card_id', how='left')\n",
    "state_feature = pd.merge(state_feature, t7, on='card_id', how='left')\n",
    "\n",
    "state_feature['new_state_max_rate'] = state_feature['new_same_state_max']/state_feature['same_card_count']\n",
    "state_feature['new_state_mean_rate'] = state_feature['new_same_state_mean']/state_feature['same_card_count']\n",
    "state_feature['new_state_min_rate'] = state_feature['new_same_state_min']/state_feature['same_card_count']\n",
    "state_feature['new_state_median_rate'] = state_feature['new_same_state_median']/state_feature['same_card_count']\n",
    "state_feature = state_feature.drop('same_card_count', axis=1)"
   ]
  },
  {
   "cell_type": "code",
   "execution_count": 256,
   "metadata": {
    "ExecuteTime": {
     "end_time": "2019-01-21T08:37:11.975353Z",
     "start_time": "2019-01-21T08:37:05.119688Z"
    }
   },
   "outputs": [],
   "source": [
    "t['state_merchant_count'] = 1\n",
    "t1 = t[['card_id', 'state_id','merchant_id', 'state_merchant_count']].groupby(['card_id','state_id', 'merchant_id']).count()\n",
    "t1['state_merchant_count'] = 1\n",
    "\n",
    "t2 = t1.reset_index().groupby(['card_id', 'state_id']).count()[['state_merchant_count']]\n",
    "\n",
    "t3 = t2.reset_index().groupby('card_id').max()[['state_merchant_count']].reset_index()\n",
    "t3 = t3.rename(columns={'state_merchant_count': 'new_state_merchant_max'})\n",
    "t4 = t2.reset_index().groupby('card_id').mean()[['state_merchant_count']].reset_index()\n",
    "t4 = t4.rename(columns={'state_merchant_count': 'new_state_merchant_mean'})\n",
    "t5 = pd.DataFrame(t2['state_merchant_count'].apply(bigger_1).groupby('card_id').sum()).reset_index()\n",
    "t5 = t5.rename(columns={'state_merchant_count': 'new_same_state_num_merchant'})\n",
    "\n",
    "state_feature = pd.merge(state_feature, t3, on='card_id', how='left')\n",
    "state_feature = pd.merge(state_feature, t4, on='card_id', how='left')\n",
    "state_feature = pd.merge(state_feature, t5, on='card_id', how='left')"
   ]
  },
  {
   "cell_type": "code",
   "execution_count": 257,
   "metadata": {
    "ExecuteTime": {
     "end_time": "2019-01-21T08:37:12.893897Z",
     "start_time": "2019-01-21T08:37:12.878936Z"
    }
   },
   "outputs": [
    {
     "data": {
      "text/html": [
       "<div>\n",
       "<style scoped>\n",
       "    .dataframe tbody tr th:only-of-type {\n",
       "        vertical-align: middle;\n",
       "    }\n",
       "\n",
       "    .dataframe tbody tr th {\n",
       "        vertical-align: top;\n",
       "    }\n",
       "\n",
       "    .dataframe thead th {\n",
       "        text-align: right;\n",
       "    }\n",
       "</style>\n",
       "<table border=\"1\" class=\"dataframe\">\n",
       "  <thead>\n",
       "    <tr style=\"text-align: right;\">\n",
       "      <th></th>\n",
       "      <th>card_id</th>\n",
       "      <th>new_same_state_max</th>\n",
       "      <th>new_same_state_mean</th>\n",
       "      <th>new_same_state_min</th>\n",
       "      <th>new_same_state_median</th>\n",
       "      <th>new_num_state</th>\n",
       "      <th>new_state_max_rate</th>\n",
       "      <th>new_state_mean_rate</th>\n",
       "      <th>new_state_min_rate</th>\n",
       "      <th>new_state_median_rate</th>\n",
       "      <th>new_state_merchant_max</th>\n",
       "      <th>new_state_merchant_mean</th>\n",
       "      <th>new_same_state_num_merchant</th>\n",
       "    </tr>\n",
       "  </thead>\n",
       "  <tbody>\n",
       "    <tr>\n",
       "      <th>0</th>\n",
       "      <td>C_ID_415bb3a509</td>\n",
       "      <td>3</td>\n",
       "      <td>2.0</td>\n",
       "      <td>1</td>\n",
       "      <td>2.0</td>\n",
       "      <td>2</td>\n",
       "      <td>0.750000</td>\n",
       "      <td>0.5</td>\n",
       "      <td>0.250000</td>\n",
       "      <td>0.5</td>\n",
       "      <td>3.0</td>\n",
       "      <td>2.0</td>\n",
       "      <td>1.0</td>\n",
       "    </tr>\n",
       "    <tr>\n",
       "      <th>1</th>\n",
       "      <td>C_ID_ef55cf8d4b</td>\n",
       "      <td>18</td>\n",
       "      <td>11.0</td>\n",
       "      <td>4</td>\n",
       "      <td>11.0</td>\n",
       "      <td>2</td>\n",
       "      <td>0.818182</td>\n",
       "      <td>0.5</td>\n",
       "      <td>0.181818</td>\n",
       "      <td>0.5</td>\n",
       "      <td>18.0</td>\n",
       "      <td>11.0</td>\n",
       "      <td>2.0</td>\n",
       "    </tr>\n",
       "    <tr>\n",
       "      <th>2</th>\n",
       "      <td>C_ID_241a01e9d9</td>\n",
       "      <td>2</td>\n",
       "      <td>2.0</td>\n",
       "      <td>2</td>\n",
       "      <td>2.0</td>\n",
       "      <td>1</td>\n",
       "      <td>1.000000</td>\n",
       "      <td>1.0</td>\n",
       "      <td>1.000000</td>\n",
       "      <td>1.0</td>\n",
       "      <td>2.0</td>\n",
       "      <td>2.0</td>\n",
       "      <td>1.0</td>\n",
       "    </tr>\n",
       "    <tr>\n",
       "      <th>3</th>\n",
       "      <td>C_ID_a97720321f</td>\n",
       "      <td>11</td>\n",
       "      <td>6.0</td>\n",
       "      <td>1</td>\n",
       "      <td>6.0</td>\n",
       "      <td>2</td>\n",
       "      <td>0.916667</td>\n",
       "      <td>0.5</td>\n",
       "      <td>0.083333</td>\n",
       "      <td>0.5</td>\n",
       "      <td>11.0</td>\n",
       "      <td>6.0</td>\n",
       "      <td>1.0</td>\n",
       "    </tr>\n",
       "    <tr>\n",
       "      <th>4</th>\n",
       "      <td>C_ID_fb0875cd28</td>\n",
       "      <td>7</td>\n",
       "      <td>7.0</td>\n",
       "      <td>7</td>\n",
       "      <td>7.0</td>\n",
       "      <td>1</td>\n",
       "      <td>1.000000</td>\n",
       "      <td>1.0</td>\n",
       "      <td>1.000000</td>\n",
       "      <td>1.0</td>\n",
       "      <td>7.0</td>\n",
       "      <td>7.0</td>\n",
       "      <td>1.0</td>\n",
       "    </tr>\n",
       "  </tbody>\n",
       "</table>\n",
       "</div>"
      ],
      "text/plain": [
       "           card_id  new_same_state_max  new_same_state_mean  \\\n",
       "0  C_ID_415bb3a509                   3                  2.0   \n",
       "1  C_ID_ef55cf8d4b                  18                 11.0   \n",
       "2  C_ID_241a01e9d9                   2                  2.0   \n",
       "3  C_ID_a97720321f                  11                  6.0   \n",
       "4  C_ID_fb0875cd28                   7                  7.0   \n",
       "\n",
       "   new_same_state_min  new_same_state_median  new_num_state  \\\n",
       "0                   1                    2.0              2   \n",
       "1                   4                   11.0              2   \n",
       "2                   2                    2.0              1   \n",
       "3                   1                    6.0              2   \n",
       "4                   7                    7.0              1   \n",
       "\n",
       "   new_state_max_rate  new_state_mean_rate  new_state_min_rate  \\\n",
       "0            0.750000                  0.5            0.250000   \n",
       "1            0.818182                  0.5            0.181818   \n",
       "2            1.000000                  1.0            1.000000   \n",
       "3            0.916667                  0.5            0.083333   \n",
       "4            1.000000                  1.0            1.000000   \n",
       "\n",
       "   new_state_median_rate  new_state_merchant_max  new_state_merchant_mean  \\\n",
       "0                    0.5                     3.0                      2.0   \n",
       "1                    0.5                    18.0                     11.0   \n",
       "2                    1.0                     2.0                      2.0   \n",
       "3                    0.5                    11.0                      6.0   \n",
       "4                    1.0                     7.0                      7.0   \n",
       "\n",
       "   new_same_state_num_merchant  \n",
       "0                          1.0  \n",
       "1                          2.0  \n",
       "2                          1.0  \n",
       "3                          1.0  \n",
       "4                          1.0  "
      ]
     },
     "execution_count": 257,
     "metadata": {},
     "output_type": "execute_result"
    }
   ],
   "source": [
    "state_feature.head()"
   ]
  },
  {
   "cell_type": "code",
   "execution_count": 258,
   "metadata": {
    "ExecuteTime": {
     "end_time": "2019-01-21T08:37:17.068732Z",
     "start_time": "2019-01-21T08:37:13.636910Z"
    }
   },
   "outputs": [],
   "source": [
    "state_feature.to_csv('data/new_state_feature.csv', index=None)"
   ]
  },
  {
   "cell_type": "markdown",
   "metadata": {},
   "source": [
    "## Purchase_day特征"
   ]
  },
  {
   "cell_type": "markdown",
   "metadata": {},
   "source": [
    "此处的purchase_day是一个相对的时间，在与train文件结合的时候要换算成train的相对时间"
   ]
  },
  {
   "cell_type": "code",
   "execution_count": 259,
   "metadata": {
    "ExecuteTime": {
     "end_time": "2019-01-21T08:38:25.744067Z",
     "start_time": "2019-01-21T08:38:24.249066Z"
    }
   },
   "outputs": [],
   "source": [
    "t = new[['card_id', 'purchase_day', 'merchant_id']]\n",
    "t1 = t[['card_id', 'purchase_day']].groupby(['card_id']).max()\n",
    "t1 = t1.rename(columns={'purchase_day': 'new_purchase_day_max'})\n",
    "t2 = t[['card_id', 'purchase_day']].groupby(['card_id']).min()\n",
    "t2 = t2.rename(columns={'purchase_day': 'new_purchase_day_min'})"
   ]
  },
  {
   "cell_type": "code",
   "execution_count": 260,
   "metadata": {
    "ExecuteTime": {
     "end_time": "2019-01-21T08:38:26.469129Z",
     "start_time": "2019-01-21T08:38:26.442202Z"
    }
   },
   "outputs": [],
   "source": [
    "t3 = pd.DataFrame(t1['new_purchase_day_max'] - t2['new_purchase_day_min'], columns=['new_purchase_day_diff'])"
   ]
  },
  {
   "cell_type": "code",
   "execution_count": 261,
   "metadata": {
    "ExecuteTime": {
     "end_time": "2019-01-21T08:38:27.145321Z",
     "start_time": "2019-01-21T08:38:27.141331Z"
    }
   },
   "outputs": [],
   "source": [
    "def bigger_0(x):\n",
    "    if x > 0:\n",
    "        return 1\n",
    "    else:\n",
    "        return 0"
   ]
  },
  {
   "cell_type": "code",
   "execution_count": 262,
   "metadata": {
    "ExecuteTime": {
     "end_time": "2019-01-21T08:38:29.238722Z",
     "start_time": "2019-01-21T08:38:28.369048Z"
    }
   },
   "outputs": [],
   "source": [
    "day_feature = new[['card_id']]\n",
    "day_feature = day_feature.drop_duplicates().reset_index(drop=True)\n",
    "day_feature = pd.merge(day_feature, t1, on='card_id', how='left')\n",
    "day_feature = pd.merge(day_feature, t2, on='card_id', how='left')\n",
    "day_feature = pd.merge(day_feature, t3, on='card_id', how='left')"
   ]
  },
  {
   "cell_type": "code",
   "execution_count": 263,
   "metadata": {
    "ExecuteTime": {
     "end_time": "2019-01-21T08:38:29.924888Z",
     "start_time": "2019-01-21T08:38:29.915912Z"
    }
   },
   "outputs": [
    {
     "data": {
      "text/html": [
       "<div>\n",
       "<style scoped>\n",
       "    .dataframe tbody tr th:only-of-type {\n",
       "        vertical-align: middle;\n",
       "    }\n",
       "\n",
       "    .dataframe tbody tr th {\n",
       "        vertical-align: top;\n",
       "    }\n",
       "\n",
       "    .dataframe thead th {\n",
       "        text-align: right;\n",
       "    }\n",
       "</style>\n",
       "<table border=\"1\" class=\"dataframe\">\n",
       "  <thead>\n",
       "    <tr style=\"text-align: right;\">\n",
       "      <th></th>\n",
       "      <th>card_id</th>\n",
       "      <th>new_purchase_day_max</th>\n",
       "      <th>new_purchase_day_min</th>\n",
       "      <th>new_purchase_day_diff</th>\n",
       "    </tr>\n",
       "  </thead>\n",
       "  <tbody>\n",
       "    <tr>\n",
       "      <th>0</th>\n",
       "      <td>C_ID_415bb3a509</td>\n",
       "      <td>2336</td>\n",
       "      <td>2287</td>\n",
       "      <td>49</td>\n",
       "    </tr>\n",
       "    <tr>\n",
       "      <th>1</th>\n",
       "      <td>C_ID_ef55cf8d4b</td>\n",
       "      <td>2332</td>\n",
       "      <td>2281</td>\n",
       "      <td>51</td>\n",
       "    </tr>\n",
       "    <tr>\n",
       "      <th>2</th>\n",
       "      <td>C_ID_241a01e9d9</td>\n",
       "      <td>2332</td>\n",
       "      <td>2332</td>\n",
       "      <td>0</td>\n",
       "    </tr>\n",
       "    <tr>\n",
       "      <th>3</th>\n",
       "      <td>C_ID_a97720321f</td>\n",
       "      <td>2323</td>\n",
       "      <td>2281</td>\n",
       "      <td>42</td>\n",
       "    </tr>\n",
       "    <tr>\n",
       "      <th>4</th>\n",
       "      <td>C_ID_fb0875cd28</td>\n",
       "      <td>2329</td>\n",
       "      <td>2285</td>\n",
       "      <td>44</td>\n",
       "    </tr>\n",
       "  </tbody>\n",
       "</table>\n",
       "</div>"
      ],
      "text/plain": [
       "           card_id  new_purchase_day_max  new_purchase_day_min  \\\n",
       "0  C_ID_415bb3a509                  2336                  2287   \n",
       "1  C_ID_ef55cf8d4b                  2332                  2281   \n",
       "2  C_ID_241a01e9d9                  2332                  2332   \n",
       "3  C_ID_a97720321f                  2323                  2281   \n",
       "4  C_ID_fb0875cd28                  2329                  2285   \n",
       "\n",
       "   new_purchase_day_diff  \n",
       "0                     49  \n",
       "1                     51  \n",
       "2                      0  \n",
       "3                     42  \n",
       "4                     44  "
      ]
     },
     "execution_count": 263,
     "metadata": {},
     "output_type": "execute_result"
    }
   ],
   "source": [
    "day_feature.head()"
   ]
  },
  {
   "cell_type": "code",
   "execution_count": 264,
   "metadata": {
    "ExecuteTime": {
     "end_time": "2019-01-21T08:38:31.869687Z",
     "start_time": "2019-01-21T08:38:30.591106Z"
    }
   },
   "outputs": [],
   "source": [
    "day_feature.to_csv('data/new_day_feature.csv', index=None)"
   ]
  },
  {
   "cell_type": "markdown",
   "metadata": {},
   "source": [
    "## purchase_month 特征"
   ]
  },
  {
   "cell_type": "code",
   "execution_count": 265,
   "metadata": {
    "ExecuteTime": {
     "end_time": "2019-01-21T08:38:35.532890Z",
     "start_time": "2019-01-21T08:38:33.783568Z"
    }
   },
   "outputs": [],
   "source": [
    "t = new[['card_id', 'purchase_day', 'merchant_id']]\n",
    "t['purchase_month'] = t['purchase_day']//30\n",
    "t1 = t[['card_id', 'purchase_month']].groupby(['card_id']).max()\n",
    "t1 = t1.rename(columns={'purchase_month': 'new_purchase_month_max'})\n",
    "t2 = t[['card_id', 'purchase_month']].groupby(['card_id']).min()\n",
    "t2 = t2.rename(columns={'purchase_month': 'new_purchase_month_min'})\n",
    "t3 = pd.DataFrame(t1['new_purchase_month_max'] - t2['new_purchase_month_min'], columns=['new_purchase_month_diff'])"
   ]
  },
  {
   "cell_type": "code",
   "execution_count": 266,
   "metadata": {
    "ExecuteTime": {
     "end_time": "2019-01-21T08:38:37.365987Z",
     "start_time": "2019-01-21T08:38:36.459412Z"
    }
   },
   "outputs": [],
   "source": [
    "month_feature = new[['card_id']]\n",
    "month_feature = month_feature.drop_duplicates().reset_index(drop=True)\n",
    "month_feature = pd.merge(month_feature, t1, on='card_id', how='left')\n",
    "month_feature = pd.merge(month_feature, t2, on='card_id', how='left')\n",
    "month_feature = pd.merge(month_feature, t3, on='card_id', how='left')"
   ]
  },
  {
   "cell_type": "code",
   "execution_count": 267,
   "metadata": {
    "ExecuteTime": {
     "end_time": "2019-01-21T08:38:38.085064Z",
     "start_time": "2019-01-21T08:38:38.076088Z"
    }
   },
   "outputs": [
    {
     "data": {
      "text/html": [
       "<div>\n",
       "<style scoped>\n",
       "    .dataframe tbody tr th:only-of-type {\n",
       "        vertical-align: middle;\n",
       "    }\n",
       "\n",
       "    .dataframe tbody tr th {\n",
       "        vertical-align: top;\n",
       "    }\n",
       "\n",
       "    .dataframe thead th {\n",
       "        text-align: right;\n",
       "    }\n",
       "</style>\n",
       "<table border=\"1\" class=\"dataframe\">\n",
       "  <thead>\n",
       "    <tr style=\"text-align: right;\">\n",
       "      <th></th>\n",
       "      <th>card_id</th>\n",
       "      <th>new_purchase_month_max</th>\n",
       "      <th>new_purchase_month_min</th>\n",
       "      <th>new_purchase_month_diff</th>\n",
       "    </tr>\n",
       "  </thead>\n",
       "  <tbody>\n",
       "    <tr>\n",
       "      <th>0</th>\n",
       "      <td>C_ID_415bb3a509</td>\n",
       "      <td>77</td>\n",
       "      <td>76</td>\n",
       "      <td>1</td>\n",
       "    </tr>\n",
       "    <tr>\n",
       "      <th>1</th>\n",
       "      <td>C_ID_ef55cf8d4b</td>\n",
       "      <td>77</td>\n",
       "      <td>76</td>\n",
       "      <td>1</td>\n",
       "    </tr>\n",
       "    <tr>\n",
       "      <th>2</th>\n",
       "      <td>C_ID_241a01e9d9</td>\n",
       "      <td>77</td>\n",
       "      <td>77</td>\n",
       "      <td>0</td>\n",
       "    </tr>\n",
       "    <tr>\n",
       "      <th>3</th>\n",
       "      <td>C_ID_a97720321f</td>\n",
       "      <td>77</td>\n",
       "      <td>76</td>\n",
       "      <td>1</td>\n",
       "    </tr>\n",
       "    <tr>\n",
       "      <th>4</th>\n",
       "      <td>C_ID_fb0875cd28</td>\n",
       "      <td>77</td>\n",
       "      <td>76</td>\n",
       "      <td>1</td>\n",
       "    </tr>\n",
       "  </tbody>\n",
       "</table>\n",
       "</div>"
      ],
      "text/plain": [
       "           card_id  new_purchase_month_max  new_purchase_month_min  \\\n",
       "0  C_ID_415bb3a509                      77                      76   \n",
       "1  C_ID_ef55cf8d4b                      77                      76   \n",
       "2  C_ID_241a01e9d9                      77                      77   \n",
       "3  C_ID_a97720321f                      77                      76   \n",
       "4  C_ID_fb0875cd28                      77                      76   \n",
       "\n",
       "   new_purchase_month_diff  \n",
       "0                        1  \n",
       "1                        1  \n",
       "2                        0  \n",
       "3                        1  \n",
       "4                        1  "
      ]
     },
     "execution_count": 267,
     "metadata": {},
     "output_type": "execute_result"
    }
   ],
   "source": [
    "month_feature.head()"
   ]
  },
  {
   "cell_type": "code",
   "execution_count": 268,
   "metadata": {
    "ExecuteTime": {
     "end_time": "2019-01-21T08:38:40.124609Z",
     "start_time": "2019-01-21T08:38:38.841043Z"
    }
   },
   "outputs": [],
   "source": [
    "month_feature.to_csv('data/new_month_feature.csv', index=None)"
   ]
  },
  {
   "cell_type": "markdown",
   "metadata": {},
   "source": [
    "purchase_second特征（购买方式）"
   ]
  },
  {
   "cell_type": "code",
   "execution_count": 142,
   "metadata": {
    "ExecuteTime": {
     "end_time": "2019-01-21T07:53:03.120105Z",
     "start_time": "2019-01-21T07:52:59.001120Z"
    }
   },
   "outputs": [],
   "source": [
    "# t = new[['card_id', 'purchase_second']]\n",
    "# t['second_count'] = 1\n",
    "# t1 = t.groupby(['card_id', 'purchase_second']).count().reset_index()\n",
    "\n",
    "# t2 = t1.reset_index().groupby('card_id').max()[['second_count']].reset_index()\n",
    "# t2 = t2.rename(columns={'second_count': 'second_max'})\n",
    "# t3 = t1.reset_index().groupby('card_id').mean()[['second_count']].reset_index()\n",
    "# t3 = t3.rename(columns={'second_count': 'second_mean'})\n",
    "# t4 = t1.reset_index().groupby('card_id').max().reset_index()\n",
    "# t4 = t4[['card_id', 'purchase_second']][t4['second_count'] != 1]\n",
    "# t4 = t4.rename(columns={'purchase_second': 'max_second_time'})"
   ]
  },
  {
   "cell_type": "code",
   "execution_count": 143,
   "metadata": {
    "ExecuteTime": {
     "end_time": "2019-01-21T07:53:04.347822Z",
     "start_time": "2019-01-21T07:53:03.535993Z"
    }
   },
   "outputs": [],
   "source": [
    "# second_feature = new[['card_id']]\n",
    "# second_feature = second_feature.drop_duplicates().reset_index(drop=True)\n",
    "# second_feature = pd.merge(second_feature, t2, on='card_id', how='left')\n",
    "# second_feature = pd.merge(second_feature, t3, on='card_id', how='left')\n",
    "# second_feature = pd.merge(second_feature, t4, on='card_id', how='left')"
   ]
  },
  {
   "cell_type": "code",
   "execution_count": 148,
   "metadata": {
    "ExecuteTime": {
     "end_time": "2019-01-21T07:54:47.969700Z",
     "start_time": "2019-01-21T07:54:47.966707Z"
    }
   },
   "outputs": [],
   "source": [
    "# second_feature.head()"
   ]
  },
  {
   "cell_type": "code",
   "execution_count": 79,
   "metadata": {
    "ExecuteTime": {
     "end_time": "2019-01-16T11:49:17.809433Z",
     "start_time": "2019-01-16T11:49:16.742197Z"
    }
   },
   "outputs": [],
   "source": [
    "# second_feature.to_csv('data/new_second_feature.csv', index=None)"
   ]
  },
  {
   "cell_type": "markdown",
   "metadata": {},
   "source": [
    "## installments特征"
   ]
  },
  {
   "cell_type": "code",
   "execution_count": 269,
   "metadata": {
    "ExecuteTime": {
     "end_time": "2019-01-21T08:38:53.033087Z",
     "start_time": "2019-01-21T08:38:45.146182Z"
    }
   },
   "outputs": [],
   "source": [
    "t = new[['card_id', 'installments']]\n",
    "t['installments_count'] = 1\n",
    "t1 = t.groupby(['card_id', 'installments']).count().reset_index()\n",
    "\n",
    "t2 = t1.reset_index().groupby('card_id').max()[['installments_count']].reset_index()\n",
    "t2 = t2.rename(columns={'installments_count': 'new_install_num_max'})\n",
    "t3 = t1.reset_index().groupby('card_id').mean()[['installments_count']].reset_index()\n",
    "t3 = t3.rename(columns={'installments_count': 'new_install_num_mean'})\n",
    "t4 = t1.reset_index().groupby('card_id').median()[['installments_count']].reset_index()\n",
    "t4 = t4.rename(columns={'installments_count': 'new_install_num_median'})\n",
    "t5 = t1.reset_index().groupby('card_id').max().reset_index()\n",
    "t5 = t5[['card_id', 'installments']][t5['installments_count'] != -1]\n",
    "t5 = t5.rename(columns={'installments': 'new_max_installments'})\n",
    "t6 = t1.reset_index().groupby('card_id').median().reset_index()\n",
    "t6 = t6[['card_id', 'installments']][t6['installments_count'] != -1]\n",
    "t6 = t6.rename(columns={'installments': 'new_median_installments'})\n",
    "\n",
    "t7 = t.groupby('card_id').mean()[['installments']].reset_index()\n",
    "t7 = t7.rename(columns={'installments': 'new_mean_installments_value'})\n",
    "t8 = t.groupby('card_id').max()[['installments']].reset_index()\n",
    "t8 = t8.rename(columns={'installments': 'new_max_installments_value'})\n",
    "t9 = t.groupby('card_id').min()[['installments']].reset_index()\n",
    "t9 = t9.rename(columns={'installments': 'new_min_installments_value'})\n",
    "t10 = t.groupby('card_id').median()[['installments']].reset_index()\n",
    "t10 = t10.rename(columns={'installments': 'new_median_installments_value'})"
   ]
  },
  {
   "cell_type": "code",
   "execution_count": 270,
   "metadata": {
    "ExecuteTime": {
     "end_time": "2019-01-21T08:38:56.094899Z",
     "start_time": "2019-01-21T08:38:53.720250Z"
    }
   },
   "outputs": [],
   "source": [
    "installments_feature = new[['card_id']]\n",
    "installments_feature = installments_feature.drop_duplicates().reset_index(drop=True)\n",
    "installments_feature = pd.merge(installments_feature, t2, on='card_id', how='left')\n",
    "installments_feature = pd.merge(installments_feature, t3, on='card_id', how='left')\n",
    "installments_feature = pd.merge(installments_feature, t4, on='card_id', how='left')\n",
    "installments_feature = pd.merge(installments_feature, t5, on='card_id', how='left')\n",
    "installments_feature = pd.merge(installments_feature, t6, on='card_id', how='left')\n",
    "installments_feature = pd.merge(installments_feature, t7, on='card_id', how='left')\n",
    "installments_feature = pd.merge(installments_feature, t8, on='card_id', how='left')\n",
    "installments_feature = pd.merge(installments_feature, t9, on='card_id', how='left')\n",
    "installments_feature = pd.merge(installments_feature, t10, on='card_id', how='left')"
   ]
  },
  {
   "cell_type": "code",
   "execution_count": 271,
   "metadata": {
    "ExecuteTime": {
     "end_time": "2019-01-21T08:38:56.794030Z",
     "start_time": "2019-01-21T08:38:56.782062Z"
    }
   },
   "outputs": [
    {
     "data": {
      "text/html": [
       "<div>\n",
       "<style scoped>\n",
       "    .dataframe tbody tr th:only-of-type {\n",
       "        vertical-align: middle;\n",
       "    }\n",
       "\n",
       "    .dataframe tbody tr th {\n",
       "        vertical-align: top;\n",
       "    }\n",
       "\n",
       "    .dataframe thead th {\n",
       "        text-align: right;\n",
       "    }\n",
       "</style>\n",
       "<table border=\"1\" class=\"dataframe\">\n",
       "  <thead>\n",
       "    <tr style=\"text-align: right;\">\n",
       "      <th></th>\n",
       "      <th>card_id</th>\n",
       "      <th>new_install_num_max</th>\n",
       "      <th>new_install_num_mean</th>\n",
       "      <th>new_install_num_median</th>\n",
       "      <th>new_max_installments</th>\n",
       "      <th>new_median_installments</th>\n",
       "      <th>new_mean_installments_value</th>\n",
       "      <th>new_max_installments_value</th>\n",
       "      <th>new_min_installments_value</th>\n",
       "      <th>new_median_installments_value</th>\n",
       "    </tr>\n",
       "  </thead>\n",
       "  <tbody>\n",
       "    <tr>\n",
       "      <th>0</th>\n",
       "      <td>C_ID_415bb3a509</td>\n",
       "      <td>4</td>\n",
       "      <td>4.0</td>\n",
       "      <td>4.0</td>\n",
       "      <td>1</td>\n",
       "      <td>1.0</td>\n",
       "      <td>1.000000</td>\n",
       "      <td>1</td>\n",
       "      <td>1</td>\n",
       "      <td>1.0</td>\n",
       "    </tr>\n",
       "    <tr>\n",
       "      <th>1</th>\n",
       "      <td>C_ID_ef55cf8d4b</td>\n",
       "      <td>17</td>\n",
       "      <td>4.4</td>\n",
       "      <td>1.0</td>\n",
       "      <td>12</td>\n",
       "      <td>2.0</td>\n",
       "      <td>1.636364</td>\n",
       "      <td>12</td>\n",
       "      <td>-1</td>\n",
       "      <td>1.0</td>\n",
       "    </tr>\n",
       "    <tr>\n",
       "      <th>2</th>\n",
       "      <td>C_ID_241a01e9d9</td>\n",
       "      <td>1</td>\n",
       "      <td>1.0</td>\n",
       "      <td>1.0</td>\n",
       "      <td>6</td>\n",
       "      <td>4.5</td>\n",
       "      <td>4.500000</td>\n",
       "      <td>6</td>\n",
       "      <td>3</td>\n",
       "      <td>4.5</td>\n",
       "    </tr>\n",
       "    <tr>\n",
       "      <th>3</th>\n",
       "      <td>C_ID_a97720321f</td>\n",
       "      <td>12</td>\n",
       "      <td>12.0</td>\n",
       "      <td>12.0</td>\n",
       "      <td>0</td>\n",
       "      <td>0.0</td>\n",
       "      <td>0.000000</td>\n",
       "      <td>0</td>\n",
       "      <td>0</td>\n",
       "      <td>0.0</td>\n",
       "    </tr>\n",
       "    <tr>\n",
       "      <th>4</th>\n",
       "      <td>C_ID_fb0875cd28</td>\n",
       "      <td>7</td>\n",
       "      <td>7.0</td>\n",
       "      <td>7.0</td>\n",
       "      <td>0</td>\n",
       "      <td>0.0</td>\n",
       "      <td>0.000000</td>\n",
       "      <td>0</td>\n",
       "      <td>0</td>\n",
       "      <td>0.0</td>\n",
       "    </tr>\n",
       "  </tbody>\n",
       "</table>\n",
       "</div>"
      ],
      "text/plain": [
       "           card_id  new_install_num_max  new_install_num_mean  \\\n",
       "0  C_ID_415bb3a509                    4                   4.0   \n",
       "1  C_ID_ef55cf8d4b                   17                   4.4   \n",
       "2  C_ID_241a01e9d9                    1                   1.0   \n",
       "3  C_ID_a97720321f                   12                  12.0   \n",
       "4  C_ID_fb0875cd28                    7                   7.0   \n",
       "\n",
       "   new_install_num_median  new_max_installments  new_median_installments  \\\n",
       "0                     4.0                     1                      1.0   \n",
       "1                     1.0                    12                      2.0   \n",
       "2                     1.0                     6                      4.5   \n",
       "3                    12.0                     0                      0.0   \n",
       "4                     7.0                     0                      0.0   \n",
       "\n",
       "   new_mean_installments_value  new_max_installments_value  \\\n",
       "0                     1.000000                           1   \n",
       "1                     1.636364                          12   \n",
       "2                     4.500000                           6   \n",
       "3                     0.000000                           0   \n",
       "4                     0.000000                           0   \n",
       "\n",
       "   new_min_installments_value  new_median_installments_value  \n",
       "0                           1                            1.0  \n",
       "1                          -1                            1.0  \n",
       "2                           3                            4.5  \n",
       "3                           0                            0.0  \n",
       "4                           0                            0.0  "
      ]
     },
     "execution_count": 271,
     "metadata": {},
     "output_type": "execute_result"
    }
   ],
   "source": [
    "installments_feature.head()"
   ]
  },
  {
   "cell_type": "code",
   "execution_count": 272,
   "metadata": {
    "ExecuteTime": {
     "end_time": "2019-01-21T08:38:59.989483Z",
     "start_time": "2019-01-21T08:38:57.473213Z"
    }
   },
   "outputs": [],
   "source": [
    "installments_feature.to_csv('data/new_installments_feature.csv', index=None)"
   ]
  },
  {
   "cell_type": "markdown",
   "metadata": {},
   "source": [
    "## purchase_amount特征"
   ]
  },
  {
   "cell_type": "code",
   "execution_count": 273,
   "metadata": {
    "ExecuteTime": {
     "end_time": "2019-01-21T08:39:22.255941Z",
     "start_time": "2019-01-21T08:39:15.392292Z"
    }
   },
   "outputs": [],
   "source": [
    "t = new[['card_id', 'purchase_amount']]\n",
    "t['purchase_count'] = 1\n",
    "t1 = t.groupby(['card_id', 'purchase_amount']).count().reset_index()\n",
    "\n",
    "t2 = t1.reset_index().groupby('card_id').max()[['purchase_count']].reset_index()\n",
    "t2 = t2.rename(columns={'purchase_count': 'new_purchase_num_max'})\n",
    "t3 = t1.reset_index().groupby('card_id').mean()[['purchase_count']].reset_index()\n",
    "t3 = t3.rename(columns={'purchase_count': 'new_purchase_num_mean'})\n",
    "t4 = t1.reset_index().groupby('card_id').median()[['purchase_count']].reset_index()\n",
    "t4 = t4.rename(columns={'purchase_count': 'new_purchase_num_median'})\n",
    "t4 = t1.reset_index().groupby('card_id').min()[['purchase_count']].reset_index()\n",
    "t4 = t4.rename(columns={'purchase_count': 'new_purchase_num_min'})\n",
    "t5 = t1.reset_index().groupby('card_id').max().reset_index()\n",
    "t5 = t5[['card_id', 'purchase_amount']][t5['purchase_count'] != -1]\n",
    "t5 = t5.rename(columns={'purchase_amount': 'new_max_purchase'})\n",
    "t6 = t1.reset_index().groupby('card_id').median().reset_index()\n",
    "t6 = t6[['card_id', 'purchase_amount']][t6['purchase_count'] != -1]\n",
    "t6 = t6.rename(columns={'purchase_amount': 'new_median_purchase'})"
   ]
  },
  {
   "cell_type": "code",
   "execution_count": 274,
   "metadata": {
    "ExecuteTime": {
     "end_time": "2019-01-21T08:39:26.249255Z",
     "start_time": "2019-01-21T08:39:22.946090Z"
    }
   },
   "outputs": [],
   "source": [
    "t7 = t.groupby('card_id').mean()[['purchase_amount']].reset_index()\n",
    "t7 = t7.rename(columns={'purchase_amount': 'new_mean_purchase_amount_value'})\n",
    "t8 = t.groupby('card_id').max()[['purchase_amount']].reset_index()\n",
    "t8 = t8.rename(columns={'purchase_amount': 'new_max_purchase_amount_value'})\n",
    "t9 = t.groupby('card_id').min()[['purchase_amount']].reset_index()\n",
    "t9 = t9.rename(columns={'purchase_amount': 'new_min_purchase_amount_value'})\n",
    "t10 = t.groupby('card_id').median()[['purchase_amount']].reset_index()\n",
    "t10 = t10.rename(columns={'purchase_amount': 'new_median_purchase_amount_value'})"
   ]
  },
  {
   "cell_type": "code",
   "execution_count": 275,
   "metadata": {
    "ExecuteTime": {
     "end_time": "2019-01-21T08:39:29.317051Z",
     "start_time": "2019-01-21T08:39:26.944397Z"
    }
   },
   "outputs": [],
   "source": [
    "purchase_feature = new[['card_id']]\n",
    "purchase_feature = purchase_feature.drop_duplicates().reset_index(drop=True)\n",
    "purchase_feature = pd.merge(purchase_feature, t2, on='card_id', how='left')\n",
    "purchase_feature = pd.merge(purchase_feature, t3, on='card_id', how='left')\n",
    "purchase_feature = pd.merge(purchase_feature, t4, on='card_id', how='left')\n",
    "purchase_feature = pd.merge(purchase_feature, t5, on='card_id', how='left')\n",
    "purchase_feature = pd.merge(purchase_feature, t6, on='card_id', how='left')\n",
    "purchase_feature = pd.merge(purchase_feature, t7, on='card_id', how='left')\n",
    "purchase_feature = pd.merge(purchase_feature, t8, on='card_id', how='left')\n",
    "purchase_feature = pd.merge(purchase_feature, t9, on='card_id', how='left')\n",
    "purchase_feature = pd.merge(purchase_feature, t10, on='card_id', how='left')"
   ]
  },
  {
   "cell_type": "code",
   "execution_count": 276,
   "metadata": {
    "ExecuteTime": {
     "end_time": "2019-01-21T08:39:29.997232Z",
     "start_time": "2019-01-21T08:39:29.984266Z"
    }
   },
   "outputs": [
    {
     "data": {
      "text/html": [
       "<div>\n",
       "<style scoped>\n",
       "    .dataframe tbody tr th:only-of-type {\n",
       "        vertical-align: middle;\n",
       "    }\n",
       "\n",
       "    .dataframe tbody tr th {\n",
       "        vertical-align: top;\n",
       "    }\n",
       "\n",
       "    .dataframe thead th {\n",
       "        text-align: right;\n",
       "    }\n",
       "</style>\n",
       "<table border=\"1\" class=\"dataframe\">\n",
       "  <thead>\n",
       "    <tr style=\"text-align: right;\">\n",
       "      <th></th>\n",
       "      <th>card_id</th>\n",
       "      <th>new_purchase_num_max</th>\n",
       "      <th>new_purchase_num_mean</th>\n",
       "      <th>new_purchase_num_min</th>\n",
       "      <th>new_max_purchase</th>\n",
       "      <th>new_median_purchase</th>\n",
       "      <th>new_mean_purchase_amount_value</th>\n",
       "      <th>new_max_purchase_amount_value</th>\n",
       "      <th>new_min_purchase_amount_value</th>\n",
       "      <th>new_median_purchase_amount_value</th>\n",
       "    </tr>\n",
       "  </thead>\n",
       "  <tbody>\n",
       "    <tr>\n",
       "      <th>0</th>\n",
       "      <td>C_ID_415bb3a509</td>\n",
       "      <td>1</td>\n",
       "      <td>1.0</td>\n",
       "      <td>1</td>\n",
       "      <td>-0.551037</td>\n",
       "      <td>-0.563577</td>\n",
       "      <td>-0.587529</td>\n",
       "      <td>-0.551037</td>\n",
       "      <td>-0.671925</td>\n",
       "      <td>-0.563577</td>\n",
       "    </tr>\n",
       "    <tr>\n",
       "      <th>1</th>\n",
       "      <td>C_ID_ef55cf8d4b</td>\n",
       "      <td>1</td>\n",
       "      <td>1.0</td>\n",
       "      <td>1</td>\n",
       "      <td>5.263697</td>\n",
       "      <td>-0.601301</td>\n",
       "      <td>0.256985</td>\n",
       "      <td>5.263697</td>\n",
       "      <td>-0.704834</td>\n",
       "      <td>-0.601301</td>\n",
       "    </tr>\n",
       "    <tr>\n",
       "      <th>2</th>\n",
       "      <td>C_ID_241a01e9d9</td>\n",
       "      <td>1</td>\n",
       "      <td>1.0</td>\n",
       "      <td>1</td>\n",
       "      <td>-0.294760</td>\n",
       "      <td>-0.378232</td>\n",
       "      <td>-0.378232</td>\n",
       "      <td>-0.294760</td>\n",
       "      <td>-0.461705</td>\n",
       "      <td>-0.378232</td>\n",
       "    </tr>\n",
       "    <tr>\n",
       "      <th>3</th>\n",
       "      <td>C_ID_a97720321f</td>\n",
       "      <td>1</td>\n",
       "      <td>1.0</td>\n",
       "      <td>1</td>\n",
       "      <td>0.755743</td>\n",
       "      <td>-0.464124</td>\n",
       "      <td>-0.376239</td>\n",
       "      <td>0.755743</td>\n",
       "      <td>-0.718132</td>\n",
       "      <td>-0.464124</td>\n",
       "    </tr>\n",
       "    <tr>\n",
       "      <th>4</th>\n",
       "      <td>C_ID_fb0875cd28</td>\n",
       "      <td>1</td>\n",
       "      <td>1.0</td>\n",
       "      <td>1</td>\n",
       "      <td>-0.565087</td>\n",
       "      <td>-0.671775</td>\n",
       "      <td>-0.659780</td>\n",
       "      <td>-0.565087</td>\n",
       "      <td>-0.712347</td>\n",
       "      <td>-0.671775</td>\n",
       "    </tr>\n",
       "  </tbody>\n",
       "</table>\n",
       "</div>"
      ],
      "text/plain": [
       "           card_id  new_purchase_num_max  new_purchase_num_mean  \\\n",
       "0  C_ID_415bb3a509                     1                    1.0   \n",
       "1  C_ID_ef55cf8d4b                     1                    1.0   \n",
       "2  C_ID_241a01e9d9                     1                    1.0   \n",
       "3  C_ID_a97720321f                     1                    1.0   \n",
       "4  C_ID_fb0875cd28                     1                    1.0   \n",
       "\n",
       "   new_purchase_num_min  new_max_purchase  new_median_purchase  \\\n",
       "0                     1         -0.551037            -0.563577   \n",
       "1                     1          5.263697            -0.601301   \n",
       "2                     1         -0.294760            -0.378232   \n",
       "3                     1          0.755743            -0.464124   \n",
       "4                     1         -0.565087            -0.671775   \n",
       "\n",
       "   new_mean_purchase_amount_value  new_max_purchase_amount_value  \\\n",
       "0                       -0.587529                      -0.551037   \n",
       "1                        0.256985                       5.263697   \n",
       "2                       -0.378232                      -0.294760   \n",
       "3                       -0.376239                       0.755743   \n",
       "4                       -0.659780                      -0.565087   \n",
       "\n",
       "   new_min_purchase_amount_value  new_median_purchase_amount_value  \n",
       "0                      -0.671925                         -0.563577  \n",
       "1                      -0.704834                         -0.601301  \n",
       "2                      -0.461705                         -0.378232  \n",
       "3                      -0.718132                         -0.464124  \n",
       "4                      -0.712347                         -0.671775  "
      ]
     },
     "execution_count": 276,
     "metadata": {},
     "output_type": "execute_result"
    }
   ],
   "source": [
    "purchase_feature.head()"
   ]
  },
  {
   "cell_type": "code",
   "execution_count": 277,
   "metadata": {
    "ExecuteTime": {
     "end_time": "2019-01-21T08:39:34.128184Z",
     "start_time": "2019-01-21T08:39:30.674420Z"
    }
   },
   "outputs": [],
   "source": [
    "purchase_feature.to_csv('data/new_purchase_feature.csv', index=None)"
   ]
  },
  {
   "cell_type": "markdown",
   "metadata": {},
   "source": [
    "## purchase_installments联合特征"
   ]
  },
  {
   "cell_type": "code",
   "execution_count": 278,
   "metadata": {
    "ExecuteTime": {
     "end_time": "2019-01-21T08:40:13.646498Z",
     "start_time": "2019-01-21T08:40:12.109609Z"
    }
   },
   "outputs": [],
   "source": [
    "t = new[['card_id', 'installments', 'purchase_amount']]\n",
    "t1 = t[['card_id', 'purchase_amount']].groupby(['card_id']).max()[['purchase_amount']]\n",
    "t1 = t1.rename(columns={'purchase_amount': 'purchase_max'})\n",
    "t1['install_max'] = t[['card_id', 'installments']].groupby(['card_id']).max()[['installments']]"
   ]
  },
  {
   "cell_type": "code",
   "execution_count": 279,
   "metadata": {
    "ExecuteTime": {
     "end_time": "2019-01-21T08:40:14.315708Z",
     "start_time": "2019-01-21T08:40:14.311719Z"
    },
    "scrolled": false
   },
   "outputs": [],
   "source": [
    "def change_not_0(y):\n",
    "    if y == 0 or y == -1:\n",
    "        return 1\n",
    "    else:\n",
    "        return y"
   ]
  },
  {
   "cell_type": "code",
   "execution_count": 280,
   "metadata": {
    "ExecuteTime": {
     "end_time": "2019-01-21T08:40:15.116566Z",
     "start_time": "2019-01-21T08:40:14.986913Z"
    }
   },
   "outputs": [],
   "source": [
    "t1['install_max'] = t1['install_max'].apply(change_not_0)\n",
    "t1['new_every_max_install_amount'] = t1['purchase_max']/t1['install_max']\n",
    "t1 = t1[['new_every_max_install_amount']]"
   ]
  },
  {
   "cell_type": "code",
   "execution_count": 281,
   "metadata": {
    "ExecuteTime": {
     "end_time": "2019-01-21T08:40:17.404447Z",
     "start_time": "2019-01-21T08:40:15.785777Z"
    }
   },
   "outputs": [],
   "source": [
    "t2 = t[['card_id', 'purchase_amount']].groupby(['card_id']).mean()[['purchase_amount']]\n",
    "t2 = t2.rename(columns={'purchase_amount': 'purchase_mean'})\n",
    "t2['install_mean'] = t[['card_id', 'installments']].groupby(['card_id']).mean()[['installments']]\n",
    "t2['install_mean'] = t2['install_mean'].apply(change_not_0)\n",
    "t2['new_every_mean_install_amount'] = t2['purchase_mean']/t2['install_mean']\n",
    "t2 = t2[['new_every_mean_install_amount']]"
   ]
  },
  {
   "cell_type": "code",
   "execution_count": 282,
   "metadata": {
    "ExecuteTime": {
     "end_time": "2019-01-21T08:40:19.797049Z",
     "start_time": "2019-01-21T08:40:18.071663Z"
    }
   },
   "outputs": [],
   "source": [
    "t3 = t[['card_id', 'purchase_amount']].groupby(['card_id']).median()[['purchase_amount']]\n",
    "t3 = t3.rename(columns={'purchase_amount': 'purchase_median'})\n",
    "t3['install_median'] = t[['card_id', 'installments']].groupby(['card_id']).median()[['installments']]\n",
    "t3['install_median'] = t3['install_median'].apply(change_not_0)\n",
    "t3['new_every_median_install_amount'] = t3['purchase_median']/t3['install_median']\n",
    "t3 = t3[['new_every_median_install_amount']]"
   ]
  },
  {
   "cell_type": "code",
   "execution_count": 283,
   "metadata": {
    "ExecuteTime": {
     "end_time": "2019-01-21T08:40:21.335933Z",
     "start_time": "2019-01-21T08:40:20.469251Z"
    }
   },
   "outputs": [],
   "source": [
    "install_purchase_feature = new[['card_id']]\n",
    "install_purchase_feature = install_purchase_feature.drop_duplicates().reset_index(drop=True)\n",
    "install_purchase_feature = pd.merge(install_purchase_feature, t1, on='card_id', how='left')\n",
    "install_purchase_feature = pd.merge(install_purchase_feature, t2, on='card_id', how='left')\n",
    "install_purchase_feature = pd.merge(install_purchase_feature, t3, on='card_id', how='left')"
   ]
  },
  {
   "cell_type": "code",
   "execution_count": 284,
   "metadata": {
    "ExecuteTime": {
     "end_time": "2019-01-21T08:40:22.022099Z",
     "start_time": "2019-01-21T08:40:22.013122Z"
    }
   },
   "outputs": [
    {
     "data": {
      "text/html": [
       "<div>\n",
       "<style scoped>\n",
       "    .dataframe tbody tr th:only-of-type {\n",
       "        vertical-align: middle;\n",
       "    }\n",
       "\n",
       "    .dataframe tbody tr th {\n",
       "        vertical-align: top;\n",
       "    }\n",
       "\n",
       "    .dataframe thead th {\n",
       "        text-align: right;\n",
       "    }\n",
       "</style>\n",
       "<table border=\"1\" class=\"dataframe\">\n",
       "  <thead>\n",
       "    <tr style=\"text-align: right;\">\n",
       "      <th></th>\n",
       "      <th>card_id</th>\n",
       "      <th>new_every_max_install_amount</th>\n",
       "      <th>new_every_mean_install_amount</th>\n",
       "      <th>new_every_median_install_amount</th>\n",
       "    </tr>\n",
       "  </thead>\n",
       "  <tbody>\n",
       "    <tr>\n",
       "      <th>0</th>\n",
       "      <td>C_ID_415bb3a509</td>\n",
       "      <td>-0.551037</td>\n",
       "      <td>-0.587529</td>\n",
       "      <td>-0.563577</td>\n",
       "    </tr>\n",
       "    <tr>\n",
       "      <th>1</th>\n",
       "      <td>C_ID_ef55cf8d4b</td>\n",
       "      <td>0.438641</td>\n",
       "      <td>0.157046</td>\n",
       "      <td>-0.601301</td>\n",
       "    </tr>\n",
       "    <tr>\n",
       "      <th>2</th>\n",
       "      <td>C_ID_241a01e9d9</td>\n",
       "      <td>-0.049127</td>\n",
       "      <td>-0.084052</td>\n",
       "      <td>-0.084052</td>\n",
       "    </tr>\n",
       "    <tr>\n",
       "      <th>3</th>\n",
       "      <td>C_ID_a97720321f</td>\n",
       "      <td>0.755743</td>\n",
       "      <td>-0.376239</td>\n",
       "      <td>-0.464124</td>\n",
       "    </tr>\n",
       "    <tr>\n",
       "      <th>4</th>\n",
       "      <td>C_ID_fb0875cd28</td>\n",
       "      <td>-0.565087</td>\n",
       "      <td>-0.659780</td>\n",
       "      <td>-0.671775</td>\n",
       "    </tr>\n",
       "  </tbody>\n",
       "</table>\n",
       "</div>"
      ],
      "text/plain": [
       "           card_id  new_every_max_install_amount  \\\n",
       "0  C_ID_415bb3a509                     -0.551037   \n",
       "1  C_ID_ef55cf8d4b                      0.438641   \n",
       "2  C_ID_241a01e9d9                     -0.049127   \n",
       "3  C_ID_a97720321f                      0.755743   \n",
       "4  C_ID_fb0875cd28                     -0.565087   \n",
       "\n",
       "   new_every_mean_install_amount  new_every_median_install_amount  \n",
       "0                      -0.587529                        -0.563577  \n",
       "1                       0.157046                        -0.601301  \n",
       "2                      -0.084052                        -0.084052  \n",
       "3                      -0.376239                        -0.464124  \n",
       "4                      -0.659780                        -0.671775  "
      ]
     },
     "execution_count": 284,
     "metadata": {},
     "output_type": "execute_result"
    }
   ],
   "source": [
    "install_purchase_feature.head()"
   ]
  },
  {
   "cell_type": "code",
   "execution_count": 285,
   "metadata": {
    "ExecuteTime": {
     "end_time": "2019-01-21T08:40:24.446614Z",
     "start_time": "2019-01-21T08:40:22.704274Z"
    }
   },
   "outputs": [],
   "source": [
    "install_purchase_feature.to_csv('data/new_install_purchase_feature.csv', index=None)"
   ]
  },
  {
   "cell_type": "markdown",
   "metadata": {},
   "source": [
    "## category特征"
   ]
  },
  {
   "cell_type": "code",
   "execution_count": 286,
   "metadata": {
    "ExecuteTime": {
     "end_time": "2019-01-21T08:41:50.187312Z",
     "start_time": "2019-01-21T08:41:49.159062Z"
    }
   },
   "outputs": [],
   "source": [
    "category_features = ['category_1', 'category_2', 'category_3']\n",
    "for col in category_features:\n",
    "    new[col] = new[col].map(dict(zip(new[col].unique(), range(0, new[col].nunique()))))"
   ]
  },
  {
   "cell_type": "code",
   "execution_count": 287,
   "metadata": {
    "ExecuteTime": {
     "end_time": "2019-01-21T08:41:57.969500Z",
     "start_time": "2019-01-21T08:41:50.884448Z"
    }
   },
   "outputs": [],
   "source": [
    "category_1_feature = new[['card_id']]\n",
    "category_1_feature = category_1_feature.drop_duplicates().reset_index(drop=True)\n",
    "t = new[['merchant_id','category_1', 'card_id']]\n",
    "t['same_category_1_count'] = 1\n",
    "t1 = t[['card_id', 'category_1', 'same_category_1_count']].groupby(['card_id', 'category_1']).count()\n",
    "\n",
    "t2 = t1.reset_index().groupby('card_id').max()[['same_category_1_count']].reset_index()\n",
    "t2 = t2.rename(columns={'same_category_1_count': 'new_same_category_1_max'})\n",
    "t3 = t1.reset_index().groupby('card_id').mean()[['same_category_1_count']].reset_index()\n",
    "t3 = t3.rename(columns={'same_category_1_count': 'new_same_category_1_mean'})\n",
    "t4 = t1.reset_index().groupby('card_id').min()[['same_category_1_count']].reset_index()\n",
    "t4 = t4.rename(columns={'same_category_1_count': 'new_same_category_1_min'})\n",
    "t5 = t1.reset_index().groupby('card_id').median()[['same_category_1_count']].reset_index()\n",
    "t5 = t5.rename(columns={'same_category_1_count': 'new_same_category_1_median'})\n",
    "\n",
    "t6 = t[['card_id', 'category_1']].groupby('card_id').mean().reset_index()\n",
    "t6 = t6.rename(columns={'category_1': 'new_mean_category_1_value'})\n",
    "t7 = t[['card_id', 'category_1']].groupby('card_id').max().reset_index()\n",
    "t7 = t7.rename(columns={'category_1': 'new_max_category_1_value'})\n",
    "t8 = t[['card_id', 'category_1']].groupby('card_id').min().reset_index()\n",
    "t8 = t8.rename(columns={'category_1': 'new_min_category_1_value'})\n",
    "t9 = t[['card_id', 'category_1']].groupby('card_id').median().reset_index()\n",
    "t9 = t9.rename(columns={'category_1': 'new_median_category_1_value'})"
   ]
  },
  {
   "cell_type": "code",
   "execution_count": 288,
   "metadata": {
    "ExecuteTime": {
     "end_time": "2019-01-21T08:42:00.927589Z",
     "start_time": "2019-01-21T08:41:58.659654Z"
    }
   },
   "outputs": [],
   "source": [
    "category_1_feature = new[['card_id']]\n",
    "category_1_feature = category_1_feature.drop_duplicates().reset_index(drop=True)\n",
    "category_1_feature = pd.merge(category_1_feature, t2, on='card_id', how='left')\n",
    "category_1_feature = pd.merge(category_1_feature, t3, on='card_id', how='left')\n",
    "category_1_feature = pd.merge(category_1_feature, t4, on='card_id', how='left')\n",
    "category_1_feature = pd.merge(category_1_feature, t5, on='card_id', how='left')\n",
    "category_1_feature = pd.merge(category_1_feature, t6, on='card_id', how='left')\n",
    "category_1_feature = pd.merge(category_1_feature, t7, on='card_id', how='left')\n",
    "category_1_feature = pd.merge(category_1_feature, t8, on='card_id', how='left')\n",
    "category_1_feature = pd.merge(category_1_feature, t9, on='card_id', how='left')"
   ]
  },
  {
   "cell_type": "code",
   "execution_count": 289,
   "metadata": {
    "ExecuteTime": {
     "end_time": "2019-01-21T08:42:01.693540Z",
     "start_time": "2019-01-21T08:42:01.680576Z"
    }
   },
   "outputs": [
    {
     "data": {
      "text/html": [
       "<div>\n",
       "<style scoped>\n",
       "    .dataframe tbody tr th:only-of-type {\n",
       "        vertical-align: middle;\n",
       "    }\n",
       "\n",
       "    .dataframe tbody tr th {\n",
       "        vertical-align: top;\n",
       "    }\n",
       "\n",
       "    .dataframe thead th {\n",
       "        text-align: right;\n",
       "    }\n",
       "</style>\n",
       "<table border=\"1\" class=\"dataframe\">\n",
       "  <thead>\n",
       "    <tr style=\"text-align: right;\">\n",
       "      <th></th>\n",
       "      <th>card_id</th>\n",
       "      <th>new_same_category_1_max</th>\n",
       "      <th>new_same_category_1_mean</th>\n",
       "      <th>new_same_category_1_min</th>\n",
       "      <th>new_same_category_1_median</th>\n",
       "      <th>new_mean_category_1_value</th>\n",
       "      <th>new_max_category_1_value</th>\n",
       "      <th>new_min_category_1_value</th>\n",
       "      <th>new_median_category_1_value</th>\n",
       "    </tr>\n",
       "  </thead>\n",
       "  <tbody>\n",
       "    <tr>\n",
       "      <th>0</th>\n",
       "      <td>C_ID_415bb3a509</td>\n",
       "      <td>3</td>\n",
       "      <td>2.0</td>\n",
       "      <td>1</td>\n",
       "      <td>2.0</td>\n",
       "      <td>0.250000</td>\n",
       "      <td>1</td>\n",
       "      <td>0</td>\n",
       "      <td>0.0</td>\n",
       "    </tr>\n",
       "    <tr>\n",
       "      <th>1</th>\n",
       "      <td>C_ID_ef55cf8d4b</td>\n",
       "      <td>18</td>\n",
       "      <td>11.0</td>\n",
       "      <td>4</td>\n",
       "      <td>11.0</td>\n",
       "      <td>0.181818</td>\n",
       "      <td>1</td>\n",
       "      <td>0</td>\n",
       "      <td>0.0</td>\n",
       "    </tr>\n",
       "    <tr>\n",
       "      <th>2</th>\n",
       "      <td>C_ID_241a01e9d9</td>\n",
       "      <td>2</td>\n",
       "      <td>2.0</td>\n",
       "      <td>2</td>\n",
       "      <td>2.0</td>\n",
       "      <td>0.000000</td>\n",
       "      <td>0</td>\n",
       "      <td>0</td>\n",
       "      <td>0.0</td>\n",
       "    </tr>\n",
       "    <tr>\n",
       "      <th>3</th>\n",
       "      <td>C_ID_a97720321f</td>\n",
       "      <td>12</td>\n",
       "      <td>12.0</td>\n",
       "      <td>12</td>\n",
       "      <td>12.0</td>\n",
       "      <td>0.000000</td>\n",
       "      <td>0</td>\n",
       "      <td>0</td>\n",
       "      <td>0.0</td>\n",
       "    </tr>\n",
       "    <tr>\n",
       "      <th>4</th>\n",
       "      <td>C_ID_fb0875cd28</td>\n",
       "      <td>7</td>\n",
       "      <td>7.0</td>\n",
       "      <td>7</td>\n",
       "      <td>7.0</td>\n",
       "      <td>0.000000</td>\n",
       "      <td>0</td>\n",
       "      <td>0</td>\n",
       "      <td>0.0</td>\n",
       "    </tr>\n",
       "  </tbody>\n",
       "</table>\n",
       "</div>"
      ],
      "text/plain": [
       "           card_id  new_same_category_1_max  new_same_category_1_mean  \\\n",
       "0  C_ID_415bb3a509                        3                       2.0   \n",
       "1  C_ID_ef55cf8d4b                       18                      11.0   \n",
       "2  C_ID_241a01e9d9                        2                       2.0   \n",
       "3  C_ID_a97720321f                       12                      12.0   \n",
       "4  C_ID_fb0875cd28                        7                       7.0   \n",
       "\n",
       "   new_same_category_1_min  new_same_category_1_median  \\\n",
       "0                        1                         2.0   \n",
       "1                        4                        11.0   \n",
       "2                        2                         2.0   \n",
       "3                       12                        12.0   \n",
       "4                        7                         7.0   \n",
       "\n",
       "   new_mean_category_1_value  new_max_category_1_value  \\\n",
       "0                   0.250000                         1   \n",
       "1                   0.181818                         1   \n",
       "2                   0.000000                         0   \n",
       "3                   0.000000                         0   \n",
       "4                   0.000000                         0   \n",
       "\n",
       "   new_min_category_1_value  new_median_category_1_value  \n",
       "0                         0                          0.0  \n",
       "1                         0                          0.0  \n",
       "2                         0                          0.0  \n",
       "3                         0                          0.0  \n",
       "4                         0                          0.0  "
      ]
     },
     "execution_count": 289,
     "metadata": {},
     "output_type": "execute_result"
    }
   ],
   "source": [
    "category_1_feature.head()"
   ]
  },
  {
   "cell_type": "code",
   "execution_count": 290,
   "metadata": {
    "ExecuteTime": {
     "end_time": "2019-01-21T08:42:04.773304Z",
     "start_time": "2019-01-21T08:42:02.416607Z"
    }
   },
   "outputs": [],
   "source": [
    "category_1_feature.to_csv('data/new_category_1_feature.csv', index=None)"
   ]
  },
  {
   "cell_type": "code",
   "execution_count": 291,
   "metadata": {
    "ExecuteTime": {
     "end_time": "2019-01-21T08:42:12.391929Z",
     "start_time": "2019-01-21T08:42:05.520307Z"
    }
   },
   "outputs": [],
   "source": [
    "category_2_feature = new[['card_id']]\n",
    "category_2_feature = category_2_feature.drop_duplicates().reset_index(drop=True)\n",
    "t = new[['merchant_id','category_2', 'card_id']]\n",
    "t['same_category_2_count'] = 1\n",
    "t1 = t[['card_id', 'category_2', 'same_category_2_count']].groupby(['card_id', 'category_2']).count()\n",
    "\n",
    "t2 = t1.reset_index().groupby('card_id').max()[['same_category_2_count']].reset_index()\n",
    "t2 = t2.rename(columns={'same_category_2_count': 'new_same_category_2_max'})\n",
    "t3 = t1.reset_index().groupby('card_id').mean()[['same_category_2_count']].reset_index()\n",
    "t3 = t3.rename(columns={'same_category_2_count': 'new_same_category_2_mean'})\n",
    "t4 = t1.reset_index().groupby('card_id').min()[['same_category_2_count']].reset_index()\n",
    "t4 = t4.rename(columns={'same_category_2_count': 'new_same_category_2_min'})\n",
    "t5 = t1.reset_index().groupby('card_id').median()[['same_category_2_count']].reset_index()\n",
    "t5 = t5.rename(columns={'same_category_2_count': 'new_same_category_2_median'})\n",
    "\n",
    "t6 = t[['card_id', 'category_2']].groupby('card_id').mean().reset_index()\n",
    "t6 = t6.rename(columns={'category_2': 'new_mean_category_2_value'})\n",
    "t7 = t[['card_id', 'category_2']].groupby('card_id').max().reset_index()\n",
    "t7 = t7.rename(columns={'category_2': 'new_max_category_2_value'})\n",
    "t8 = t[['card_id', 'category_2']].groupby('card_id').min().reset_index()\n",
    "t8 = t8.rename(columns={'category_2': 'new_min_category_2_value'})\n",
    "t9 = t[['card_id', 'category_2']].groupby('card_id').median().reset_index()\n",
    "t9 = t9.rename(columns={'category_2': 'new_median_category_2_value'})"
   ]
  },
  {
   "cell_type": "code",
   "execution_count": 292,
   "metadata": {
    "ExecuteTime": {
     "end_time": "2019-01-21T08:42:15.260258Z",
     "start_time": "2019-01-21T08:42:13.108015Z"
    }
   },
   "outputs": [],
   "source": [
    "category_2_feature = new[['card_id']]\n",
    "category_2_feature = category_2_feature.drop_duplicates().reset_index(drop=True)\n",
    "category_2_feature = pd.merge(category_2_feature, t2, on='card_id', how='left')\n",
    "category_2_feature = pd.merge(category_2_feature, t3, on='card_id', how='left')\n",
    "category_2_feature = pd.merge(category_2_feature, t4, on='card_id', how='left')\n",
    "category_2_feature = pd.merge(category_2_feature, t5, on='card_id', how='left')\n",
    "category_2_feature = pd.merge(category_2_feature, t6, on='card_id', how='left')\n",
    "category_2_feature = pd.merge(category_2_feature, t7, on='card_id', how='left')\n",
    "category_2_feature = pd.merge(category_2_feature, t8, on='card_id', how='left')\n",
    "category_2_feature = pd.merge(category_2_feature, t9, on='card_id', how='left')"
   ]
  },
  {
   "cell_type": "code",
   "execution_count": 293,
   "metadata": {
    "ExecuteTime": {
     "end_time": "2019-01-21T08:42:18.299131Z",
     "start_time": "2019-01-21T08:42:16.052140Z"
    }
   },
   "outputs": [],
   "source": [
    "category_2_feature.to_csv('data/new_category_2_feature.csv', index=None)"
   ]
  },
  {
   "cell_type": "code",
   "execution_count": 294,
   "metadata": {
    "ExecuteTime": {
     "end_time": "2019-01-21T08:42:24.675079Z",
     "start_time": "2019-01-21T08:42:19.050122Z"
    }
   },
   "outputs": [],
   "source": [
    "t = new[['merchant_id','category_3', 'card_id']]\n",
    "t['same_category_3_count'] = 1\n",
    "t1 = t[['card_id', 'category_3', 'same_category_3_count']].groupby(['card_id', 'category_3']).count()\n",
    "\n",
    "t2 = t1.reset_index().groupby('card_id').max()[['same_category_3_count']].reset_index()\n",
    "t2 = t2.rename(columns={'same_category_3_count': 'new_same_category_3_max'})\n",
    "t3 = t1.reset_index().groupby('card_id').mean()[['same_category_3_count']].reset_index()\n",
    "t3 = t3.rename(columns={'same_category_3_count': 'new_same_category_3_mean'})\n",
    "t4 = t1.reset_index().groupby('card_id').min()[['same_category_3_count']].reset_index()\n",
    "t4 = t4.rename(columns={'same_category_3_count': 'new_same_category_3_min'})\n",
    "t5 = t1.reset_index().groupby('card_id').median()[['same_category_3_count']].reset_index()\n",
    "t5 = t5.rename(columns={'same_category_3_count': 'new_same_category_3_median'})\n",
    "\n",
    "t6 = t[['card_id', 'category_3']].groupby('card_id').mean().reset_index()\n",
    "t6 = t6.rename(columns={'category_3': 'new_mean_category_3_value'})\n",
    "t7 = t[['card_id', 'category_3']].groupby('card_id').max().reset_index()\n",
    "t7 = t7.rename(columns={'category_3': 'new_max_category_3_value'})\n",
    "t8 = t[['card_id', 'category_3']].groupby('card_id').min().reset_index()\n",
    "t8 = t8.rename(columns={'category_3': 'new_min_category_3_value'})\n",
    "t9 = t[['card_id', 'category_3']].groupby('card_id').median().reset_index()\n",
    "t9 = t9.rename(columns={'category_3': 'new_median_category_3_value'})"
   ]
  },
  {
   "cell_type": "code",
   "execution_count": 295,
   "metadata": {
    "ExecuteTime": {
     "end_time": "2019-01-21T08:42:27.437691Z",
     "start_time": "2019-01-21T08:42:25.424076Z"
    }
   },
   "outputs": [],
   "source": [
    "category_3_feature = new[['card_id']]\n",
    "category_3_feature = category_3_feature.drop_duplicates().reset_index(drop=True)\n",
    "category_3_feature = pd.merge(category_3_feature, t2, on='card_id', how='left')\n",
    "category_3_feature = pd.merge(category_3_feature, t3, on='card_id', how='left')\n",
    "category_3_feature = pd.merge(category_3_feature, t4, on='card_id', how='left')\n",
    "category_3_feature = pd.merge(category_3_feature, t5, on='card_id', how='left')\n",
    "category_3_feature = pd.merge(category_3_feature, t6, on='card_id', how='left')\n",
    "category_3_feature = pd.merge(category_3_feature, t7, on='card_id', how='left')\n",
    "category_3_feature = pd.merge(category_3_feature, t8, on='card_id', how='left')\n",
    "category_3_feature = pd.merge(category_3_feature, t9, on='card_id', how='left')"
   ]
  },
  {
   "cell_type": "code",
   "execution_count": 296,
   "metadata": {
    "ExecuteTime": {
     "end_time": "2019-01-21T08:42:30.304026Z",
     "start_time": "2019-01-21T08:42:28.181701Z"
    }
   },
   "outputs": [],
   "source": [
    "category_3_feature.to_csv('data/new_category_3_feature.csv', index=None)"
   ]
  },
  {
   "cell_type": "markdown",
   "metadata": {},
   "source": [
    "## authorized特征——值得深入"
   ]
  },
  {
   "cell_type": "code",
   "execution_count": 297,
   "metadata": {
    "ExecuteTime": {
     "end_time": "2019-01-21T08:42:31.374164Z",
     "start_time": "2019-01-21T08:42:31.044046Z"
    }
   },
   "outputs": [],
   "source": [
    "new['authorized_flag'] = new['authorized_flag'].map(dict(zip(new['authorized_flag'].unique(), range(0, new['authorized_flag'].nunique()))))"
   ]
  },
  {
   "cell_type": "code",
   "execution_count": 298,
   "metadata": {
    "ExecuteTime": {
     "end_time": "2019-01-21T08:42:38.961875Z",
     "start_time": "2019-01-21T08:42:32.154077Z"
    }
   },
   "outputs": [],
   "source": [
    "authorized_feature = new[['card_id']]\n",
    "authorized_feature = authorized_feature.drop_duplicates().reset_index(drop=True)\n",
    "t = new[['merchant_id','authorized_flag', 'card_id']]\n",
    "t['same_authorized_count'] = 1\n",
    "t1 = t[['card_id', 'authorized_flag', 'same_authorized_count']].groupby(['card_id', 'authorized_flag']).sum()\n",
    "\n",
    "t2 = t1.reset_index().groupby('card_id').max()[['same_authorized_count']].reset_index()\n",
    "t2 = t2.rename(columns={'same_authorized_count': 'new_same_authorized_max'})\n",
    "t3 = t1.reset_index().groupby('card_id').mean()[['same_authorized_count']].reset_index()\n",
    "t3 = t3.rename(columns={'same_authorized_count': 'new_same_authorized_mean'})\n",
    "t4 = t1.reset_index().groupby('card_id').min()[['same_authorized_count']].reset_index()\n",
    "t4 = t4.rename(columns={'same_authorized_count': 'new_same_authorized_min'})\n",
    "t5 = t1.reset_index().groupby('card_id').median()[['same_authorized_count']].reset_index()\n",
    "t5 = t5.rename(columns={'same_authorized_count': 'new_same_authorized_median'})\n",
    "\n",
    "t6 = t[['card_id', 'authorized_flag']].groupby('card_id').mean().reset_index()\n",
    "t6 = t6.rename(columns={'authorized_flag': 'new_mean_authorized_value'})\n",
    "t7 = t[['card_id', 'authorized_flag']].groupby('card_id').max().reset_index()\n",
    "t7 = t7.rename(columns={'authorized_flag': 'new_max_authorized_value'})\n",
    "t8 = t[['card_id', 'authorized_flag']].groupby('card_id').median().reset_index()\n",
    "t8 = t8.rename(columns={'authorized_flag': 'new_median_authorized_value'})"
   ]
  },
  {
   "cell_type": "code",
   "execution_count": 299,
   "metadata": {
    "ExecuteTime": {
     "end_time": "2019-01-21T08:42:41.433266Z",
     "start_time": "2019-01-21T08:42:39.711870Z"
    }
   },
   "outputs": [],
   "source": [
    "authorized_feature = pd.merge(authorized_feature, t2, on='card_id', how='left')\n",
    "authorized_feature = pd.merge(authorized_feature, t3, on='card_id', how='left')\n",
    "authorized_feature = pd.merge(authorized_feature, t4, on='card_id', how='left')\n",
    "authorized_feature = pd.merge(authorized_feature, t5, on='card_id', how='left')\n",
    "authorized_feature = pd.merge(authorized_feature, t6, on='card_id', how='left')\n",
    "authorized_feature = pd.merge(authorized_feature, t7, on='card_id', how='left')\n",
    "authorized_feature = pd.merge(authorized_feature, t8, on='card_id', how='left')"
   ]
  },
  {
   "cell_type": "code",
   "execution_count": 300,
   "metadata": {
    "ExecuteTime": {
     "end_time": "2019-01-21T08:42:44.623734Z",
     "start_time": "2019-01-21T08:42:42.210189Z"
    }
   },
   "outputs": [],
   "source": [
    "authorized_feature.to_csv('data/new_authorized_feature.csv', index=None)"
   ]
  },
  {
   "cell_type": "markdown",
   "metadata": {},
   "source": [
    "## Month_lag特征——值得深入"
   ]
  },
  {
   "cell_type": "code",
   "execution_count": 301,
   "metadata": {
    "ExecuteTime": {
     "end_time": "2019-01-21T08:42:53.139958Z",
     "start_time": "2019-01-21T08:42:45.378715Z"
    }
   },
   "outputs": [],
   "source": [
    "month_lag_feature = new[['card_id']]\n",
    "month_lag_feature = month_lag_feature.drop_duplicates().reset_index(drop=True)\n",
    "t = new[['merchant_id','month_lag', 'card_id']]\n",
    "t['same_month_lag_count'] = 1\n",
    "t1 = t[['card_id', 'month_lag', 'same_month_lag_count']].groupby(['card_id', 'month_lag']).count()\n",
    "\n",
    "t2 = t1.reset_index().groupby('card_id').max()[['same_month_lag_count']].reset_index()\n",
    "t2 = t2.rename(columns={'same_month_lag_count': 'new_same_month_lag_max'})\n",
    "t3 = t1.reset_index().groupby('card_id').mean()[['same_month_lag_count']].reset_index()\n",
    "t3 = t3.rename(columns={'same_month_lag_count': 'new_same_month_lag_mean'})\n",
    "t4 = t1.reset_index().groupby('card_id').min()[['same_month_lag_count']].reset_index()\n",
    "t4 = t4.rename(columns={'same_month_lag_count': 'new_same_month_lag_min'})\n",
    "t5 = t1.reset_index().groupby('card_id').median()[['same_month_lag_count']].reset_index()\n",
    "t5 = t5.rename(columns={'same_month_lag_count': 'new_same_month_lag_median'})\n",
    "\n",
    "t6 = t[['card_id', 'month_lag']].groupby('card_id').mean().reset_index()\n",
    "t6 = t6.rename(columns={'month_lag': 'new_mean_month_lag_value'})\n",
    "t7 = t[['card_id', 'month_lag']].groupby('card_id').max().reset_index()\n",
    "t7 = t7.rename(columns={'month_lag': 'new_max_month_lag_value'})\n",
    "t8 = t[['card_id', 'month_lag']].groupby('card_id').min().reset_index()\n",
    "t8 = t8.rename(columns={'month_lag': 'new_min_month_lag_value'})\n",
    "t9 = t[['card_id', 'month_lag']].groupby('card_id').median().reset_index()\n",
    "t9 = t9.rename(columns={'month_lag': 'new_median_month_lag_value'})"
   ]
  },
  {
   "cell_type": "code",
   "execution_count": 302,
   "metadata": {
    "ExecuteTime": {
     "end_time": "2019-01-21T08:42:55.915535Z",
     "start_time": "2019-01-21T08:42:53.896934Z"
    }
   },
   "outputs": [],
   "source": [
    "month_lag_feature = pd.merge(month_lag_feature, t2, on='card_id', how='left')\n",
    "month_lag_feature = pd.merge(month_lag_feature, t3, on='card_id', how='left')\n",
    "month_lag_feature = pd.merge(month_lag_feature, t4, on='card_id', how='left')\n",
    "month_lag_feature = pd.merge(month_lag_feature, t5, on='card_id', how='left')\n",
    "month_lag_feature = pd.merge(month_lag_feature, t6, on='card_id', how='left')\n",
    "month_lag_feature = pd.merge(month_lag_feature, t7, on='card_id', how='left')\n",
    "month_lag_feature = pd.merge(month_lag_feature, t8, on='card_id', how='left')\n",
    "month_lag_feature = pd.merge(month_lag_feature, t9, on='card_id', how='left')"
   ]
  },
  {
   "cell_type": "code",
   "execution_count": 303,
   "metadata": {
    "ExecuteTime": {
     "end_time": "2019-01-21T08:42:56.648575Z",
     "start_time": "2019-01-21T08:42:56.635609Z"
    }
   },
   "outputs": [
    {
     "data": {
      "text/html": [
       "<div>\n",
       "<style scoped>\n",
       "    .dataframe tbody tr th:only-of-type {\n",
       "        vertical-align: middle;\n",
       "    }\n",
       "\n",
       "    .dataframe tbody tr th {\n",
       "        vertical-align: top;\n",
       "    }\n",
       "\n",
       "    .dataframe thead th {\n",
       "        text-align: right;\n",
       "    }\n",
       "</style>\n",
       "<table border=\"1\" class=\"dataframe\">\n",
       "  <thead>\n",
       "    <tr style=\"text-align: right;\">\n",
       "      <th></th>\n",
       "      <th>card_id</th>\n",
       "      <th>new_same_month_lag_max</th>\n",
       "      <th>new_same_month_lag_mean</th>\n",
       "      <th>new_same_month_lag_min</th>\n",
       "      <th>new_same_month_lag_median</th>\n",
       "      <th>new_mean_month_lag_value</th>\n",
       "      <th>new_max_month_lag_value</th>\n",
       "      <th>new_min_month_lag_value</th>\n",
       "      <th>new_median_month_lag_value</th>\n",
       "    </tr>\n",
       "  </thead>\n",
       "  <tbody>\n",
       "    <tr>\n",
       "      <th>0</th>\n",
       "      <td>C_ID_415bb3a509</td>\n",
       "      <td>3</td>\n",
       "      <td>2.0</td>\n",
       "      <td>1</td>\n",
       "      <td>2.0</td>\n",
       "      <td>1.250000</td>\n",
       "      <td>2</td>\n",
       "      <td>1</td>\n",
       "      <td>1.0</td>\n",
       "    </tr>\n",
       "    <tr>\n",
       "      <th>1</th>\n",
       "      <td>C_ID_ef55cf8d4b</td>\n",
       "      <td>15</td>\n",
       "      <td>11.0</td>\n",
       "      <td>7</td>\n",
       "      <td>11.0</td>\n",
       "      <td>1.318182</td>\n",
       "      <td>2</td>\n",
       "      <td>1</td>\n",
       "      <td>1.0</td>\n",
       "    </tr>\n",
       "    <tr>\n",
       "      <th>2</th>\n",
       "      <td>C_ID_241a01e9d9</td>\n",
       "      <td>2</td>\n",
       "      <td>2.0</td>\n",
       "      <td>2</td>\n",
       "      <td>2.0</td>\n",
       "      <td>2.000000</td>\n",
       "      <td>2</td>\n",
       "      <td>2</td>\n",
       "      <td>2.0</td>\n",
       "    </tr>\n",
       "    <tr>\n",
       "      <th>3</th>\n",
       "      <td>C_ID_a97720321f</td>\n",
       "      <td>10</td>\n",
       "      <td>6.0</td>\n",
       "      <td>2</td>\n",
       "      <td>6.0</td>\n",
       "      <td>1.166667</td>\n",
       "      <td>2</td>\n",
       "      <td>1</td>\n",
       "      <td>1.0</td>\n",
       "    </tr>\n",
       "    <tr>\n",
       "      <th>4</th>\n",
       "      <td>C_ID_fb0875cd28</td>\n",
       "      <td>4</td>\n",
       "      <td>3.5</td>\n",
       "      <td>3</td>\n",
       "      <td>3.5</td>\n",
       "      <td>1.428571</td>\n",
       "      <td>2</td>\n",
       "      <td>1</td>\n",
       "      <td>1.0</td>\n",
       "    </tr>\n",
       "  </tbody>\n",
       "</table>\n",
       "</div>"
      ],
      "text/plain": [
       "           card_id  new_same_month_lag_max  new_same_month_lag_mean  \\\n",
       "0  C_ID_415bb3a509                       3                      2.0   \n",
       "1  C_ID_ef55cf8d4b                      15                     11.0   \n",
       "2  C_ID_241a01e9d9                       2                      2.0   \n",
       "3  C_ID_a97720321f                      10                      6.0   \n",
       "4  C_ID_fb0875cd28                       4                      3.5   \n",
       "\n",
       "   new_same_month_lag_min  new_same_month_lag_median  \\\n",
       "0                       1                        2.0   \n",
       "1                       7                       11.0   \n",
       "2                       2                        2.0   \n",
       "3                       2                        6.0   \n",
       "4                       3                        3.5   \n",
       "\n",
       "   new_mean_month_lag_value  new_max_month_lag_value  new_min_month_lag_value  \\\n",
       "0                  1.250000                        2                        1   \n",
       "1                  1.318182                        2                        1   \n",
       "2                  2.000000                        2                        2   \n",
       "3                  1.166667                        2                        1   \n",
       "4                  1.428571                        2                        1   \n",
       "\n",
       "   new_median_month_lag_value  \n",
       "0                         1.0  \n",
       "1                         1.0  \n",
       "2                         2.0  \n",
       "3                         1.0  \n",
       "4                         1.0  "
      ]
     },
     "execution_count": 303,
     "metadata": {},
     "output_type": "execute_result"
    }
   ],
   "source": [
    "month_lag_feature.head()"
   ]
  },
  {
   "cell_type": "code",
   "execution_count": 304,
   "metadata": {
    "ExecuteTime": {
     "end_time": "2019-01-21T08:43:00.070423Z",
     "start_time": "2019-01-21T08:42:57.408542Z"
    }
   },
   "outputs": [],
   "source": [
    "month_lag_feature.to_csv('data/new_month_lag_feature.csv', index=None)"
   ]
  },
  {
   "cell_type": "code",
   "execution_count": null,
   "metadata": {},
   "outputs": [],
   "source": []
  }
 ],
 "metadata": {
  "kernelspec": {
   "display_name": "Python 3",
   "language": "python",
   "name": "python3"
  },
  "language_info": {
   "codemirror_mode": {
    "name": "ipython",
    "version": 3
   },
   "file_extension": ".py",
   "mimetype": "text/x-python",
   "name": "python",
   "nbconvert_exporter": "python",
   "pygments_lexer": "ipython3",
   "version": "3.6.5"
  },
  "toc": {
   "base_numbering": 1,
   "nav_menu": {},
   "number_sections": true,
   "sideBar": true,
   "skip_h1_title": false,
   "title_cell": "Table of Contents",
   "title_sidebar": "Contents",
   "toc_cell": false,
   "toc_position": {
    "height": "calc(100% - 180px)",
    "left": "10px",
    "top": "150px",
    "width": "201px"
   },
   "toc_section_display": true,
   "toc_window_display": true
  },
  "varInspector": {
   "cols": {
    "lenName": 16,
    "lenType": 16,
    "lenVar": 40
   },
   "kernels_config": {
    "python": {
     "delete_cmd_postfix": "",
     "delete_cmd_prefix": "del ",
     "library": "var_list.py",
     "varRefreshCmd": "print(var_dic_list())"
    },
    "r": {
     "delete_cmd_postfix": ") ",
     "delete_cmd_prefix": "rm(",
     "library": "var_list.r",
     "varRefreshCmd": "cat(var_dic_list()) "
    }
   },
   "types_to_exclude": [
    "module",
    "function",
    "builtin_function_or_method",
    "instance",
    "_Feature"
   ],
   "window_display": false
  }
 },
 "nbformat": 4,
 "nbformat_minor": 2
}
